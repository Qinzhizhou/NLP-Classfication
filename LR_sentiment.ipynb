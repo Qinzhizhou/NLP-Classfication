{
 "cells": [
  {
   "cell_type": "markdown",
   "metadata": {},
   "source": [
    "# [COM6513] Assignment 1: Sentiment Analysis with Logistic Regression\n",
    "\n",
    "### Instructor: Nikos Aletras\n",
    "\n",
    "\n",
    "The goal of this assignment is to develop and test a **text classification** system for **sentiment analysis**, in particular to predict the sentiment of movie reviews, i.e. positive or negative (binary classification).\n",
    "\n",
    "\n",
    "\n",
    "For that purpose, you will implement:\n",
    "\n",
    "\n",
    "- Text processing methods for extracting Bag-Of-Word features, using \n",
    "    - n-grams (BOW), i.e. unigrams, bigrams and trigrams to obtain vector representations of documents where n=1,2,3 respectively. Two vector weighting schemes should be tested: (1) raw frequencies (**1 mark**); (2) tf.idf (**1 mark**). \n",
    "    - character n-grams (BOCN). A character n-gram is a contiguous sequence of characters given a word, e.g. for n=2, 'coffee' is split into {'co', 'of', 'ff', 'fe', 'ee'}. Two vector weighting schemes should be tested: (1) raw frequencies (**1 mark**); (2) tf.idf (**1 mark**). **Tip: Note the large vocabulary size!** \n",
    "    - a combination of the two vector spaces (n-grams and character n-grams) choosing your best performing wighting respectively (i.e. raw or tfidf). (**1 mark**) **Tip: you should merge the two representations**\n",
    "\n",
    "\n",
    "\n",
    "- Binary Logistic Regression (LR) classifiers that will be able to accurately classify movie reviews trained with: \n",
    "    - (1) BOW-count (raw frequencies) \n",
    "    - (2) BOW-tfidf (tf.idf weighted)\n",
    "    - (3) BOCN-count\n",
    "    - (4) BOCN-tfidf\n",
    "    - (5) BOW+BOCN (best performing weighting; raw or tfidf)\n",
    "\n",
    "\n",
    "\n",
    "- The Stochastic Gradient Descent (SGD) algorithm to estimate the parameters of your Logistic Regression models. Your SGD algorithm should:\n",
    "    - Minimise the Binary Cross-entropy loss function (**1 mark**)\n",
    "    - Use L2 regularisation (**1 mark**)\n",
    "    - Perform multiple passes (epochs) over the training data (**1 mark**)\n",
    "    - Randomise the order of training data after each pass (**1 mark**)\n",
    "    - Stop training if the difference between the current and previous development loss is smaller than a threshold (**1 mark**)\n",
    "    - After each epoch print the training and development loss (**1 mark**)\n",
    "\n",
    "\n",
    "\n",
    "- Discuss how did you choose hyperparameters (e.g. learning rate and regularisation strength) for each LR model? You should use a table showing model performance using different set of hyperparameter values. (**2 marks). **Tip: Instead of using all possible combinations, you could perform a random sampling of combinations.**\n",
    "\n",
    "\n",
    "- After training each LR model, plot the learning process (i.e. training and validation loss in each epoch) using a line plot. Does your model underfit, overfit or is it about right? Explain why. (**1 mark**). \n",
    "\n",
    "\n",
    "- Identify and show the most important features (model interpretability) for each class (i.e. top-10 most positive and top-10 negative weights). Give the top 10 for each class and comment on whether they make sense (if they don't you might have a bug!). If you were to apply the classifier into a different domain such laptop reviews or restaurant reviews, do you think these features would generalise well? Can you propose what features the classifier could pick up as important in the new domain? (**2 marks**)\n",
    "\n",
    "\n",
    "- Provide well documented and commented code describing all of your choices. In general, you are free to make decisions about text processing (e.g. punctuation, numbers, vocabulary size) and hyperparameter values. We expect to see justifications and discussion for all of your choices (**2 marks**). \n",
    "\n",
    "\n",
    "- Provide efficient solutions by using Numpy arrays when possible (you can find tips in Lab 1 sheet). Executing the whole notebook with your code should not take more than 5 minutes on a any standard computer (e.g. Intel Core i5 CPU, 8 or 16GB RAM) excluding hyperparameter tuning runs (**2 marks**). \n",
    "\n",
    "\n",
    "\n",
    "\n",
    "\n",
    "\n",
    "### Data \n",
    "\n",
    "The data you will use are taken from here: [http://www.cs.cornell.edu/people/pabo/movie-review-data/](http://www.cs.cornell.edu/people/pabo/movie-review-data/) and you can find it in the `./data_sentiment` folder in CSV format:\n",
    "\n",
    "- `data_sentiment/train.csv`: contains 1,400 reviews, 700 positive (label: 1) and 700 negative (label: 0) to be used for training.\n",
    "- `data_sentiment/dev.csv`: contains 200 reviews, 100 positive and 100 negative to be used for hyperparameter selection and monitoring the training process.\n",
    "- `data_sentiment/test.csv`: contains 400 reviews, 200 positive and 200 negative to be used for testing.\n",
    "\n",
    "\n",
    "\n",
    "\n",
    "### Submission Instructions\n",
    "\n",
    "You should submit a Jupyter Notebook file (assignment1.ipynb) and an exported PDF version (you can do it from Jupyter: `File->Download as->PDF via Latex` or you can print it as PDF using your browser).\n",
    "\n",
    "You are advised to follow the code structure given in this notebook by completing all given funtions. You can also write any auxilliary/helper functions (and arguments for the functions) that you might need but note that you can provide a full solution without any such functions. Similarly, you can just use only the packages imported below but you are free to use any functionality from the [Python Standard Library](https://docs.python.org/2/library/index.html), NumPy, SciPy (excluding built-in softmax funtcions) and Pandas. You are not allowed to use any third-party library such as Scikit-learn (apart from metric functions already provided), NLTK, Spacy, Keras etc.. \n",
    "\n",
    "There is no single correct answer on what your accuracy should be, but correct implementations usually achieve F1-scores around 80\\% or higher. The quality of the analysis of the results is as important as the accuracy itself. \n",
    "\n",
    "This assignment will be marked out of 20. It is worth 20\\% of your final grade in the module.\n",
    "\n",
    "The deadline for this assignment is **23:59 on Mon, 14 Mar 2022** and it needs to be submitted via Blackboard. Standard departmental penalties for lateness will be applied. We use a range of strategies to **detect [unfair means](https://www.sheffield.ac.uk/ssid/unfair-means/index)**, including Turnitin which helps detect plagiarism. Use of unfair means would result in getting a failing grade.\n",
    "\n"
   ]
  },
  {
   "cell_type": "code",
   "execution_count": 1,
   "metadata": {
    "ExecuteTime": {
     "end_time": "2020-03-27T13:41:17.642162Z",
     "start_time": "2020-03-27T13:41:16.891940Z"
    }
   },
   "outputs": [],
   "source": [
    "import pandas as pd\n",
    "import numpy as np\n",
    "from collections import Counter\n",
    "import re\n",
    "import matplotlib.pyplot as plt\n",
    "from sklearn.metrics import accuracy_score, precision_score, recall_score, f1_score\n",
    "import random\n",
    "import math\n",
    "\n",
    "# fixing random seed for reproducibility\n",
    "random.seed(123)\n",
    "np.random.seed(123)\n"
   ]
  },
  {
   "cell_type": "markdown",
   "metadata": {},
   "source": [
    "## Load Raw texts and labels into arrays\n",
    "\n",
    "First, you need to load the training, development and test sets from their corresponding CSV files (tip: you can use Pandas dataframes)."
   ]
  },
  {
   "cell_type": "code",
   "execution_count": 2,
   "metadata": {
    "ExecuteTime": {
     "end_time": "2020-02-15T14:17:28.145788Z",
     "start_time": "2020-02-15T14:17:28.066100Z"
    },
    "scrolled": true
   },
   "outputs": [],
   "source": [
    "df_train = pd.read_csv('data_sentiment/train.csv',names=['raw_text', 'class'])# train set\n",
    "df_test = pd.read_csv('data_sentiment/test.csv', names=['raw_text', 'class'])# test set\n",
    "df_dev = pd.read_csv('data_sentiment/dev.csv', names=['raw_text', 'class'])# develpment set"
   ]
  },
  {
   "cell_type": "markdown",
   "metadata": {},
   "source": [
    "If you use Pandas you can see a sample of the data."
   ]
  },
  {
   "cell_type": "code",
   "execution_count": 3,
   "metadata": {
    "ExecuteTime": {
     "end_time": "2020-02-15T14:17:28.900892Z",
     "start_time": "2020-02-15T14:17:28.891221Z"
    }
   },
   "outputs": [
    {
     "data": {
      "text/html": [
       "<div>\n",
       "<style scoped>\n",
       "    .dataframe tbody tr th:only-of-type {\n",
       "        vertical-align: middle;\n",
       "    }\n",
       "\n",
       "    .dataframe tbody tr th {\n",
       "        vertical-align: top;\n",
       "    }\n",
       "\n",
       "    .dataframe thead th {\n",
       "        text-align: right;\n",
       "    }\n",
       "</style>\n",
       "<table border=\"1\" class=\"dataframe\">\n",
       "  <thead>\n",
       "    <tr style=\"text-align: right;\">\n",
       "      <th></th>\n",
       "      <th>raw_text</th>\n",
       "      <th>class</th>\n",
       "    </tr>\n",
       "  </thead>\n",
       "  <tbody>\n",
       "    <tr>\n",
       "      <th>0</th>\n",
       "      <td>note : some may consider portions of the follo...</td>\n",
       "      <td>1</td>\n",
       "    </tr>\n",
       "    <tr>\n",
       "      <th>1</th>\n",
       "      <td>note : some may consider portions of the follo...</td>\n",
       "      <td>1</td>\n",
       "    </tr>\n",
       "    <tr>\n",
       "      <th>2</th>\n",
       "      <td>every once in a while you see a film that is s...</td>\n",
       "      <td>1</td>\n",
       "    </tr>\n",
       "    <tr>\n",
       "      <th>3</th>\n",
       "      <td>when i was growing up in 1970s , boys in my sc...</td>\n",
       "      <td>1</td>\n",
       "    </tr>\n",
       "    <tr>\n",
       "      <th>4</th>\n",
       "      <td>the muppet movie is the first , and the best m...</td>\n",
       "      <td>1</td>\n",
       "    </tr>\n",
       "  </tbody>\n",
       "</table>\n",
       "</div>"
      ],
      "text/plain": [
       "                                            raw_text  class\n",
       "0  note : some may consider portions of the follo...      1\n",
       "1  note : some may consider portions of the follo...      1\n",
       "2  every once in a while you see a film that is s...      1\n",
       "3  when i was growing up in 1970s , boys in my sc...      1\n",
       "4  the muppet movie is the first , and the best m...      1"
      ]
     },
     "execution_count": 3,
     "metadata": {},
     "output_type": "execute_result"
    }
   ],
   "source": [
    "df_train.head(5)"
   ]
  },
  {
   "cell_type": "markdown",
   "metadata": {},
   "source": [
    "The next step is to put the raw texts into Python lists and their corresponding labels into NumPy arrays:\n"
   ]
  },
  {
   "cell_type": "code",
   "execution_count": 4,
   "metadata": {
    "ExecuteTime": {
     "end_time": "2020-02-15T14:17:31.115577Z",
     "start_time": "2020-02-15T14:17:31.108038Z"
    }
   },
   "outputs": [],
   "source": [
    "def text_to_list(df):\n",
    "    return (list(df['raw_text']))\n",
    "def class_to_array(df):\n",
    "    return (np.array(df['class']))"
   ]
  },
  {
   "cell_type": "code",
   "execution_count": 5,
   "metadata": {},
   "outputs": [],
   "source": [
    "text_dev = text_to_list(df_dev)\n",
    "text_train = text_to_list(df_train)\n",
    "text_test = text_to_list(df_test)\n",
    "\n",
    "label_dev = class_to_array(df_dev)\n",
    "label_train = class_to_array(df_train)\n",
    "label_test = class_to_array(df_test)"
   ]
  },
  {
   "cell_type": "markdown",
   "metadata": {},
   "source": [
    "# Vector Representations of Text \n",
    "\n",
    "\n",
    "To train and test Logisitc Regression models, you first need to obtain vector representations for all documents given a vocabulary of features (unigrams, bigrams, trigrams).\n",
    "\n",
    "\n",
    "## Text Pre-Processing Pipeline\n",
    "\n",
    "To obtain a vocabulary of features, you should: \n",
    "- tokenise all texts into a list of unigrams (tip: using a regular expression) \n",
    "- remove stop words (using the one provided or one of your preference) \n",
    "- compute bigrams, trigrams given the remaining unigrams (or character ngrams from the unigrams)\n",
    "- remove ngrams appearing in less than K documents\n",
    "- use the remaining to create a vocabulary of unigrams, bigrams and trigrams (or character n-grams). You can keep top N if you encounter memory issues.\n"
   ]
  },
  {
   "cell_type": "code",
   "execution_count": 6,
   "metadata": {
    "ExecuteTime": {
     "end_time": "2020-02-15T14:17:31.860420Z",
     "start_time": "2020-02-15T14:17:31.855439Z"
    }
   },
   "outputs": [],
   "source": [
    "stop_words = ['a','in','on','at','and','or', \n",
    "              'to', 'the', 'of', 'an', 'by', \n",
    "              'as', 'is', 'was', 'were', 'been', 'be', \n",
    "              'are','for', 'this', 'that', 'these', 'those', 'you', 'i',\n",
    "             'it', 'he', 'she', 'we', 'they', 'will', 'have', 'has',\n",
    "              'do', 'did', 'can', 'could', 'who', 'which', 'what', \n",
    "             'his', 'her', 'they', 'them', 'from', 'with', 'its']"
   ]
  },
  {
   "cell_type": "markdown",
   "metadata": {},
   "source": [
    "### N-gram extraction from a document\n",
    "\n",
    "You first need to implement the `extract_ngrams` function. It takes as input:\n",
    "- `x_raw`: a string corresponding to the raw text of a document\n",
    "- `ngram_range`: a tuple of two integers denoting the type of ngrams you want to extract, e.g. (1,2) denotes extracting unigrams and bigrams.\n",
    "- `token_pattern`: a string to be used within a regular expression to extract all tokens. Note that data is already tokenised so you could opt for a simple white space tokenisation.\n",
    "- `stop_words`: a list of stop words\n",
    "- `vocab`: a given vocabulary. It should be used to extract specific features.\n",
    "- `char_ngrams`: boolean. If true the function extracts character n-grams\n",
    "\n",
    "and returns:\n",
    "\n",
    "- `x': a list of all extracted features.\n",
    "\n",
    "See the examples below to see how this function should work."
   ]
  },
  {
   "cell_type": "code",
   "execution_count": 7,
   "metadata": {
    "ExecuteTime": {
     "end_time": "2020-02-15T14:17:33.169090Z",
     "start_time": "2020-02-15T14:17:33.161268Z"
    }
   },
   "outputs": [],
   "source": [
    "def extract_ngrams(x_raw, # raw text\n",
    "                   ngram_range=(1,3), # a tuple of two integers\n",
    "                   token_pattern=r'\\b[A-Za-z]{2,}\\b',# \"regular expression\" r\"[^a-zA-Z0-9]\"\n",
    "                   stop_words= stop_words, \n",
    "                   vocab=None,\n",
    "                   char_ngrams=False):\n",
    "    \n",
    "    tokens = [] # initial the tokens into an empty list\n",
    "    words = [word.lower() for word in re.findall(token_pattern, x_raw)]# tokenisaztion and transform in regular expression\n",
    "    for i in range(len(words)):\n",
    "        words[i] = words[i].lower() \n",
    "        if  words[i] not in stop_words   : # search ever word not in stoplist  in re.findall(token_pattern, x_raw)\n",
    "            tokens.append(words[i]) # then append it to the tokens list in lower case\n",
    "    if char_ngrams == False:\n",
    "        n_grams = [] # initial the n_grames\n",
    "        for n in range(ngram_range[0], ngram_range[-1] + 1):\n",
    "            if n == 1:\n",
    "                n_grams += tokens\n",
    "            else:\n",
    "                # Create bigram / trigram by unzipping list\n",
    "                n_grams += zip(*(tokens[i:] for i in range(n))) # zip the list of token[1] to token[1+n], then token[2], token[2+n]\n",
    "        return [ngram for ngram in n_grams if ngram in vocab] if vocab else n_grams\n",
    "    \n",
    "    if char_ngrams == True:\n",
    "        n_grams = [] # initial the n_grames\n",
    "        for word in tokens:\n",
    "            for n in range(ngram_range[0], ngram_range[-1] + 1):\n",
    "                if n == 1:\n",
    "                    n_grams += [word[i] for i in range(len(word))]\n",
    "                else:\n",
    "                # Create bigram / trigram by unzipping list\n",
    "                    n_grams += zip(*(word[i:] for i in range(n))) # zip the list of token[1] to token[1+n], then token[2], token[2+n]\n",
    "        return [ngram for ngram in n_grams if ngram in vocab] if vocab else n_grams"
   ]
  },
  {
   "cell_type": "code",
   "execution_count": 8,
   "metadata": {},
   "outputs": [
    {
     "data": {
      "text/plain": [
       "['great', ('great', 'movie')]"
      ]
     },
     "execution_count": 8,
     "metadata": {},
     "output_type": "execute_result"
    }
   ],
   "source": [
    "extract_ngrams('this is a Great movie! to watch',\n",
    "               ngram_range=(1, 3),\n",
    "               vocab={'great', ('great', 'movie')})"
   ]
  },
  {
   "cell_type": "markdown",
   "metadata": {},
   "source": [
    "Note that it is OK to represent n-grams using lists instead of tuples: e.g. `['great', ['great', 'movie']]`"
   ]
  },
  {
   "cell_type": "markdown",
   "metadata": {},
   "source": [
    "For extracting character n-grams the function should work as follows:"
   ]
  },
  {
   "cell_type": "code",
   "execution_count": 9,
   "metadata": {},
   "outputs": [
    {
     "data": {
      "text/plain": [
       "[('great', 'movie'),\n",
       " ('movie', 'movie'),\n",
       " ('movie', 'watch'),\n",
       " ('great', 'movie', 'movie'),\n",
       " ('movie', 'movie', 'watch'),\n",
       " ('great', 'movie', 'movie', 'watch')]"
      ]
     },
     "execution_count": 9,
     "metadata": {},
     "output_type": "execute_result"
    }
   ],
   "source": [
    "extract_ngrams(\"This is great movie movie  to watch\", \n",
    "               ngram_range=(2,4), \n",
    "               stop_words=stop_words,\n",
    "               char_ngrams=False)"
   ]
  },
  {
   "cell_type": "code",
   "execution_count": 10,
   "metadata": {},
   "outputs": [
    {
     "data": {
      "text/plain": [
       "[('g', 'r'),\n",
       " ('r', 'e'),\n",
       " ('e', 'a'),\n",
       " ('a', 't'),\n",
       " ('m', 'o'),\n",
       " ('o', 'v'),\n",
       " ('v', 'i'),\n",
       " ('i', 'e'),\n",
       " ('w', 'a'),\n",
       " ('a', 't'),\n",
       " ('t', 'c'),\n",
       " ('c', 'h')]"
      ]
     },
     "execution_count": 10,
     "metadata": {},
     "output_type": "execute_result"
    }
   ],
   "source": [
    "extract_ngrams(\"This is great movie to watch\", \n",
    "               ngram_range=(2,2), \n",
    "               stop_words=stop_words,\n",
    "               char_ngrams=True)"
   ]
  },
  {
   "cell_type": "markdown",
   "metadata": {},
   "source": [
    "### Create a vocabulary \n",
    "\n",
    "The `get_vocab` function will be used to (1) create a vocabulary of ngrams; (2) count the document frequencies of ngrams; (3) their raw frequency. It takes as input:\n",
    "- `X_raw`: a list of strings each corresponding to the raw text of a document\n",
    "- `ngram_range`: a tuple of two integers denoting the type of ngrams you want to extract, e.g. (1,2) denotes extracting unigrams and bigrams.\n",
    "- `token_pattern`: a string to be used within a regular expression to extract all tokens. Note that data is already tokenised so you could opt for a simple white space tokenisation.\n",
    "- `stop_words`: a list of stop words\n",
    "- `min_df`: keep ngrams with a minimum document frequency.\n",
    "- `keep_topN`: keep top-N more frequent ngrams.\n",
    "\n",
    "and returns:\n",
    "\n",
    "- `vocab`: a set of the n-grams that will be used as features.\n",
    "- `df`: a Counter (or dict) that contains ngrams as keys and their corresponding document frequency as values.\n",
    "- `ngram_counts`: counts of each ngram in vocab\n",
    "\n",
    "Hint: it should make use of the `extract_ngrams` function."
   ]
  },
  {
   "cell_type": "code",
   "execution_count": 11,
   "metadata": {},
   "outputs": [],
   "source": [
    "def get_vocab(X_raw,\n",
    "              ngram_range=(1, 3),\n",
    "              token_pattern=r'\\b[A-Za-z]{2,}\\b',\n",
    "              min_df=1,\n",
    "              keep_topN=None,\n",
    "              stop_words=stop_words,\n",
    "              char_ngrams = False):\n",
    "    \n",
    "    # df: Counter (or dict) that contains ngrams as keys and their corresponding document frequency as values.\n",
    "    # ngram_counts: counts of each ngram in vocab\n",
    "    df = Counter()\n",
    "    ngram_counts = Counter()\n",
    "\n",
    "    for one_review in X_raw:\n",
    "        # make the n_gram of each review in set of texts in a list\n",
    "        ngrams = extract_ngrams(one_review, ngram_range, token_pattern, stop_words, char_ngrams = char_ngrams)\n",
    "        \n",
    "        # Count document frequency and using update to counter for each n_gram\n",
    "        df.update(set(ngrams)) # term freq\n",
    "        # Count ngram frequency, we count the ngram in ngrams if it achieve a higher freq > min_df\n",
    "        ngram_counts.update(ngram for ngram in ngrams if df[ngram] >= min_df) # total\n",
    "   \n",
    "    # Extract ngram into vocab set\n",
    "    vocab = {ngram for ngram, counts in ngram_counts.most_common(keep_topN)}\n",
    "\n",
    "    return vocab, df, ngram_counts"
   ]
  },
  {
   "cell_type": "markdown",
   "metadata": {},
   "source": [
    "Now you should use `get_vocab` to create your vocabulary and get document and raw frequencies of n-grams:"
   ]
  },
  {
   "cell_type": "code",
   "execution_count": 12,
   "metadata": {},
   "outputs": [],
   "source": [
    "vocab, df, ngram_counts = get_vocab(text_train, keep_topN=5000)"
   ]
  },
  {
   "cell_type": "code",
   "execution_count": 13,
   "metadata": {},
   "outputs": [
    {
     "name": "stdout",
     "output_type": "stream",
     "text": [
      "Vocab: \n",
      " ['surprise', 'placed', 'ways', 'viewer', ('tv', 'show'), 'believe', 'wonderful', 'kate', 'missed', ('julia', 'roberts'), 'going', 'grace', 'rare', 'hack', 'francis', 'leaves', 'menace', 'center', 'flubber', 'endings', 'considering', ('him', 'but'), 'looks', 'midst', 'repetitive', 'cuts', ('good', 'hunting'), 'seek', 'took', 'fishburne', 'ryan', 'involved', ('but', 'seems'), 'lloyd', 'non', ('but', 'after'), 'design', 'someone', 'irony', 'raimi', 'rising', 'terrible', 'brief', ('characters', 'all'), 'unexpected', 'phantom', 'favor', ('original', 'film'), 'discovery', 'yeah']\n",
      "\n",
      " Raw frequencies of n-grams: \n",
      " [('but', 1334), ('one', 1247), ('film', 1231), ('not', 1170), ('all', 1117), ('movie', 1095), ('out', 1080), ('so', 1047), ('there', 1046), ('like', 1043)]\n",
      "\n",
      " Counts of each ngram in vocab \n",
      " [('film', 6769), ('but', 6156), ('one', 4156), ('movie', 4125), ('not', 3934), ('all', 3055), ('there', 2641), ('like', 2616), ('so', 2591), ('out', 2580)]\n"
     ]
    }
   ],
   "source": [
    "print(\"Vocab: \\n\", list(vocab)[:50])\n",
    "print(\"\\n Raw frequencies of n-grams: \\n\", df.most_common()[:10])\n",
    "print(\"\\n Counts of each ngram in vocab \\n\", ngram_counts.most_common()[:10])"
   ]
  },
  {
   "cell_type": "markdown",
   "metadata": {},
   "source": [
    "Then, you need to create 2 dictionaries: (1) vocabulary id -> word; and  (2) word -> vocabulary id so you can use them for reference:"
   ]
  },
  {
   "cell_type": "code",
   "execution_count": 14,
   "metadata": {},
   "outputs": [],
   "source": [
    "#create a vocab_id to word dictionary\n",
    "id2word = dict(enumerate(vocab))\n",
    "word2id = {i:w for w, i in id2word.items()}"
   ]
  },
  {
   "cell_type": "markdown",
   "metadata": {},
   "source": [
    "Now you should be able to extract n-grams for each text in the training, development and test sets:"
   ]
  },
  {
   "cell_type": "code",
   "execution_count": 15,
   "metadata": {
    "ExecuteTime": {
     "end_time": "2020-02-15T14:17:40.213253Z",
     "start_time": "2020-02-15T14:17:39.329147Z"
    }
   },
   "outputs": [],
   "source": [
    "train_ngram = (extract_ngrams(review, ngram_range=(1, 3), vocab = vocab)for review in text_train)\n",
    "test_ngram = (extract_ngrams(review, ngram_range=(1, 3), vocab = vocab)for review in text_test)\n",
    "dev_ngram = (extract_ngrams(review, ngram_range=(1, 3), vocab = vocab)for review in text_dev)"
   ]
  },
  {
   "cell_type": "markdown",
   "metadata": {},
   "source": [
    "## Vectorise documents "
   ]
  },
  {
   "cell_type": "markdown",
   "metadata": {},
   "source": [
    "Next, write a function `vectoriser` to obtain Bag-of-ngram representations for a list of documents. The function should take as input:\n",
    "- `X_ngram`: a list of texts (documents), where each text is represented as list of n-grams in the `vocab`\n",
    "- `vocab`: a set of n-grams to be used for representing the documents\n",
    "\n",
    "and return:\n",
    "- `X_vec`: an array with dimensionality Nx|vocab| where N is the number of documents and |vocab| is the size of the vocabulary. Each element of the array should represent the frequency of a given n-gram in a document.\n"
   ]
  },
  {
   "cell_type": "code",
   "execution_count": 16,
   "metadata": {},
   "outputs": [],
   "source": [
    "def vectorise(X_ngram, vocab):\n",
    "    X_vec = []\n",
    "    for ngrams in X_ngram: \n",
    "        count_ngram = Counter(ngrams)\n",
    "        X_vec.append([count_ngram[v] for v in vocab]) # The list will follow the order of vocab \n",
    "    return np.array(X_vec)"
   ]
  },
  {
   "cell_type": "markdown",
   "metadata": {},
   "source": [
    "Finally, use `vectorise` to obtain document vectors for each document in the train, development and test set. You should extract both count and tf.idf vectors respectively:"
   ]
  },
  {
   "cell_type": "markdown",
   "metadata": {},
   "source": [
    "#### Count vectors"
   ]
  },
  {
   "cell_type": "code",
   "execution_count": 17,
   "metadata": {
    "ExecuteTime": {
     "end_time": "2020-02-15T14:17:41.999574Z",
     "start_time": "2020-02-15T14:17:40.376534Z"
    }
   },
   "outputs": [],
   "source": [
    "train_count = vectorise(train_ngram, vocab)\n",
    "dev_count = vectorise(dev_ngram, vocab)\n",
    "test_count = vectorise(test_ngram, vocab)"
   ]
  },
  {
   "cell_type": "code",
   "execution_count": 18,
   "metadata": {},
   "outputs": [
    {
     "data": {
      "text/plain": [
       "((1400, 5000), (200, 5000), (400, 5000))"
      ]
     },
     "execution_count": 18,
     "metadata": {},
     "output_type": "execute_result"
    }
   ],
   "source": [
    "train_count.shape, dev_count.shape, test_count.shape"
   ]
  },
  {
   "cell_type": "markdown",
   "metadata": {},
   "source": [
    "#### TF.IDF vectors\n",
    "\n",
    "First compute `idfs` an array containing inverted document frequencies (Note: its elements should correspond to your `vocab`)"
   ]
  },
  {
   "cell_type": "code",
   "execution_count": 19,
   "metadata": {},
   "outputs": [],
   "source": [
    "def tfidf(count_matrix, vocab, df):\n",
    "    df_voc = []\n",
    "    idfs = []\n",
    "    for v in vocab:\n",
    "        df_voc.append(df[v])# follow the vocab order,plus freq as order\n",
    "  \n",
    "    for freq in df_voc:# some word in vacab may not appear in test or val text,so need identify\n",
    "        if freq != 0:\n",
    "            idfs.append(np.log10(len(count_matrix)/ freq))# do the calc\n",
    "        else:\n",
    "            idfs.append(0)# if the document freq is 0, cant divide, here add 0\n",
    "    idf_matrix = np.array(idfs)   \n",
    "    idf = np.array([np.log10(len(count_matrix)/freq)]) #idf matrix\n",
    "    \n",
    "    tfidf = np.log10(1 + count_matrix) * idf_matrix #tfidf\n",
    "    return tfidf"
   ]
  },
  {
   "cell_type": "code",
   "execution_count": 20,
   "metadata": {},
   "outputs": [],
   "source": [
    "_,dev_df, _ = get_vocab(text_dev, keep_topN=5000)\n",
    "_,test_df,_ = get_vocab(text_test, keep_topN=5000)"
   ]
  },
  {
   "cell_type": "markdown",
   "metadata": {},
   "source": [
    "Then transform your count vectors to tf.idf vectors:"
   ]
  },
  {
   "cell_type": "code",
   "execution_count": 21,
   "metadata": {},
   "outputs": [],
   "source": [
    "train_tfidf = tfidf(train_count, vocab, df)\n",
    "test_tfidf = tfidf(test_count, vocab, dev_df)\n",
    "dev_tfidf = tfidf(dev_count, vocab, test_df)"
   ]
  },
  {
   "cell_type": "markdown",
   "metadata": {},
   "source": [
    "# Binary Logistic Regression\n",
    "\n",
    "After obtaining vector representations of the data, now you are ready to implement Binary Logistic Regression for classifying sentiment."
   ]
  },
  {
   "cell_type": "markdown",
   "metadata": {},
   "source": [
    "First, you need to implement the `sigmoid` function. It takes as input:\n",
    "\n",
    "- `z`: a real number or an array of real numbers \n",
    "\n",
    "and returns:\n",
    "\n",
    "- `sig`: the sigmoid of `z`"
   ]
  },
  {
   "cell_type": "code",
   "execution_count": 22,
   "metadata": {
    "ExecuteTime": {
     "end_time": "2020-02-15T14:17:44.160661Z",
     "start_time": "2020-02-15T14:17:44.157902Z"
    }
   },
   "outputs": [],
   "source": [
    "def sigmoid(z):\n",
    "    sig = 1 / (1 + np.exp(-z))\n",
    "    return sig"
   ]
  },
  {
   "cell_type": "markdown",
   "metadata": {},
   "source": [
    "Then, implement the `predict_proba` function to obtain prediction probabilities. It takes as input:\n",
    "\n",
    "- `X`: an array of inputs, i.e. documents represented by bag-of-ngram vectors ($N \\times |vocab|$)\n",
    "- `weights`: a 1-D array of the model's weights $(1, |vocab|)$\n",
    "\n",
    "and returns:\n",
    "\n",
    "- `preds_proba`: the prediction probabilities of X given the weights"
   ]
  },
  {
   "cell_type": "code",
   "execution_count": 23,
   "metadata": {
    "ExecuteTime": {
     "end_time": "2020-02-15T14:17:44.718566Z",
     "start_time": "2020-02-15T14:17:44.715017Z"
    }
   },
   "outputs": [],
   "source": [
    "def predict_proba(X, weights):\n",
    "    preds_proba = sigmoid(np.dot(X, weights)) # sigmid (z = w*x) \n",
    "    return preds_proba # returns a probability of positive results"
   ]
  },
  {
   "cell_type": "markdown",
   "metadata": {},
   "source": [
    "Then, implement the `predict_class` function to obtain the most probable class for each vector in an array of input vectors. It takes as input:\n",
    "\n",
    "- `X`: an array of documents represented by bag-of-ngram vectors ($N \\times |vocab|$)\n",
    "- `weights`: a 1-D array of the model's weights $(1, |vocab|)$\n",
    "\n",
    "and returns:\n",
    "\n",
    "- `preds_class`: the predicted class for each x in X given the weights"
   ]
  },
  {
   "cell_type": "code",
   "execution_count": 24,
   "metadata": {
    "ExecuteTime": {
     "end_time": "2020-02-15T14:17:45.002125Z",
     "start_time": "2020-02-15T14:17:44.998668Z"
    }
   },
   "outputs": [],
   "source": [
    "def predict_class(X, weights):\n",
    "    preds_class = []\n",
    "    for prob in predict_proba(X, weights):\n",
    "        if prob < 0.5:\n",
    "            preds_class.append(0)# Negative prob < 0.5\n",
    "        else:\n",
    "            preds_class.append(1)# Postive\n",
    "    return preds_class"
   ]
  },
  {
   "cell_type": "markdown",
   "metadata": {},
   "source": [
    "To learn the weights from data, we need to minimise the binary cross-entropy loss. Implement `binary_loss` that takes as input:\n",
    "\n",
    "- `X`: input vectors\n",
    "- `Y`: labels\n",
    "- `weights`: model weights\n",
    "- `alpha`: regularisation strength\n",
    "\n",
    "and return:\n",
    "\n",
    "- `l`: the loss score"
   ]
  },
  {
   "cell_type": "code",
   "execution_count": 25,
   "metadata": {},
   "outputs": [],
   "source": [
    "def binary_loss(X, Y, weights, alpha=0.00001):\n",
    "    l = -Y * np.log(predict_proba(X, weights)) - (1 - Y) * np.log(1 - predict_proba(X, weights))\n",
    "    # L2 Regularisation\n",
    "    + alpha * weights.dot(weights)\n",
    "\n",
    "    # Return the average loss\n",
    "    return np.mean(l)"
   ]
  },
  {
   "cell_type": "markdown",
   "metadata": {},
   "source": [
    "Now, you can implement Stochastic Gradient Descent to learn the weights of your sentiment classifier. The `SGD` function takes as input:\n",
    "\n",
    "- `X_tr`: array of training data (vectors)\n",
    "- `Y_tr`: labels of `X_tr`\n",
    "- `X_dev`: array of development (i.e. validation) data (vectors)\n",
    "- `Y_dev`: labels of `X_dev`\n",
    "- `lr`: learning rate\n",
    "- `alpha`: regularisation strength\n",
    "- `epochs`: number of full passes over the training data\n",
    "- `tolerance`: stop training if the difference between the current and previous validation loss is smaller than a threshold\n",
    "- `print_progress`: flag for printing the training progress (train/validation loss)\n",
    "\n",
    "\n",
    "and returns:\n",
    "\n",
    "- `weights`: the weights learned\n",
    "- `training_loss_history`: an array with the average losses of the whole training set after each epoch\n",
    "- `validation_loss_history`: an array with the average losses of the whole development set after each epoch"
   ]
  },
  {
   "cell_type": "code",
   "execution_count": 26,
   "metadata": {
    "ExecuteTime": {
     "end_time": "2020-02-15T14:17:45.968510Z",
     "start_time": "2020-02-15T14:17:45.958185Z"
    }
   },
   "outputs": [],
   "source": [
    "def SGD(X_tr,\n",
    "        Y_tr, \n",
    "        X_dev=[], \n",
    "        Y_dev=[],\n",
    "        lr=0.1, \n",
    "        alpha=0.00001, \n",
    "        epochs=20, \n",
    "        tolerance=0.0000001):\n",
    "    \n",
    "    weights = np.zeros(X_tr.shape[1])\n",
    "    training_loss_history = []\n",
    "    validation_loss_history = []\n",
    "    \n",
    "    train_set =np.column_stack((X_tr, Y_tr.T)) # comine label and matrix together then we shuffle\n",
    "    np.random.seed(123)\n",
    "    \n",
    "    for epoch in range(epochs):\n",
    "        # Randomise order in train_docs\n",
    "        np.random.shuffle(train_set)\n",
    "    \n",
    "        for each_review in train_set:\n",
    "            weights -= lr * (each_review[:-1] * (predict_proba(each_review[:-1], weights) - each_review[-1]) + 2 * alpha * weights)\n",
    "        \n",
    "        loss_tr = binary_loss(X_tr, Y_tr, weights, alpha)\n",
    "        loss_dev = binary_loss(X_dev, Y_dev, weights, alpha)\n",
    "        \n",
    "        # Monitor training and validation loss\n",
    "        training_loss_history.append(loss_tr)\n",
    "        validation_loss_history.append(loss_dev)\n",
    "        \n",
    "        print(f'Epoch: {epoch} | Training loss: {loss_tr} | Validation loss: {loss_dev}')\n",
    "        \n",
    "        # The condtion of break the loops\n",
    "        # perivous validation loss - curent validation loss < t\n",
    "        # Early stopping\n",
    "        if epoch > 1 and validation_loss_history[epoch-1] - loss_dev < tolerance:\n",
    "            print('Finshed the traning at epoch: ', epoch)\n",
    "            break\n",
    "        \n",
    "    \n",
    "    return weights, training_loss_history, validation_loss_history\n"
   ]
  },
  {
   "cell_type": "markdown",
   "metadata": {},
   "source": [
    "## Train and Evaluate Logistic Regression with Count vectors\n",
    "\n",
    "First train the model using SGD:"
   ]
  },
  {
   "cell_type": "code",
   "execution_count": 27,
   "metadata": {},
   "outputs": [
    {
     "name": "stdout",
     "output_type": "stream",
     "text": [
      "Epoch: 0 | Training loss: 0.5651866631704491 | Validation loss: 0.6024006067942191\n",
      "Epoch: 1 | Training loss: 0.4999545179540615 | Validation loss: 0.5599171154730914\n",
      "Epoch: 2 | Training loss: 0.45632346448935374 | Validation loss: 0.5304666219796723\n",
      "Epoch: 3 | Training loss: 0.4260292184913984 | Validation loss: 0.5115314455774574\n",
      "Epoch: 4 | Training loss: 0.3984410902436234 | Validation loss: 0.49579715622106746\n",
      "Epoch: 5 | Training loss: 0.3778214264744614 | Validation loss: 0.4852771584186815\n",
      "Epoch: 6 | Training loss: 0.3590132897579933 | Validation loss: 0.4730877118480666\n",
      "Epoch: 7 | Training loss: 0.3447597987387101 | Validation loss: 0.4668898671860971\n",
      "Epoch: 8 | Training loss: 0.3299422296022036 | Validation loss: 0.4570735503285534\n",
      "Epoch: 9 | Training loss: 0.31917120177056785 | Validation loss: 0.4531887437317147\n",
      "Epoch: 10 | Training loss: 0.30918347511660194 | Validation loss: 0.44890855818991665\n",
      "Epoch: 11 | Training loss: 0.29744412734370307 | Validation loss: 0.44116721042891804\n",
      "Epoch: 12 | Training loss: 0.2883699569228964 | Validation loss: 0.43643396495232184\n",
      "Epoch: 13 | Training loss: 0.2802626574048192 | Validation loss: 0.43288004344907227\n",
      "Epoch: 14 | Training loss: 0.27302045028718325 | Validation loss: 0.4299336970058264\n",
      "Epoch: 15 | Training loss: 0.26578806234892055 | Validation loss: 0.42613060052555696\n",
      "Epoch: 16 | Training loss: 0.25940378015018734 | Validation loss: 0.42321833998140185\n",
      "Epoch: 17 | Training loss: 0.2534910619045258 | Validation loss: 0.42091494251758904\n",
      "Epoch: 18 | Training loss: 0.24794772177261093 | Validation loss: 0.4183317336176021\n",
      "Epoch: 19 | Training loss: 0.2424381949903916 | Validation loss: 0.41607754483627346\n",
      "Epoch: 20 | Training loss: 0.23745003236154552 | Validation loss: 0.41397446788667097\n",
      "Epoch: 21 | Training loss: 0.23305742578115907 | Validation loss: 0.41250966744863665\n",
      "Epoch: 22 | Training loss: 0.22848272143281168 | Validation loss: 0.4106753158564078\n",
      "Epoch: 23 | Training loss: 0.22444760898600996 | Validation loss: 0.40908575957721566\n",
      "Epoch: 24 | Training loss: 0.22239148913452056 | Validation loss: 0.41029244520316327\n",
      "Finshed the traning at epoch:  24\n"
     ]
    }
   ],
   "source": [
    "w_count, tr_loss_count, dev_loss_count = SGD(X_tr=train_count,\n",
    "                                             Y_tr=label_train,\n",
    "                                             X_dev=dev_count,\n",
    "                                             Y_dev=label_dev,\n",
    "                                             lr=0.00025,\n",
    "                                             alpha=0.01,\n",
    "                                             epochs=200)"
   ]
  },
  {
   "cell_type": "markdown",
   "metadata": {},
   "source": [
    "Now plot the training and validation history per epoch for the best hyperparameter combination. Does your model underfit, overfit or is it about right? Explain why."
   ]
  },
  {
   "cell_type": "code",
   "execution_count": 28,
   "metadata": {
    "ExecuteTime": {
     "end_time": "2020-02-15T14:17:51.598911Z",
     "start_time": "2020-02-15T14:17:51.482307Z"
    }
   },
   "outputs": [
    {
     "data": {
      "image/png": "[encoded data removed]",
      "text/plain": [
       "<Figure size 432x288 with 1 Axes>"
      ]
     },
     "metadata": {
      "needs_background": "light"
     },
     "output_type": "display_data"
    }
   ],
   "source": [
    "plt.plot(tr_loss_count, label='Training loss')\n",
    "plt.plot(dev_loss_count, label='Validation loss')\n",
    "\n",
    "plt.xlabel('Epochs')\n",
    "plt.ylabel('Loss')\n",
    "plt.title('Training Monitoring\\n(Training and Validation History) of Count Vectors')\n",
    "plt.legend()\n",
    "plt.show()"
   ]
  },
  {
   "cell_type": "markdown",
   "metadata": {
    "ExecuteTime": {
     "end_time": "2020-01-21T16:52:26.583150Z",
     "start_time": "2020-01-21T16:52:26.578754Z"
    }
   },
   "source": [
    "##### Answer\n",
    "Accroding to the results of training monitoring results, I can conduct that the model is about to right.\n",
    "\n",
    "- It can be shown that both training loss and validation loss is decreasing with the increasing of the number of epoch, and at the end they both are close to a steady state.\n",
    "\n",
    "- There is generation gap between the validation and training loss curve.\n",
    "\n",
    "The way to prevent overfiting applied in this model includes:\n",
    "- Adding L2 regularisation\n",
    "- Stoping the traning when previous validation loss - current validation loss < the tolerance"
   ]
  },
  {
   "cell_type": "markdown",
   "metadata": {},
   "source": [
    "#### Evaluation\n",
    "\n",
    "Compute accuracy, precision, recall and F1-scores:"
   ]
  },
  {
   "cell_type": "code",
   "execution_count": 29,
   "metadata": {
    "ExecuteTime": {
     "end_time": "2020-02-15T14:17:51.607940Z",
     "start_time": "2020-02-15T14:17:51.600272Z"
    },
    "scrolled": true
   },
   "outputs": [
    {
     "name": "stdout",
     "output_type": "stream",
     "text": [
      "Accuracy: 0.84\n",
      "Precision: 0.8505154639175257\n",
      "Recall: 0.825\n",
      "F1-Score: 0.8375634517766498\n"
     ]
    }
   ],
   "source": [
    "preds_te_count = predict_class(test_count, w_count)\n",
    "\n",
    "print('Accuracy:', accuracy_score(label_test,preds_te_count))\n",
    "print('Precision:', precision_score(label_test,preds_te_count))\n",
    "print('Recall:', recall_score(label_test,preds_te_count))\n",
    "print('F1-Score:', f1_score(label_test,preds_te_count))"
   ]
  },
  {
   "cell_type": "markdown",
   "metadata": {},
   "source": [
    "Finally, print the top-10 words for the negative and positive class respectively."
   ]
  },
  {
   "cell_type": "code",
   "execution_count": 30,
   "metadata": {
    "ExecuteTime": {
     "end_time": "2020-02-15T14:17:51.624122Z",
     "start_time": "2020-02-15T14:17:51.615674Z"
    }
   },
   "outputs": [
    {
     "name": "stdout",
     "output_type": "stream",
     "text": [
      "Top 10 negative words:  ['bad', 'only', 'unfortunately', 'plot', 'why', 'worst', 'script', 'boring', 'any', 'nothing']\n",
      "Top 10 positive words:  ['great', 'well', 'also', 'seen', 'life', 'many', 'fun', 'world', 'both', 'movies']\n"
     ]
    }
   ],
   "source": [
    "top_neg = w_count.argsort()[:10]\n",
    "top_pos = w_count.argsort()[::-1][:10]\n",
    "print(\"Top 10 negative words: \",[id2word[i] for i in top_neg])\n",
    "print(\"Top 10 positive words: \",[id2word[i] for i in top_pos])"
   ]
  },
  {
   "cell_type": "markdown",
   "metadata": {},
   "source": [
    "If we were to apply the classifier we've learned into a different domain such laptop reviews or restaurant reviews, do you think these features would generalise well? Can you propose what features the classifier could pick up as important in the new domain?"
   ]
  },
  {
   "cell_type": "markdown",
   "metadata": {},
   "source": [
    "#### Answer: \n",
    "##### Feartures of classfication\n",
    "\n",
    "It can been seen that the features generalised in this model is general fit as we excepted in movie review such as \"great\", \"well\",\"fun\" etc as postive words, and the negative words as \"bad\",\"only\",\"unfortunately\" etc are also fit.\n",
    "##### Classifier could pick up as important in the new domain?\n",
    "\n",
    "The classifier made by count model is able to be applied in binary classfication as the features we picked above they are generally good to show postive or negative opinion. However they are very common words in English so it is not prefect to describe some specific domains such as laptop and restaurant reviews. For example, we are more common to use delicious, fresh to describe food but they are not usually to describe movie. So this Classifier can pick common positive words but that are not enough important in a new domain. In the later assignment, the tf-idf model will be applied to genralise  top features which is more accurate to classfy the movie review. By this way, the count model is better than tfidf model if you want to apply them  in a new domian such as laptop or resturant (Features from this model)."
   ]
  },
  {
   "cell_type": "markdown",
   "metadata": {},
   "source": [
    "### Discuss how did you choose model hyperparameters (e.g. learning rate and regularisation strength)? What is the relation between training epochs and learning rate? How the regularisation strength affects performance?"
   ]
  },
  {
   "cell_type": "markdown",
   "metadata": {},
   "source": [
    "#### The optimisation strategies\n",
    "\n",
    "The aim of optimisation is find the best fit parameter of learning rate and regularisation strength, which will make the model have better score in development set and test set. The L2 regularization is a general term for a class of methods in machine learning that introduce additional information to the original loss function in order to prevent overfitting and improve model generalization performance, learning rate also determined wheter the model can reach the steady state or not, in this assignment, the optimisation strategy is enumeration of the possible results to achieve a set of grid search first to find roughly range of parameters, then followed find the specific value which have the best performance. \n",
    "\n",
    "#### Optimising Learning Rate \n",
    "For the Learning Rate, I have set 0.00001, 0.0001 and 0.001 to do a gridsearch to find which range of parameter can have good performance with suitable number of epoches. It can be clear find that the larger learning rate will obviously reduce the number of epochs. When`lr=0.0001` it can be seen that the maximum epoches 200 can not finish the training which mean the Tr.loss and Val.loss can not reach to a steady state therefore the precision, recall and F-1 score are all lower than others. After this we can find the `lr=0.0001 and 0.001` could achievd a high precision and resonable epoch. As I set early stop epoch so it is diffcult to have obvious overfitting for fluctuation of the loss, but a larger learning rate may not help us find the best w. So I also did 0.00025, 0.0005 and 0.00075,\n",
    "\n",
    "Initial parameters: `lr=0.0001, alpha=0.001`\n",
    "\n",
    "| Trial | Learning rate | Epochs | Tr. loss | Val. loss | Precision | Recall | F1-Score |\n",
    "|-------|---------------|--------|----------|-----------|-----------|--------|----------|\n",
    "| 1     | 0.00001        | 199     | 0.34   | 0.46    | 0.823  | 0.835 | 0.829   |\n",
    "| 2     | 0.0001        | 84     | 0.181   | 0.397    | 0.832    | 0.845 | 0.835   |\n",
    "| 3     | 0.00020         | 24     | 0.236  | 0.416    | 0.847    | 0.83 | 0.838   |\n",
    "| 4     | 0.00025         | 24     | 0.208  | 0.405    | 0.852    | 0.84 | 0.846   |\n",
    "| 5     | 0.00050         | 23     | 0.156  | 0.397    | 0.817    | 0.85 | 0.833   |\n",
    "| 6     | 0.00075         | 14     | 0.153  | 0.394    | 0.84    | 0.84 | 0.839   |\n",
    "| 7     | 0.001         | 10     | 0.156  | 0.397    | 0.848    | 0.835 | 0.841   |\n",
    "\n",
    "\n",
    "The optimal `lr` is found to be `0.00025`, as the model has highest precision,recall and F1-Score on test test\n",
    "\n",
    "#### Optimising Regularisation Strength\n",
    "Then we did regularisation optimisation,the results was shown below. \n",
    "Initial parameters: `lr=0.00025, alpha=0.00001`\n",
    "\n",
    "| Trial | Alpha      | Epochs | Tr. loss | Val. loss | Precision | Recall | F1-Score |\n",
    "|-------|------------|--------|----------|-----------|-----------|--------|----------|\n",
    "| 1    | 0.00001    | 24     | 0.208   | 0.405   | 0.848    | 0.84  | 0.844   |\n",
    "| 2    | 0.0001    | 24     | 0.208   | 0.405   | 0.848    | 0.84  | 0.844   |\n",
    "| 3    | 0.0005    | 24     | 0.210   | 0.407   | 0.848    | 0.84  | 0.844   |\n",
    "| 4    | 0.001   | 24     | 0.212   | 0.408   | 0.853    | 0.84  | 0.846   |\n",
    "| 5    | 0.0015   | 24     | 0.214   | 0.410   | 0.853    | 0.84  | 0.846   \n",
    "| 6    | 0.002   | 24     | 0.216   | 0.412   | 0.853    | 0.84  | 0.846   ||\n",
    "| 7    | 0.01 | 24     | 0.248   | 0.437   | 0.851    | 0.825  | 0.838   |\n",
    "| 8    | 0.1 | 7     | 0.43   | 0.54  | 0.824   | 0.8  | 0.812   |\n",
    "\n",
    "The process is similar as learning rare optimisation. I firstly set Alpha in 0.0001, 0.001 and 0.01, the set 0.005, 0.01 and 0.002, it can be find the best walue should be `lr=0.00025, alpha=0.0005`\n",
    "\n",
    "\n",
    "#### The relationship between learning rate and time\n",
    "Acroding to the results, the relationship is that the learning rate is inversely proportional to the number of epoches. It can be iluustrate that by the formula of optimal  `w -= lr * (y * (predict_y - y) + 2 * alpha * weights)`, the larger learning rate will increase the size of changing weights which will reduce the number of epoches to the best value. However, the larger learning rate will cause the w in unsteady\n",
    "state which make the model can not find the best fit value. The small learning rate will make larger epoch will cause large traning which may prevent the model can not reach the steady value in limited number of epoches. \n",
    "\n",
    "#### The relationship between regularisation strength and time\n",
    "When regularisation strength is small, the alpha has very limited influence on reducing the time of traning but when alpha is large enough, the learning time will reduced more significantly. It also can be explained by the formula of `w -= lr * (y * (predict_y - y) + 2 * alpha * weights)`\n",
    "\n",
    "#### The relationship between regularisation strength and model performance\n",
    "The regularisation strenth is able to prevent the overfitting because it can introduce the generation gap of the model, however it is not very obvious in our model.\n",
    "\n"
   ]
  },
  {
   "cell_type": "markdown",
   "metadata": {},
   "source": [
    "## Train and Evaluate Logistic Regression with TF.IDF vectors\n",
    "\n",
    "Follow the same steps as above (i.e. evaluating count n-gram representations).\n"
   ]
  },
  {
   "cell_type": "code",
   "execution_count": 31,
   "metadata": {},
   "outputs": [
    {
     "name": "stdout",
     "output_type": "stream",
     "text": [
      "Epoch: 0 | Training loss: 0.5734980942087012 | Validation loss: 0.6414608397340473\n",
      "Epoch: 1 | Training loss: 0.49616926793591704 | Validation loss: 0.6071207464180456\n",
      "Epoch: 2 | Training loss: 0.4412479916722209 | Validation loss: 0.5818417116931373\n",
      "Epoch: 3 | Training loss: 0.39969634358297235 | Validation loss: 0.5623716005997227\n",
      "Epoch: 4 | Training loss: 0.3669149241456118 | Validation loss: 0.5465204749449224\n",
      "Epoch: 5 | Training loss: 0.34000583285998254 | Validation loss: 0.5339715321844216\n",
      "Epoch: 6 | Training loss: 0.31759417310756344 | Validation loss: 0.5231327006907549\n",
      "Epoch: 7 | Training loss: 0.2985281073438565 | Validation loss: 0.5133248783027828\n",
      "Epoch: 8 | Training loss: 0.28192856480903655 | Validation loss: 0.5054081794162079\n",
      "Epoch: 9 | Training loss: 0.2674982091939961 | Validation loss: 0.498248748748746\n",
      "Epoch: 10 | Training loss: 0.25487767927534205 | Validation loss: 0.491694012412203\n",
      "Epoch: 11 | Training loss: 0.243332208859801 | Validation loss: 0.48666515015465595\n",
      "Epoch: 12 | Training loss: 0.23312943998818192 | Validation loss: 0.4816398319925463\n",
      "Epoch: 13 | Training loss: 0.2239714665778101 | Validation loss: 0.4767209835281658\n",
      "Epoch: 14 | Training loss: 0.21556355323061083 | Validation loss: 0.4731140992477\n",
      "Epoch: 15 | Training loss: 0.2079330902585059 | Validation loss: 0.46926280570398965\n",
      "Epoch: 16 | Training loss: 0.20097988095884184 | Validation loss: 0.4653522876530562\n",
      "Epoch: 17 | Training loss: 0.19453681479957896 | Validation loss: 0.46222951146700125\n",
      "Epoch: 18 | Training loss: 0.18858569614007567 | Validation loss: 0.45983792591071726\n",
      "Epoch: 19 | Training loss: 0.18308339590005257 | Validation loss: 0.4567976194469614\n",
      "Epoch: 20 | Training loss: 0.1779780830805466 | Validation loss: 0.45442331572331185\n",
      "Epoch: 21 | Training loss: 0.1732280270903424 | Validation loss: 0.451966250527347\n",
      "Epoch: 22 | Training loss: 0.16882797968584343 | Validation loss: 0.4494971387255218\n",
      "Epoch: 23 | Training loss: 0.16465099269420475 | Validation loss: 0.4479470191434201\n",
      "Epoch: 24 | Training loss: 0.16080322768499614 | Validation loss: 0.4455243332925526\n",
      "Epoch: 25 | Training loss: 0.1571195626135596 | Validation loss: 0.4441282190894161\n",
      "Epoch: 26 | Training loss: 0.15370735641304367 | Validation loss: 0.44221561918478713\n",
      "Epoch: 27 | Training loss: 0.15046108443040598 | Validation loss: 0.4407712864692229\n",
      "Epoch: 28 | Training loss: 0.1474000370167694 | Validation loss: 0.43951737748265196\n",
      "Epoch: 29 | Training loss: 0.1445436662844366 | Validation loss: 0.43773757096604166\n",
      "Epoch: 30 | Training loss: 0.141787547576285 | Validation loss: 0.43679752504470926\n",
      "Epoch: 31 | Training loss: 0.13920139645451549 | Validation loss: 0.43553880598569\n",
      "Epoch: 32 | Training loss: 0.13675406303205048 | Validation loss: 0.43420465862856616\n",
      "Epoch: 33 | Training loss: 0.13441530895935222 | Validation loss: 0.4334261146709995\n",
      "Epoch: 34 | Training loss: 0.13219678836602083 | Validation loss: 0.43229002999400534\n",
      "Epoch: 35 | Training loss: 0.13008643541697482 | Validation loss: 0.4312512062053764\n",
      "Epoch: 36 | Training loss: 0.12807491721404074 | Validation loss: 0.4304663345446834\n",
      "Epoch: 37 | Training loss: 0.1261579131988028 | Validation loss: 0.4294004137721851\n",
      "Epoch: 38 | Training loss: 0.12432515285308264 | Validation loss: 0.42861947038747766\n",
      "Epoch: 39 | Training loss: 0.12257897097184178 | Validation loss: 0.428048918359157\n",
      "Epoch: 40 | Training loss: 0.12090389637359741 | Validation loss: 0.4272321574679522\n",
      "Epoch: 41 | Training loss: 0.11930714056384364 | Validation loss: 0.42662256178500696\n",
      "Epoch: 42 | Training loss: 0.11776797115117679 | Validation loss: 0.42575788667461967\n",
      "Epoch: 43 | Training loss: 0.1163031982511419 | Validation loss: 0.4252388087158376\n",
      "Epoch: 44 | Training loss: 0.11488969264671503 | Validation loss: 0.4243648585501586\n",
      "Epoch: 45 | Training loss: 0.11353778716831305 | Validation loss: 0.4237453506162754\n",
      "Epoch: 46 | Training loss: 0.11224905426382185 | Validation loss: 0.4228974407469315\n",
      "Epoch: 47 | Training loss: 0.11099928964246729 | Validation loss: 0.42238912447120386\n",
      "Epoch: 48 | Training loss: 0.10979339860789139 | Validation loss: 0.4221618914587203\n",
      "Epoch: 49 | Training loss: 0.10864547726457698 | Validation loss: 0.421873613461902\n",
      "Epoch: 50 | Training loss: 0.10753510902017069 | Validation loss: 0.4213686030191166\n",
      "Epoch: 51 | Training loss: 0.10646743301791455 | Validation loss: 0.4209277575000692\n",
      "Epoch: 52 | Training loss: 0.10543845923847336 | Validation loss: 0.4204931564324225\n",
      "Epoch: 53 | Training loss: 0.10444248474594876 | Validation loss: 0.4198041358515464\n",
      "Epoch: 54 | Training loss: 0.10348663938598229 | Validation loss: 0.4194591214111081\n",
      "Epoch: 55 | Training loss: 0.10257026415281253 | Validation loss: 0.41931738840892224\n",
      "Epoch: 56 | Training loss: 0.10167497819602078 | Validation loss: 0.4186990760138596\n",
      "Epoch: 57 | Training loss: 0.10081573717982256 | Validation loss: 0.41831420841371736\n",
      "Epoch: 58 | Training loss: 0.09998886946195797 | Validation loss: 0.41781704887559934\n",
      "Epoch: 59 | Training loss: 0.0991846661222902 | Validation loss: 0.4177063886021364\n",
      "Epoch: 60 | Training loss: 0.0984100020640454 | Validation loss: 0.4173719160060635\n",
      "Epoch: 61 | Training loss: 0.09766151991115364 | Validation loss: 0.41701635707126045\n",
      "Epoch: 62 | Training loss: 0.09693687620273746 | Validation loss: 0.4167441393349517\n",
      "Epoch: 63 | Training loss: 0.09623626520821116 | Validation loss: 0.41648205429868923\n",
      "Epoch: 64 | Training loss: 0.0955614995591997 | Validation loss: 0.4164126816124513\n",
      "Epoch: 65 | Training loss: 0.09490695895550653 | Validation loss: 0.4162113637344939\n",
      "Epoch: 66 | Training loss: 0.0942664122964015 | Validation loss: 0.41567758730699284\n",
      "Epoch: 67 | Training loss: 0.09365614100813181 | Validation loss: 0.41521512631292024\n",
      "Epoch: 68 | Training loss: 0.09305490516269684 | Validation loss: 0.4151805191128273\n",
      "Epoch: 69 | Training loss: 0.0924763923756357 | Validation loss: 0.415050816645204\n",
      "Epoch: 70 | Training loss: 0.09191911442306284 | Validation loss: 0.41461638699581355\n",
      "Epoch: 71 | Training loss: 0.09137714720772877 | Validation loss: 0.41486880578538404\n",
      "Finshed the traning at epoch:  71\n"
     ]
    }
   ],
   "source": [
    "w_idf, tr_loss_idf, dev_loss_idf = SGD(X_tr =train_tfidf,\n",
    "                                             Y_tr=label_train,\n",
    "                                             X_dev=dev_tfidf,\n",
    "                                             Y_dev=label_dev,\n",
    "                                            lr=0.005,\n",
    "                                             alpha=0.0005,\n",
    "                                             epochs=100)"
   ]
  },
  {
   "cell_type": "code",
   "execution_count": 32,
   "metadata": {},
   "outputs": [
    {
     "data": {
      "image/png": "[encoded data removed]",
      "text/plain": [
       "<Figure size 432x288 with 1 Axes>"
      ]
     },
     "metadata": {
      "needs_background": "light"
     },
     "output_type": "display_data"
    }
   ],
   "source": [
    "plt.plot(tr_loss_idf, label='Training loss')\n",
    "plt.plot(dev_loss_idf, label='Validation loss')\n",
    "plt.xlabel('Epochs')\n",
    "plt.ylabel('Loss')\n",
    "plt.title('Training Monitoring\\n(Training and Validation History) of TFIDF Vectors')\n",
    "plt.legend()\n",
    "plt.show()"
   ]
  },
  {
   "cell_type": "code",
   "execution_count": 33,
   "metadata": {
    "scrolled": true
   },
   "outputs": [
    {
     "name": "stdout",
     "output_type": "stream",
     "text": [
      "Accuracy: 0.885\n",
      "Precision: 0.885\n",
      "Recall: 0.885\n",
      "F1-Score: 0.885\n",
      "Top 10 negative words:  ['bad', 'worst', 'boring', 'unfortunately', 'supposed', 'ridiculous', 'script', 'awful', 'waste', 'poor']\n",
      "Top 10 positive words:  ['hilarious', 'memorable', 'terrific', 'perfectly', 'great', 'overall', 'fun', 'definitely', 'perfect', 'pulp']\n"
     ]
    }
   ],
   "source": [
    "preds_te_idf = predict_class(test_tfidf, w_idf)\n",
    "print('Accuracy:', accuracy_score(label_test,preds_te_idf))\n",
    "print('Precision:', precision_score(label_test,preds_te_idf))\n",
    "print('Recall:', recall_score(label_test,preds_te_idf))\n",
    "print('F1-Score:', f1_score(label_test,preds_te_idf))\n",
    "top_neg_idf = w_idf.argsort()[:10]\n",
    "top_pos_idf = w_idf.argsort()[::-1][:10]\n",
    "print(\"Top 10 negative words: \",[id2word[i] for i in top_neg_idf])\n",
    "print(\"Top 10 positive words: \",[id2word[i] for i in top_pos_idf])"
   ]
  },
  {
   "cell_type": "markdown",
   "metadata": {},
   "source": [
    "####  Answer about TF.IDF vectors\n",
    "##### TF-IDF Vector Model\n",
    "Accroding to the results of training monitoring results, I can conduct that the model is about to right.\n",
    "\n",
    "- It can be shown that both training loss and validation loss is decreasing with the increasing of the number of epoch, and at the end they both are close to a steady state.\n",
    "\n",
    "- There is generation gap between the validation and training loss curve.\n",
    "\n",
    "The way to prevent overfiting applied in this model includes:\n",
    "- Adding L2 regularisation\n",
    "- Stoping the traning when previous validation loss - current validation loss < the toleranceAccroding to the results of training monitoring results, I can conduct that the model is about to right, which is similar to the Count model as I did before.\n",
    "\n",
    "##### TF-IDF Vectors VS Count Vector\n",
    "The TF-IDF vectors model acchived higher performance than the count vectors model which achieved nearly 90% accuracy and percision or recall score with less loss in training and validation. This can be explained by the  idea of TF-IDF model which is:if a word or phrase has a high frequency TF in one review but seldom appears in other articles which caused a  low IDF, so that the word or phrase has a good ability to distinguish from others, therefore the tfidf model is good to classfy in a specific domain. \n",
    "\n",
    "Therefore some common terms have higher frequency will not be exctract as the top features in TF-IDF model. There are more \"senior\" words which may more specific to describe moive such as 'memorable','hilarious' and 'terrific'. However, some general words which may used in many other fields may not sellected here, so the TF-IDF model may not performe well in a new domain.\n"
   ]
  },
  {
   "cell_type": "markdown",
   "metadata": {},
   "source": [
    "###### Optimisation of parameter\n",
    "The optimisation strategies is similar as the count vector as we did before, the results are shown in later table. The learning rate has been studies, the lr =  0.005 is the best.The alpha=0.0005 is keeping stay and it has no significant contribution on performance as we tryed manytimes on different value of alpha.\n",
    "\n",
    "| Trial | Alpha      | Epochs | Tr. loss | Val. loss | Precision | Recall | F1-Score |\n",
    "|-------|------------|--------|----------|-----------|-----------|--------|----------|\n",
    "| 1    | 0.001   | 99     |0.179 |  0.457| 0.901  | 0.87  | 0.885   |\n",
    "| 2    | 0.005   | 71     |0.0838|  0.416  | 0.898    | 0.885  | 0.889 |\n",
    "| 3    | 0.01 | 39     | 0.079 | 0.415   | 0.892    | 0.87  | 0.88   |\n",
    "| 4    | 0.1 | 3     | 0.072 | 0.417 | 0.888   | 0.87  | 0.879   |"
   ]
  },
  {
   "cell_type": "markdown",
   "metadata": {},
   "source": [
    "### Now repeat the training and evaluation process for BOW-tfidf, BOCN-count, BOCN-tfidf, BOW+BOCN including hyperparameter tuning for each model..."
   ]
  },
  {
   "cell_type": "code",
   "execution_count": 34,
   "metadata": {},
   "outputs": [],
   "source": [
    "vocab_bocn, df_bocn, ngram_counts_bocn = get_vocab(text_train, keep_topN=5000, ngram_range=(3,5), char_ngrams = True)\n",
    "_, df_bocn_dev, _ = get_vocab(text_dev, keep_topN=5000, ngram_range=(3,5), char_ngrams = True)\n",
    "_, df_bocn_test, _ = get_vocab(text_test, keep_topN=5000, ngram_range=(3,5), char_ngrams = True)"
   ]
  },
  {
   "cell_type": "code",
   "execution_count": 35,
   "metadata": {},
   "outputs": [],
   "source": [
    "train_ngram_char = (extract_ngrams(review, ngram_range=(3, 5),vocab= None, char_ngrams=True)for review in text_train)\n",
    "test_ngram_char = (extract_ngrams(review, ngram_range=(3, 5),vocab=None, char_ngrams=True)for review in text_test)\n",
    "dev_ngram_char = (extract_ngrams(review, ngram_range=(3, 5),vocab=None, char_ngrams=True)for review in text_dev)"
   ]
  },
  {
   "cell_type": "code",
   "execution_count": 36,
   "metadata": {},
   "outputs": [],
   "source": [
    "train_count_bocn = vectorise(train_ngram_char, vocab_bocn)\n",
    "dev_count_bocn = vectorise(dev_ngram_char, vocab_bocn)\n",
    "test_count_bocn = vectorise(test_ngram_char, vocab_bocn)\n",
    "\n",
    "train_bocn_tfidf = tfidf(train_count_bocn,vocab_bocn, df_bocn)\n",
    "test_bocn_tfidf = tfidf(test_count_bocn,vocab_bocn, df_bocn_test)\n",
    "dev_bocn_tfidf = tfidf(dev_count_bocn,vocab_bocn, df_bocn_dev)"
   ]
  },
  {
   "cell_type": "markdown",
   "metadata": {},
   "source": [
    "### BOCN-count"
   ]
  },
  {
   "cell_type": "code",
   "execution_count": 37,
   "metadata": {},
   "outputs": [],
   "source": [
    "#create a vocab_id to word dictionary\n",
    "id2word_bocn = dict(enumerate(vocab_bocn))\n",
    "word2id_bocn = {i:w for w, i in id2word_bocn.items()}"
   ]
  },
  {
   "cell_type": "code",
   "execution_count": 38,
   "metadata": {
    "scrolled": true
   },
   "outputs": [
    {
     "name": "stdout",
     "output_type": "stream",
     "text": [
      "Epoch: 0 | Training loss: 0.665144481390628 | Validation loss: 0.6690229230379364\n",
      "Epoch: 1 | Training loss: 0.6430237028695055 | Validation loss: 0.6519319006917277\n",
      "Epoch: 2 | Training loss: 0.62415381344542 | Validation loss: 0.6368922725453646\n",
      "Epoch: 3 | Training loss: 0.6094404843855546 | Validation loss: 0.6255325104135585\n",
      "Epoch: 4 | Training loss: 0.5945053291855354 | Validation loss: 0.6147328500898075\n",
      "Epoch: 5 | Training loss: 0.5801373725520069 | Validation loss: 0.6051701564214917\n",
      "Epoch: 6 | Training loss: 0.5681900975327835 | Validation loss: 0.5964370329126442\n",
      "Epoch: 7 | Training loss: 0.5577961674608272 | Validation loss: 0.5900084414754514\n",
      "Epoch: 8 | Training loss: 0.5471463357367443 | Validation loss: 0.5823257821384397\n",
      "Epoch: 9 | Training loss: 0.5377485245978333 | Validation loss: 0.5759778557953351\n",
      "Epoch: 10 | Training loss: 0.5339108676910305 | Validation loss: 0.5758924567477542\n",
      "Epoch: 11 | Training loss: 0.5208575707630969 | Validation loss: 0.5651989098530129\n",
      "Epoch: 12 | Training loss: 0.5132509158662242 | Validation loss: 0.5604629804229575\n",
      "Epoch: 13 | Training loss: 0.5062889391771492 | Validation loss: 0.5563102972000734\n",
      "Epoch: 14 | Training loss: 0.4988989601031565 | Validation loss: 0.5514430718938557\n",
      "Epoch: 15 | Training loss: 0.49235532873897814 | Validation loss: 0.547464291220065\n",
      "Epoch: 16 | Training loss: 0.4862181214665483 | Validation loss: 0.5437592173122656\n",
      "Epoch: 17 | Training loss: 0.48018802802345417 | Validation loss: 0.5400616052589715\n",
      "Epoch: 18 | Training loss: 0.4746566588763931 | Validation loss: 0.5369292368295515\n",
      "Epoch: 19 | Training loss: 0.46901532621205366 | Validation loss: 0.5334405586860982\n",
      "Epoch: 20 | Training loss: 0.46374697123338543 | Validation loss: 0.5303669825897207\n",
      "Epoch: 21 | Training loss: 0.45891319378501993 | Validation loss: 0.5275389496104965\n",
      "Epoch: 22 | Training loss: 0.4541647828662208 | Validation loss: 0.5248117031016671\n",
      "Epoch: 23 | Training loss: 0.4496273391454929 | Validation loss: 0.5225734283066069\n",
      "Epoch: 24 | Training loss: 0.4467407992765983 | Validation loss: 0.5210403520426028\n",
      "Epoch: 25 | Training loss: 0.44052098563291453 | Validation loss: 0.5171662312645138\n",
      "Epoch: 26 | Training loss: 0.4363203640690125 | Validation loss: 0.5146870728866392\n",
      "Epoch: 27 | Training loss: 0.43241246111651827 | Validation loss: 0.51242967941585\n",
      "Epoch: 28 | Training loss: 0.4283802218224423 | Validation loss: 0.5103019335223228\n",
      "Epoch: 29 | Training loss: 0.42572193158099025 | Validation loss: 0.5088219389100153\n",
      "Epoch: 30 | Training loss: 0.42097718661771377 | Validation loss: 0.5062727246466449\n",
      "Epoch: 31 | Training loss: 0.4175810046066477 | Validation loss: 0.5041369580582085\n",
      "Epoch: 32 | Training loss: 0.4158437290452574 | Validation loss: 0.5035932741348674\n",
      "Epoch: 33 | Training loss: 0.4105872492252734 | Validation loss: 0.5005782146672041\n",
      "Epoch: 34 | Training loss: 0.40728844434570177 | Validation loss: 0.49876115219443984\n",
      "Epoch: 35 | Training loss: 0.4041082371599178 | Validation loss: 0.4970511949140875\n",
      "Epoch: 36 | Training loss: 0.4010369354925683 | Validation loss: 0.4952387403959266\n",
      "Epoch: 37 | Training loss: 0.39798595964735295 | Validation loss: 0.49375863875079096\n",
      "Epoch: 38 | Training loss: 0.39506403285500785 | Validation loss: 0.4921547367163725\n",
      "Epoch: 39 | Training loss: 0.3921738848675123 | Validation loss: 0.49070478869039663\n",
      "Epoch: 40 | Training loss: 0.3895414301487216 | Validation loss: 0.4897468092452088\n",
      "Epoch: 41 | Training loss: 0.38667670756558775 | Validation loss: 0.48799946003827743\n",
      "Epoch: 42 | Training loss: 0.38396411291082666 | Validation loss: 0.4865687787132423\n",
      "Epoch: 43 | Training loss: 0.3814780980565391 | Validation loss: 0.4855761934493975\n",
      "Epoch: 44 | Training loss: 0.3787623017974041 | Validation loss: 0.4837270177843318\n",
      "Epoch: 45 | Training loss: 0.3762741700503685 | Validation loss: 0.48264364341607235\n",
      "Epoch: 46 | Training loss: 0.37383900201115233 | Validation loss: 0.48114152002730676\n",
      "Epoch: 47 | Training loss: 0.37237150357349413 | Validation loss: 0.48038869529302486\n",
      "Epoch: 48 | Training loss: 0.3696349253078288 | Validation loss: 0.4802475170215802\n",
      "Epoch: 49 | Training loss: 0.3672707184709416 | Validation loss: 0.4790098218176235\n",
      "Epoch: 50 | Training loss: 0.3645169214199843 | Validation loss: 0.4766102616147029\n",
      "Epoch: 51 | Training loss: 0.3629425309232223 | Validation loss: 0.47704715820657867\n",
      "Finshed the traning at epoch:  51\n"
     ]
    }
   ],
   "source": [
    "w_bocn, tr_loss_bocn, dev_loss_bocn = SGD(X_tr=train_count_bocn ,\n",
    "                                             Y_tr=label_train,\n",
    "                                             X_dev=dev_count_bocn,\n",
    "                                             Y_dev=label_dev,\n",
    "                                             lr=0.000005,\n",
    "                                             alpha= 0.0005,\n",
    "                                             tolerance=0.0000001,\n",
    "                                             epochs=120)"
   ]
  },
  {
   "cell_type": "code",
   "execution_count": 39,
   "metadata": {},
   "outputs": [
    {
     "data": {
      "image/png": "[encoded data removed]",
      "text/plain": [
       "<Figure size 432x288 with 1 Axes>"
      ]
     },
     "metadata": {
      "needs_background": "light"
     },
     "output_type": "display_data"
    },
    {
     "name": "stdout",
     "output_type": "stream",
     "text": [
      "Accuracy: 0.825\n",
      "Precision: 0.8037383177570093\n",
      "Recall: 0.86\n",
      "F1-Score: 0.8309178743961353\n",
      "Top 10 negative words:  [('b', 'a', 'd'), ('e', 'r', 'e'), ('h', 'e', 'r'), ('p', 'l', 'o'), ('h', 'e', 'r', 'e'), ('p', 'l', 'o', 't'), ('l', 'o', 't'), ('o', 'n', 'l', 'y'), ('n', 'l', 'y'), ('o', 'r', 's')]\n",
      "Top 10 positive words:  [('e', 'r', 'f'), ('e', 'a', 't'), ('l', 's', 'o'), ('r', 'e', 'a', 't'), ('r', 'e', 'a'), ('t', 'r', 'u'), ('g', 'r', 'e'), ('a', 'l', 's'), ('a', 'l', 's', 'o'), ('g', 'r', 'e', 'a')]\n"
     ]
    }
   ],
   "source": [
    "plt.plot(tr_loss_bocn, label='Training loss')\n",
    "plt.plot(dev_loss_bocn, label='Validation loss')\n",
    "plt.xlabel('Epochs')\n",
    "plt.ylabel('Loss')\n",
    "plt.title('Training Monitoring\\n(Training and Validation History) of BOCN_count Vectors')\n",
    "plt.legend()\n",
    "plt.show()\n",
    "\n",
    "preds_te_bocn_count = predict_class(test_count_bocn, w_bocn)\n",
    "print('Accuracy:', accuracy_score(label_test,preds_te_bocn_count))\n",
    "print('Precision:', precision_score(label_test,preds_te_bocn_count))\n",
    "print('Recall:', recall_score(label_test,preds_te_bocn_count))\n",
    "print('F1-Score:', f1_score(label_test,preds_te_bocn_count))\n",
    "\n",
    "top_neg_bocn_count =  w_bocn.argsort()[:10]\n",
    "top_pos_bocn_count =  w_bocn.argsort()[::-1][:10]\n",
    "print(\"Top 10 negative words: \",[id2word_bocn[i] for i in top_neg_bocn_count ])\n",
    "print(\"Top 10 positive words: \",[id2word_bocn[i] for i in top_pos_bocn_count ])\n"
   ]
  },
  {
   "cell_type": "markdown",
   "metadata": {},
   "source": [
    "###### Optimisation of parameter\n",
    "For saving time we just did Learning rate optimisation with alpha = 0.0005, the results are shown below.\n",
    "\n",
    "| Trial | LR| Epochs | Tr. loss | Val. loss | Precision | Recall | F1-Score |\n",
    "|-------|------------|--------|----------|-----------|-----------|--------|----------|\n",
    "| 1    | 0.00001   | 10     |0.468 | 0.536| 0.87  | 0.72  | 0.78   |\n",
    "| 2    | 0.000005   | 51    |0.362| 0.477  | 0.81   | 0.86 | 0.831 |\n",
    "| 3    | 0.000001 | 119     | 0.449| 0.522   | 0.800   | 0.835  | 0.817   |\n"
   ]
  },
  {
   "cell_type": "markdown",
   "metadata": {},
   "source": [
    "##### BOCN_Count Model  Performance\n",
    "Accroding to the results of training monitoring results, I can conduct that the model is about to right\n",
    "- It can be shown that both training loss and validation loss is decreasing with the increasing of the number of epoch, and at the end they both are close to a steady state.\n",
    "- There is generation gap between the validation and training loss curve.\n",
    "- Although there is tiny fluctuations in training and validation loss but it is very tiny\n",
    "\n",
    "\n",
    "The way to prevent overfiting applied in this model includes:\n",
    "- Adding L2 regularisation\n",
    "- Stoping the traning when previous validation loss - current validation loss < the toleranceAccroding to the results of training monitoring results, I can conduct that the model is about to right"
   ]
  },
  {
   "cell_type": "markdown",
   "metadata": {},
   "source": [
    "### BOCN-tfidf"
   ]
  },
  {
   "cell_type": "code",
   "execution_count": 40,
   "metadata": {},
   "outputs": [
    {
     "name": "stdout",
     "output_type": "stream",
     "text": [
      "Epoch: 0 | Training loss: 0.5172067790049116 | Validation loss: 0.5732246055737349\n",
      "Epoch: 1 | Training loss: 0.4341634112728102 | Validation loss: 0.5204595063179391\n",
      "Epoch: 2 | Training loss: 0.3828159045845367 | Validation loss: 0.4885246286181739\n",
      "Epoch: 3 | Training loss: 0.3496461450432576 | Validation loss: 0.4707983462436573\n",
      "Epoch: 4 | Training loss: 0.32022445353040146 | Validation loss: 0.45432027997125973\n",
      "Epoch: 5 | Training loss: 0.29784812019365275 | Validation loss: 0.443483943451546\n",
      "Epoch: 6 | Training loss: 0.28006427140739315 | Validation loss: 0.4356257022552914\n",
      "Epoch: 7 | Training loss: 0.26607155907431035 | Validation loss: 0.43106470218117826\n",
      "Epoch: 8 | Training loss: 0.2521024199142883 | Validation loss: 0.425338599432668\n",
      "Epoch: 9 | Training loss: 0.24110191718475912 | Validation loss: 0.4223108404851139\n",
      "Epoch: 10 | Training loss: 0.23435375009539086 | Validation loss: 0.4236337167420851\n",
      "Finshed the traning at epoch:  10\n"
     ]
    }
   ],
   "source": [
    "w_bocn_tfidf, tr_loss_bocn_tfidf, dev_loss_bocn_tfidf = SGD(\n",
    "                                             X_tr=train_bocn_tfidf,\n",
    "                                             Y_tr=label_train,\n",
    "                                             X_dev=dev_bocn_tfidf,\n",
    "                                             Y_dev=label_dev,\n",
    "                                             lr=0.005,\n",
    "                                             alpha=0.0005,\n",
    "                                             tolerance=0.000001,\n",
    "                                             epochs=120)"
   ]
  },
  {
   "cell_type": "code",
   "execution_count": 41,
   "metadata": {},
   "outputs": [
    {
     "data": {
      "image/png": "[encoded data removed]",
      "text/plain": [
       "<Figure size 432x288 with 1 Axes>"
      ]
     },
     "metadata": {
      "needs_background": "light"
     },
     "output_type": "display_data"
    },
    {
     "name": "stdout",
     "output_type": "stream",
     "text": [
      "Accuracy: 0.8425\n",
      "Precision: 0.8784530386740331\n",
      "Recall: 0.795\n",
      "F1-Score: 0.8346456692913387\n",
      "Top 10 negative words:  [('b', 'a', 'd'), ('w', 'o', 'r', 's'), ('w', 'a', 's', 't', 'e'), ('w', 'a', 's', 't'), ('w', 'o', 'r', 's', 't'), ('a', 'm', 'm'), ('w', 'a', 's'), ('b', 'o', 'r', 'i'), ('b', 'o', 'r', 'i', 'n'), ('o', 'r', 's', 't')]\n",
      "Top 10 positive words:  [('h', 'i', 'l', 'a'), ('i', 'l', 'a', 'r'), ('r', 'f', 'e', 'c'), ('e', 'r', 'f', 'e', 'c'), ('p', 'e', 'r', 'f', 'e'), ('r', 'f', 'e', 'c', 't'), ('e', 'r', 'f', 'u', 'l'), ('g', 'r', 'e', 'a'), ('g', 'r', 'e', 'a', 't'), ('r', 'f', 'u', 'l')]\n"
     ]
    }
   ],
   "source": [
    "plt.plot(tr_loss_bocn, label='Training loss')\n",
    "plt.plot(dev_loss_bocn, label='Validation loss')\n",
    "plt.xlabel('Epochs')\n",
    "plt.ylabel('Loss')\n",
    "plt.title('Training Monitoring\\n(Training and Validation History) of BOCN_TFIDF Vectors')\n",
    "plt.legend()\n",
    "plt.show()\n",
    "\n",
    "preds_te_bocn_tfidf = predict_class(test_bocn_tfidf, w_bocn_tfidf)\n",
    "print('Accuracy:', accuracy_score(label_test,preds_te_bocn_tfidf))\n",
    "print('Precision:', precision_score(label_test,preds_te_bocn_tfidf))\n",
    "print('Recall:', recall_score(label_test,preds_te_bocn_tfidf))\n",
    "print('F1-Score:', f1_score(label_test,preds_te_bocn_tfidf))\n",
    "\n",
    "top_neg_bocn_tfidf =  w_bocn_tfidf.argsort()[:10]\n",
    "top_pos_bocn_tfidf =  w_bocn_tfidf.argsort()[::-1][:10]\n",
    "print(\"Top 10 negative words: \",[id2word_bocn[i] for i in top_neg_bocn_tfidf ])\n",
    "print(\"Top 10 positive words: \",[id2word_bocn[i] for i in top_pos_bocn_tfidf ])"
   ]
  },
  {
   "cell_type": "markdown",
   "metadata": {},
   "source": [
    "###### Optimisation of parameter\n",
    "For saving time we just did Learning rate optimisation with alpha = 0.0005, the results are shown below.\n",
    "\n",
    "| Trial | LR| Epochs | Tr. loss | Val. loss | Precision | Recall | F1-Score |\n",
    "|-------|------------|--------|----------|-----------|-----------|--------|----------|\n",
    "| 1    | 0.0001   | 119     |0.417 | 0.509| 0.820  | 0.845 |0.832  |\n",
    "| 2    | 0.001   | 51    |0.227 | 0.430 | 0.838   | 0.83 | 0.834 |\n",
    "| 3    | 0.005 | 7     | 0.247 | 0.437 | 0.878  | 0.795| 0.841  |\n",
    "| 4    | 0.01 | 7     |0.211 |  0.431  | 0.859  | 0.825| 0.834 |"
   ]
  },
  {
   "cell_type": "markdown",
   "metadata": {},
   "source": [
    "##### BOCN TF-IDF Vector Model\n",
    "Accroding to the results of training monitoring results, I can conduct that the model is about to right.\n",
    "\n",
    "- It can be shown that both training loss and validation loss is decreasing with the increasing of the number of epoch, and at the end they both are close to a steady state.\n",
    "\n",
    "- There is generation gap between the validation and training loss curve.\n",
    "\n",
    "- Although there is tiny fluctuations in training and validation loss but it is very tiny\n",
    "\n",
    "The way to prevent overfiting applied in this model includes:\n",
    "- Adding L2 regularisation\n",
    "- Stoping the traning when previous validation loss - current validation loss < the toleranceAccroding to the results of training monitoring results, I can conduct that the model is about to right."
   ]
  },
  {
   "cell_type": "markdown",
   "metadata": {},
   "source": [
    "### Feartures of classfication and performance analysis\n",
    "As expceted, in BOCN, the tfidf has better performance than count vector model, the reason is same as I stated before. It seemed that both BOCN count model and tfidf model both generate some sequence letters from words such as \"bad\", \"bori\" from \"boring\" in negative words and \"prefe\" from \"prefect\". These feartures are basically right as we excepeted and the accuracy is also OK which is higher than 80%.\n",
    "\n",
    "But the overall performance is lower than the BOW model. This may be caused by the BOCN model is too speicific and sequence of letters are specific and not enough to carry enough information compared with words(or bag of words), so they are not same distinguishable as BOW model.\n",
    "\n",
    "#### The `ngram_range` and performance\n",
    "I have noticed that the `ngram_range` have great influence on the model performance. If we set `ngram_range` as small range eg (1,2), the accuracy of model is very poor, if the range is large, the performance will increase obviously, this may be caused by the larger range will help the BOCN model to carry more useful information. It is easy to be understant just \"a\", \"b\", \"c\" will not informe the system anything. Larger number of letter can form the word or phrase to carry more information."
   ]
  },
  {
   "cell_type": "markdown",
   "metadata": {},
   "source": [
    "### BOW+BOCN count and TF-IDF vectors\t"
   ]
  },
  {
   "cell_type": "code",
   "execution_count": 42,
   "metadata": {},
   "outputs": [],
   "source": [
    "bow_bocn = set(list(vocab) + list(vocab_bocn))"
   ]
  },
  {
   "cell_type": "code",
   "execution_count": 43,
   "metadata": {},
   "outputs": [],
   "source": [
    "train_count_bow_bocn = np.column_stack((train_count, train_count_bocn))\n",
    "dev_count_bow_bocn = np.column_stack((dev_count, dev_count_bocn))\n",
    "test_count_bow_bocn = np.column_stack((test_count, test_count_bocn))\n",
    "\n",
    "train_bow_bocn_tfidf = tfidf(train_count_bow_bocn,bow_bocn, df + df_bocn)\n",
    "test_bow_bocn_tfidf = tfidf(test_count_bow_bocn,bow_bocn, test_df + df_bocn_test)\n",
    "dev_bow_bocn_tfidf = tfidf(dev_count_bow_bocn,bow_bocn, dev_df + df_bocn_dev)\n",
    "\n",
    "id2word_bow_bocn = dict(enumerate(bow_bocn))\n",
    "word2id_bow_bocn = {i:w for w, i in id2word_bow_bocn.items()}"
   ]
  },
  {
   "cell_type": "code",
   "execution_count": 44,
   "metadata": {},
   "outputs": [
    {
     "name": "stdout",
     "output_type": "stream",
     "text": [
      "Epoch: 0 | Training loss: 0.6615924979004739 | Validation loss: 0.6664489396450626\n",
      "Epoch: 1 | Training loss: 0.6368882677629472 | Validation loss: 0.6475448459940978\n",
      "Epoch: 2 | Training loss: 0.6160897393001382 | Validation loss: 0.6312092522115937\n",
      "Epoch: 3 | Training loss: 0.5998755709429534 | Validation loss: 0.6189664946742427\n",
      "Epoch: 4 | Training loss: 0.5836527449435683 | Validation loss: 0.6074024720173318\n",
      "Epoch: 5 | Training loss: 0.5681845123988343 | Validation loss: 0.5971554624852492\n",
      "Epoch: 6 | Training loss: 0.5552811746007312 | Validation loss: 0.5878871936123389\n",
      "Epoch: 7 | Training loss: 0.5440753936476918 | Validation loss: 0.5809462397167531\n",
      "Epoch: 8 | Training loss: 0.5326782999974125 | Validation loss: 0.5728719628766651\n",
      "Epoch: 9 | Training loss: 0.5226209016539207 | Validation loss: 0.5662098101524545\n",
      "Epoch: 10 | Training loss: 0.5181107256237484 | Validation loss: 0.5655327405859191\n",
      "Epoch: 11 | Training loss: 0.5046132019326564 | Validation loss: 0.5547860821296814\n",
      "Epoch: 12 | Training loss: 0.49649570773548174 | Validation loss: 0.5497373061134444\n",
      "Epoch: 13 | Training loss: 0.4890620614157464 | Validation loss: 0.5452842457270299\n",
      "Epoch: 14 | Training loss: 0.4813068806259212 | Validation loss: 0.5402953836704243\n",
      "Epoch: 15 | Training loss: 0.4743988064153892 | Validation loss: 0.5361153651097148\n",
      "Epoch: 16 | Training loss: 0.46788481321437353 | Validation loss: 0.5321471306550225\n",
      "Epoch: 17 | Training loss: 0.4615842498616824 | Validation loss: 0.5283092369281118\n",
      "Epoch: 18 | Training loss: 0.4557527609020787 | Validation loss: 0.5250723712948868\n",
      "Epoch: 19 | Training loss: 0.44982600279326934 | Validation loss: 0.5213491621780086\n",
      "Epoch: 20 | Training loss: 0.44428479372825264 | Validation loss: 0.5181332923183206\n",
      "Epoch: 21 | Training loss: 0.43923007602591235 | Validation loss: 0.5151411692142205\n",
      "Epoch: 22 | Training loss: 0.4342572020192043 | Validation loss: 0.51227496699524\n",
      "Epoch: 23 | Training loss: 0.42942010654981005 | Validation loss: 0.5098966236136016\n",
      "Epoch: 24 | Training loss: 0.4263936370859808 | Validation loss: 0.5081857108953435\n",
      "Epoch: 25 | Training loss: 0.4199718906757855 | Validation loss: 0.5042786528688539\n",
      "Epoch: 26 | Training loss: 0.41561469617829916 | Validation loss: 0.5017304122206854\n",
      "Epoch: 27 | Training loss: 0.41151597532537654 | Validation loss: 0.4993312331203343\n",
      "Epoch: 28 | Training loss: 0.40734425973019883 | Validation loss: 0.49713505565101057\n",
      "Epoch: 29 | Training loss: 0.40458905675914497 | Validation loss: 0.49554285212554744\n",
      "Epoch: 30 | Training loss: 0.3996573426603215 | Validation loss: 0.49297795595297655\n",
      "Epoch: 31 | Training loss: 0.3960449939079862 | Validation loss: 0.49068030702614235\n",
      "Epoch: 32 | Training loss: 0.39426548823193197 | Validation loss: 0.49004147534807724\n",
      "Epoch: 33 | Training loss: 0.38886710948097386 | Validation loss: 0.4870216014302386\n",
      "Epoch: 34 | Training loss: 0.3854587657666429 | Validation loss: 0.48513410508782184\n",
      "Epoch: 35 | Training loss: 0.3821712383958142 | Validation loss: 0.4833926625772159\n",
      "Epoch: 36 | Training loss: 0.37898699878981884 | Validation loss: 0.48152379553820607\n",
      "Epoch: 37 | Training loss: 0.3758467957491861 | Validation loss: 0.48002572646219904\n",
      "Epoch: 38 | Training loss: 0.37282227360053616 | Validation loss: 0.4783364747953896\n",
      "Epoch: 39 | Training loss: 0.3698438720018495 | Validation loss: 0.4768518571621506\n",
      "Epoch: 40 | Training loss: 0.3671239431728468 | Validation loss: 0.47588698553844866\n",
      "Epoch: 41 | Training loss: 0.3641707953412755 | Validation loss: 0.47406198806748134\n",
      "Epoch: 42 | Training loss: 0.36138649168205905 | Validation loss: 0.4726113213583277\n",
      "Epoch: 43 | Training loss: 0.3587956015495577 | Validation loss: 0.47154450894399375\n",
      "Epoch: 44 | Training loss: 0.3560339117515691 | Validation loss: 0.4696637991878454\n",
      "Epoch: 45 | Training loss: 0.3534783357252925 | Validation loss: 0.46859017618089893\n",
      "Epoch: 46 | Training loss: 0.3509724193876434 | Validation loss: 0.4670133629030265\n",
      "Epoch: 47 | Training loss: 0.34930835021425144 | Validation loss: 0.4660802266032305\n",
      "Epoch: 48 | Training loss: 0.34658317676795397 | Validation loss: 0.4660697175918543\n",
      "Epoch: 49 | Training loss: 0.34421364495271634 | Validation loss: 0.46489905843912993\n",
      "Epoch: 50 | Training loss: 0.34138936657647695 | Validation loss: 0.46241101060176637\n",
      "Epoch: 51 | Training loss: 0.33976321807642196 | Validation loss: 0.4628834201525143\n",
      "Finshed the traning at epoch:  51\n"
     ]
    }
   ],
   "source": [
    "w_bow_bocn, tr_loss_bow_bocn, dev_loss_bow_bocn = SGD(X_tr=train_count_bow_bocn ,\n",
    "                                             Y_tr=label_train,\n",
    "                                             X_dev=dev_count_bow_bocn,\n",
    "                                             Y_dev=label_dev,\n",
    "                                             lr=0.000005,\n",
    "                                             alpha=0.00005,\n",
    "                                             tolerance=0.0000001,\n",
    "                                             epochs=120)"
   ]
  },
  {
   "cell_type": "code",
   "execution_count": 45,
   "metadata": {},
   "outputs": [
    {
     "data": {
      "image/png": "[encoded data removed]",
      "text/plain": [
       "<Figure size 432x288 with 1 Axes>"
      ]
     },
     "metadata": {
      "needs_background": "light"
     },
     "output_type": "display_data"
    },
    {
     "name": "stdout",
     "output_type": "stream",
     "text": [
      "Accuracy: 0.8325\n",
      "Precision: 0.812206572769953\n",
      "Recall: 0.865\n",
      "F1-Score: 0.837772397094431\n",
      "Top 10 negative words:  [('years', 'after'), 'bates', 'killed', ('o', 'r', 'd', 'e', 'r'), 'rely', 'inability', ('y', 't', 'h', 'i'), 'primarily', 'harsh', ('a', 'r', 'i', 'o')]\n",
      "Top 10 positive words:  [('film', 'even'), ('r', 't', 'r', 'a', 'y'), 'nicole', ('s', 'i', 'n', 'e'), 'mitchell', ('e', 'n', 'c', 'e', 's'), ('p', 'p', 'a'), ('i', 'c', 't', 'u', 'r'), 'eve', 'dry']\n"
     ]
    }
   ],
   "source": [
    "plt.plot(tr_loss_bow_bocn, label='Training loss')\n",
    "plt.plot(dev_loss_bow_bocn, label='Validation loss')\n",
    "plt.xlabel('Epochs')\n",
    "plt.ylabel('Loss')\n",
    "plt.title('Training Monitoring\\n(Training and Validation History) of BOW_BOCN count Vectors')\n",
    "plt.legend()\n",
    "plt.show()\n",
    "\n",
    "preds_te_bow_bocn = predict_class(test_count_bow_bocn, w_bow_bocn)\n",
    "print('Accuracy:', accuracy_score(label_test,preds_te_bow_bocn))\n",
    "print('Precision:', precision_score(label_test,preds_te_bow_bocn))\n",
    "print('Recall:', recall_score(label_test,preds_te_bow_bocn))\n",
    "print('F1-Score:', f1_score(label_test,preds_te_bow_bocn))\n",
    "\n",
    "top_neg_bow_bocn = w_bow_bocn.argsort()[:10]\n",
    "top_pos_bow_bocn =  w_bow_bocn.argsort()[::-1][:10]\n",
    "print(\"Top 10 negative words: \",[id2word_bow_bocn[i] for i in top_neg_bow_bocn ])\n",
    "print(\"Top 10 positive words: \",[id2word_bow_bocn[i] for i in top_pos_bow_bocn ])"
   ]
  },
  {
   "cell_type": "code",
   "execution_count": 46,
   "metadata": {},
   "outputs": [
    {
     "name": "stdout",
     "output_type": "stream",
     "text": [
      "Epoch: 0 | Training loss: 0.6608429458300247 | Validation loss: 0.6691947897546728\n",
      "Epoch: 1 | Training loss: 0.6334555654394456 | Validation loss: 0.6502877160280992\n",
      "Epoch: 2 | Training loss: 0.6093982783651053 | Validation loss: 0.6329951442117268\n",
      "Epoch: 3 | Training loss: 0.589566059502711 | Validation loss: 0.6185304483284697\n",
      "Epoch: 4 | Training loss: 0.569674362324773 | Validation loss: 0.6049878541947781\n",
      "Epoch: 5 | Training loss: 0.552322320822344 | Validation loss: 0.593425231359202\n",
      "Epoch: 6 | Training loss: 0.5369765822539331 | Validation loss: 0.5826905190289685\n",
      "Epoch: 7 | Training loss: 0.5236454323591848 | Validation loss: 0.5744503129080342\n",
      "Epoch: 8 | Training loss: 0.510124156241307 | Validation loss: 0.564543998826588\n",
      "Epoch: 9 | Training loss: 0.49833991336040223 | Validation loss: 0.5567074413104462\n",
      "Epoch: 10 | Training loss: 0.4902610759009758 | Validation loss: 0.5527858912356107\n",
      "Epoch: 11 | Training loss: 0.47724808589750534 | Validation loss: 0.5426527686758168\n",
      "Epoch: 12 | Training loss: 0.46787920886690626 | Validation loss: 0.5366254238945329\n",
      "Epoch: 13 | Training loss: 0.4598162183751138 | Validation loss: 0.5317726231657807\n",
      "Epoch: 14 | Training loss: 0.4504817959562836 | Validation loss: 0.5252022027114\n",
      "Epoch: 15 | Training loss: 0.44258661396578736 | Validation loss: 0.5201726237138843\n",
      "Epoch: 16 | Training loss: 0.4353834869902457 | Validation loss: 0.5157095609334835\n",
      "Epoch: 17 | Training loss: 0.4281111829672363 | Validation loss: 0.5110869081722479\n",
      "Epoch: 18 | Training loss: 0.4215874035004885 | Validation loss: 0.5072322734992438\n",
      "Epoch: 19 | Training loss: 0.415028889997881 | Validation loss: 0.5030366974365162\n",
      "Epoch: 20 | Training loss: 0.40884971312983964 | Validation loss: 0.4993223644232004\n",
      "Epoch: 21 | Training loss: 0.403176670499398 | Validation loss: 0.49587881566584074\n",
      "Epoch: 22 | Training loss: 0.39770559780494735 | Validation loss: 0.492625915437801\n",
      "Epoch: 23 | Training loss: 0.3922235090535231 | Validation loss: 0.48977041704981594\n",
      "Epoch: 24 | Training loss: 0.3878711825180377 | Validation loss: 0.48687811720363927\n",
      "Epoch: 25 | Training loss: 0.38208421952545485 | Validation loss: 0.48386132837148565\n",
      "Epoch: 26 | Training loss: 0.3773614446727272 | Validation loss: 0.4810170339595017\n",
      "Epoch: 27 | Training loss: 0.37288267577156686 | Validation loss: 0.47840780759286544\n",
      "Epoch: 28 | Training loss: 0.3683641794277966 | Validation loss: 0.4762135526308966\n",
      "Epoch: 29 | Training loss: 0.3648236493291939 | Validation loss: 0.4737988044024256\n",
      "Epoch: 30 | Training loss: 0.36001726000667683 | Validation loss: 0.4715507634907199\n",
      "Epoch: 31 | Training loss: 0.3561051818058984 | Validation loss: 0.4693414750490206\n",
      "Epoch: 32 | Training loss: 0.3535269045069219 | Validation loss: 0.46765687234369346\n",
      "Epoch: 33 | Training loss: 0.34846999186189687 | Validation loss: 0.46561294901431366\n",
      "Epoch: 34 | Training loss: 0.3448929071966008 | Validation loss: 0.46359405618924604\n",
      "Epoch: 35 | Training loss: 0.34147731108464263 | Validation loss: 0.4625984362881356\n",
      "Epoch: 36 | Training loss: 0.3379488083202755 | Validation loss: 0.4602895700378353\n",
      "Epoch: 37 | Training loss: 0.33468347031139356 | Validation loss: 0.4584964790319833\n",
      "Epoch: 38 | Training loss: 0.33144673044813644 | Validation loss: 0.45737738861503646\n",
      "Epoch: 39 | Training loss: 0.3283144182705066 | Validation loss: 0.4558565792480215\n",
      "Epoch: 40 | Training loss: 0.32531792887186645 | Validation loss: 0.45467741073511275\n",
      "Epoch: 41 | Training loss: 0.3223922691075497 | Validation loss: 0.45342719361845596\n",
      "Epoch: 42 | Training loss: 0.31946102771984436 | Validation loss: 0.45197238858078603\n",
      "Epoch: 43 | Training loss: 0.31679204655283666 | Validation loss: 0.45122652133513247\n",
      "Epoch: 44 | Training loss: 0.31388552279155013 | Validation loss: 0.44864241168895747\n",
      "Epoch: 45 | Training loss: 0.3111846025789584 | Validation loss: 0.44818929255852935\n",
      "Epoch: 46 | Training loss: 0.3085950329239237 | Validation loss: 0.4462481418850113\n",
      "Epoch: 47 | Training loss: 0.3061905437428854 | Validation loss: 0.4449176076669827\n",
      "Epoch: 48 | Training loss: 0.30392008823822 | Validation loss: 0.4462844957528761\n",
      "Finshed the traning at epoch:  48\n"
     ]
    }
   ],
   "source": [
    "w_bow_bocn_tfidf, tr_loss_bow_bocn_tfidf, dev_loss_bow_bocn_tfidf = SGD(X_tr=train_bow_bocn_tfidf ,\n",
    "                                             Y_tr=label_train,\n",
    "                                             X_dev=dev_bow_bocn_tfidf,\n",
    "                                             Y_dev=label_dev,\n",
    "                                             lr=0.0001,\n",
    "                                             alpha=0.00005,\n",
    "                                             tolerance=0.0000001,\n",
    "                                             epochs=120)"
   ]
  },
  {
   "cell_type": "code",
   "execution_count": 47,
   "metadata": {},
   "outputs": [
    {
     "data": {
      "image/png": "[encoded data removed]",
      "text/plain": [
       "<Figure size 432x288 with 1 Axes>"
      ]
     },
     "metadata": {
      "needs_background": "light"
     },
     "output_type": "display_data"
    },
    {
     "name": "stdout",
     "output_type": "stream",
     "text": [
      "Accuracy: 0.8475\n",
      "Precision: 0.8492462311557789\n",
      "Recall: 0.845\n",
      "F1-Score: 0.8471177944862155\n",
      "Top 10 negative words:  ['bates', ('years', 'after'), 'superman', 'inability', 'primarily', 'ludicrous', 'harsh', ('runs', 'into'), ('first', 'rate'), 'philip']\n",
      "Top 10 positive words:  ['nicole', ('film', 'even'), 'michelle', ('some', 'very'), 'mitchell', 'explaining', 'dry', 'warrior', ('come', 'off'), 'demonstrates']\n"
     ]
    }
   ],
   "source": [
    "plt.plot(tr_loss_bow_bocn_tfidf, label='Training loss')\n",
    "plt.plot(dev_loss_bow_bocn_tfidf, label='Validation loss')\n",
    "plt.xlabel('Epochs')\n",
    "plt.ylabel('Loss')\n",
    "plt.title('Training Monitoring\\n(Training and Validation History) of BOW_BOCN TFIDF Vectors')\n",
    "plt.legend()\n",
    "plt.show()\n",
    "\n",
    "preds_te_bow_bocn_tfidf = predict_class(test_bow_bocn_tfidf, w_bow_bocn_tfidf)\n",
    "print('Accuracy:', accuracy_score(label_test,preds_te_bow_bocn_tfidf))\n",
    "print('Precision:', precision_score(label_test,preds_te_bow_bocn_tfidf))\n",
    "print('Recall:', recall_score(label_test,preds_te_bow_bocn_tfidf))\n",
    "print('F1-Score:', f1_score(label_test,preds_te_bow_bocn_tfidf))\n",
    "\n",
    "top_neg_bow_bocn_idf = w_bow_bocn_tfidf.argsort()[:10]\n",
    "top_pos_bow_bocn_idf =  w_bow_bocn_tfidf.argsort()[::-1][:10]\n",
    "print(\"Top 10 negative words: \",[id2word_bow_bocn[i] for i in top_neg_bow_bocn_idf ])\n",
    "print(\"Top 10 positive words: \",[id2word_bow_bocn[i] for i in top_pos_bow_bocn_idf ])"
   ]
  },
  {
   "cell_type": "markdown",
   "metadata": {},
   "source": [
    "Accroding to the results of training monitoring results of both BOW-BOCN count and TF-IDF model, I can conduct those models are about to right.\n",
    "\n",
    "- It can be shown that both training loss and validation loss is decreasing with the increasing of the number of epoch, and at the end they both are close to a steady state.\n",
    "\n",
    "- There is generation gap between the validation and training loss curve.\n",
    "\n",
    "The way to prevent overfiting applied in this model includes:\n",
    "- Adding L2 regularisation\n",
    "- Stoping the traning when previous validation loss - current validation loss < the tolerance"
   ]
  },
  {
   "cell_type": "markdown",
   "metadata": {},
   "source": [
    "###### Optimisation of parameter\n",
    "For saving time we just did Learning rate optimisation with alpha = 0.00005 on the tfidf vector, the results are shown below.\n",
    "\n",
    "| Trial | LR| Epochs | Tr. loss | Val. loss | Precision | Recall | F1-Score |\n",
    "|-------|------------|--------|----------|-----------|-----------|--------|----------|\n",
    "| 1   | 0.00001   | 73    |0.262| 0.428 | 0.842   | 0.844 | 0.842 |\n",
    "| 2   | 0.00002 | 58     |0.209| 0.411 | 0.838  | 0.855| 0.846  |\n",
    "| 3    | 0.0001 | 23     |0.221| 0.420  | 0.844  | 0.84| 0.842 |"
   ]
  },
  {
   "cell_type": "markdown",
   "metadata": {},
   "source": [
    "### Feartures of classfication and performance analysis\n",
    "As expected, in BOCN-BOW model, the TF-IDF model have better performance. The BOCN-BOW is also achieved very high performance.\n",
    "\n",
    "The BOCN-BOW should be provided the best performance beacause this model contains the most information compared by the single BOW or BOCN model it contains n_grams of words and characters which is potential to cover all useful information. But in this project the overall performance is slitely lower than the BOW model. This may caused by I did not do very carefull optimisation here and it not reach to the maximum performance. There is one another possibility is that we have changed the shape of matrix and there is more features in BOW-BOCN as 10000 vs 5000 in BOW or BOCN, that might also changed the quality of data so influences the performances. \n",
    "\n",
    "The features extract here is not very clear than the BOW model but it also contains some words can express the attitudes.eg. Positive: 'respective', 'intellectual', negative: 'foul', ('c', 'h', 'o', 'o', 'l') It has been notice that the features are mainly bag of words but not the characters n-gram. This also can conduct the Bag of words is better than the BOCN model."
   ]
  },
  {
   "cell_type": "markdown",
   "metadata": {},
   "source": [
    "\n",
    "\n",
    "## Full Results\n",
    "\n",
    "Add here your results:\n",
    "\n",
    "| LR | Precision  | Recall  | F1-Score  |\n",
    "|:-:|:-:|:-:|:-:|\n",
    "| BOW-count  | 0.853  |0.84\t   |0.846  |\t\n",
    "| BOW-tfidf  | 0.898  |0.885   |0.889  |\t\t\n",
    "| BOCN-count  | 0.81  |\t0.86   |0.831  |\t\n",
    "| BOCN-tfidf  | 0.859 |0.825   |0.834  |\t\t\n",
    "| BOW+BOCN  |  0.847 | 0.885  |  0.865 |\n",
    "\n",
    "Please discuss why your best performing model is better than the rest."
   ]
  },
  {
   "cell_type": "markdown",
   "metadata": {},
   "source": [
    "##### Answer\n",
    "\n",
    "Generally speaking, all 5 models preforms well and all of them achieved high performances which all > 80 %  in F1-scores, but we can still rank them: \n",
    "\n",
    "BOW-tfidf > BOW+BOCN(tfidf) > BOW-count > BOCN-TFIDF > BOCN-count "
   ]
  },
  {
   "cell_type": "markdown",
   "metadata": {},
   "source": [
    "It can be concluded that the BOW model is better than BOCN model and tfidf is better than the count model,while BOW + BOCN is between two of them but it should rank first because it provides both specific and words information.The reason to cause that might be I have changed the shape of matrix as I mentioned above.\n",
    "\n",
    "The reason of BOW model better is that the words or bag of words is able to carry more useful information, by contrast, the BOCN may not carry enough information which can be helpful to classfy the movie reviews.\n",
    "\n",
    "We can make a summary as below:\n",
    "\n",
    "The TF-IDF model have better performance is because TF-IDF contains information on the more important words and the less important ones as well, the important words have higher score than the common \"good\" or \"bad\" words, so IDF-TF model performs better in binary classfication, and it can extract more specific features than the counts model.\n",
    "\n",
    "Generally, all model is performed as we expected."
   ]
  }
 ],
 "metadata": {
  "kernelspec": {
   "display_name": "Python 3 (ipykernel)",
   "language": "python",
   "name": "python3"
  },
  "language_info": {
   "codemirror_mode": {
    "name": "ipython",
    "version": 3
   },
   "file_extension": ".py",
   "mimetype": "text/x-python",
   "name": "python",
   "nbconvert_exporter": "python",
   "pygments_lexer": "ipython3",
   "version": "3.9.7"
  }
 },
 "nbformat": 4,
 "nbformat_minor": 2
}
