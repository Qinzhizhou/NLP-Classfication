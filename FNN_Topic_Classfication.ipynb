{
 "cells": [
  {
   "cell_type": "markdown",
   "metadata": {},
   "source": [
    "# [COM6513] Assignment 2: Topic Classification with a Feedforward Network\n",
    "\n",
    "\n",
    "### Instructor: Nikos Aletras\n",
    "\n",
    "\n",
    "The goal of this assignment is to develop a Feedforward neural network for topic classification. \n",
    "\n",
    "\n",
    "\n",
    "For that purpose, you will implement:\n",
    "\n",
    "- Text processing methods for transforming raw text data into input vectors for your network  (**1 mark**)\n",
    "\n",
    "\n",
    "- A Feedforward network consisting of:\n",
    "    - **One-hot** input layer mapping words into an **Embedding weight matrix** (**1 mark**)\n",
    "    - **One hidden layer** computing the mean embedding vector of all words in input followed by a **ReLU activation function** (**1 mark**)\n",
    "    - **Output layer** with a **softmax** activation. (**1 mark**)\n",
    "\n",
    "\n",
    "- The Stochastic Gradient Descent (SGD) algorithm with **back-propagation** to learn the weights of your Neural network. Your algorithm should:\n",
    "    - Use (and minimise) the **Categorical Cross-entropy loss** function (**1 mark**)\n",
    "    - Perform a **Forward pass** to compute intermediate outputs (**3 marks**)\n",
    "    - Perform a **Backward pass** to compute gradients and update all sets of weights (**6 marks**)\n",
    "    - Implement and use **Dropout** after each hidden layer for regularisation (**2 marks**)\n",
    "\n",
    "\n",
    "\n",
    "- Discuss how did you choose hyperparameters? You can tune the learning rate (hint: choose small values), embedding size {e.g. 50, 300, 500}, the dropout rate {e.g. 0.2, 0.5} and the learning rate. Please use tables or graphs to show training and validation performance for each hyperparameter combination  (**2 marks**). \n",
    "\n",
    "\n",
    "\n",
    "- After training a model, plot the learning process (i.e. training and validation loss in each epoch) using a line plot and report accuracy. Does your model overfit, underfit or is about right? (**1 mark**).\n",
    "\n",
    "\n",
    "\n",
    "- Re-train your network by using pre-trained embeddings ([GloVe](https://nlp.stanford.edu/projects/glove/)) trained on large corpora. Instead of randomly initialising the embedding weights matrix, you should initialise it with the pre-trained weights. During training, you should not update them (i.e. weight freezing) and backprop should stop before computing gradients for updating embedding weights. Report results by performing hyperparameter tuning and plotting the learning process. Do you get better performance? (**3 marks**).\n",
    "\n",
    "\n",
    "\n",
    "- Extend you Feedforward network by adding more hidden layers (e.g. one more or two). How does it affect the performance? Note: You need to repeat hyperparameter tuning, but the number of combinations grows exponentially. Therefore, you need to choose a subset of all possible combinations (**4 marks**)\n",
    "\n",
    "\n",
    "- Provide well documented and commented code describing all of your choices. In general, you are free to make decisions about text processing (e.g. punctuation, numbers, vocabulary size) and hyperparameter values. We expect to see justifications and discussion for all of your choices (**2 marks**). \n",
    "\n",
    "\n",
    "\n",
    "- Provide efficient solutions by using Numpy arrays when possible. Executing the whole notebook with your code should not take more than 10 minutes on any standard computer (e.g. Intel Core i5 CPU, 8 or 16GB RAM) excluding hyperparameter tuning runs and loading the pretrained vectors. You can find tips in Lab 1 (**2 marks**). \n",
    "\n",
    "\n",
    "\n",
    "### Data \n",
    "\n",
    "The data you will use for the task is a subset of the [AG News Corpus](http://groups.di.unipi.it/~gulli/AG_corpus_of_news_articles.html) and you can find it in the `./data_topic` folder in CSV format:\n",
    "\n",
    "- `data_topic/train.csv`: contains 2,400 news articles, 800 for each class to be used for training.\n",
    "- `data_topic/dev.csv`: contains 150 news articles, 50 for each class to be used for hyperparameter selection and monitoring the training process.\n",
    "- `data_topic/test.csv`: contains 900 news articles, 300 for each class to be used for testing.\n",
    "\n",
    "### Pre-trained Embeddings\n",
    "\n",
    "You can download pre-trained GloVe embeddings trained on Common Crawl (840B tokens, 2.2M vocab, cased, 300d vectors, 2.03 GB download) from [here](http://nlp.stanford.edu/data/glove.840B.300d.zip). No need to unzip, the file is large.\n",
    "\n",
    "### Save Memory\n",
    "\n",
    "To save RAM, when you finish each experiment you can delete the weights of your network using `del W` followed by Python's garbage collector `gc.collect()`\n",
    "\n",
    "\n"
   ]
  },
  {
   "cell_type": "markdown",
   "metadata": {},
   "source": [
    "### Submission Instructions\n",
    "\n",
    "You should submit a Jupyter Notebook file (assignment2.ipynb) and an exported PDF version (you can do it from Jupyter: `File->Download as->PDF via Latex`).\n",
    "\n",
    "\n",
    "You are advised to follow the code structure given in this notebook by completing all given funtions. You can also write any auxilliary/helper functions (and arguments for the functions) that you might need but note that you can provide a full solution without any such functions. Similarly, you can just use only the packages imported below but you are free to use any functionality from the [Python Standard Library](https://docs.python.org/3/library/index.html), NumPy, SciPy (excluding built-in softmax funtcions) and Pandas. You are **not allowed to use any third-party library** such as Scikit-learn (apart from metric functions already provided), NLTK, Spacy, Keras, Pytorch etc.. You should mention if you've used Windows to write and test your code because we mostly use Unix based machines for marking (e.g. Ubuntu, MacOS). \n",
    "\n",
    "There is no single correct answer on what your accuracy should be, but correct implementations usually achieve F1-scores around 80\\% or higher. The quality of the analysis of the results is as important as the accuracy itself. \n",
    "\n",
    "This assignment will be marked out of 30. It is worth 30\\% of your final grade in the module.\n",
    "\n",
    "The deadline for this assignment is **23:59 on Mon, 9 May 2022** and it needs to be submitted via Blackboard. Standard departmental penalties for lateness will be applied. We use a range of strategies to **detect [unfair means](https://www.sheffield.ac.uk/ssid/unfair-means/index)**, including Turnitin which helps detect plagiarism. Use of unfair means would result in getting a failing grade.\n",
    "\n"
   ]
  },
  {
   "cell_type": "code",
   "execution_count": 1,
   "metadata": {
    "ExecuteTime": {
     "end_time": "2020-04-02T15:00:18.625532Z",
     "start_time": "2020-04-02T15:00:17.377733Z"
    },
    "scrolled": true
   },
   "outputs": [],
   "source": [
    "import pandas as pd\n",
    "import numpy as np\n",
    "from collections import Counter\n",
    "import re\n",
    "import matplotlib.pyplot as plt\n",
    "from sklearn.metrics import accuracy_score, precision_score, recall_score, f1_score\n",
    "import random\n",
    "from time import localtime, strftime\n",
    "from scipy.stats import spearmanr,pearsonr\n",
    "import zipfile\n",
    "import gc\n",
    "\n",
    "# fixing random seed for reproducibility\n",
    "random.seed(123)\n",
    "np.random.seed(123)\n"
   ]
  },
  {
   "cell_type": "markdown",
   "metadata": {},
   "source": [
    "## Transform Raw texts into training and development data\n",
    "\n",
    "First, you need to load the training, development and test sets from their corresponding CSV files (tip: you can use Pandas dataframes)."
   ]
  },
  {
   "cell_type": "code",
   "execution_count": 2,
   "metadata": {
    "ExecuteTime": {
     "end_time": "2020-04-02T14:26:39.748484Z",
     "start_time": "2020-04-02T14:26:39.727404Z"
    },
    "scrolled": true
   },
   "outputs": [],
   "source": [
    "train_data = pd.read_csv(\"./data_topic/train.csv\",names=[\"label\",\"text\"])\n",
    "dev_data = pd.read_csv(\"./data_topic/dev.csv\",names=[\"label\",\"text\"])\n",
    "test_data = pd.read_csv(\"./data_topic/test.csv\",names=[\"label\",\"text\"])"
   ]
  },
  {
   "cell_type": "code",
   "execution_count": 3,
   "metadata": {
    "ExecuteTime": {
     "end_time": "2020-04-02T14:26:39.753874Z",
     "start_time": "2020-04-02T14:26:39.749647Z"
    },
    "scrolled": true
   },
   "outputs": [],
   "source": [
    "#trainsform the df to list\n",
    "train_text = list(train_data['text'])\n",
    "dev_text = list(dev_data['text'])\n",
    "test_text = list(test_data['text'])"
   ]
  },
  {
   "cell_type": "markdown",
   "metadata": {},
   "source": [
    "# Create input representations\n",
    "\n",
    "\n",
    "To train your Feedforward network, you first need to obtain input representations given a vocabulary. One-hot encoding requires large memory capacity. Therefore, we will instead represent documents as lists of vocabulary indices (each word corresponds to a vocabulary index). \n",
    "\n",
    "\n",
    "## Text Pre-Processing Pipeline\n",
    "\n",
    "To obtain a vocabulary of words. You should: \n",
    "- tokenise all texts into a list of unigrams (tip: you can re-use the functions from Assignment 1) \n",
    "- remove stop words (using the one provided or one of your preference) \n",
    "- remove unigrams appearing in less than K documents\n",
    "- use the remaining to create a vocabulary of the top-N most frequent unigrams in the entire corpus.\n"
   ]
  },
  {
   "cell_type": "code",
   "execution_count": 4,
   "metadata": {
    "ExecuteTime": {
     "end_time": "2020-04-02T14:26:40.851926Z",
     "start_time": "2020-04-02T14:26:40.847500Z"
    },
    "scrolled": true
   },
   "outputs": [],
   "source": [
    "stop_words = ['a','in','on','at','and','or', \n",
    "              'to', 'the', 'of', 'an', 'by', \n",
    "              'as', 'is', 'was', 'were', 'been', 'be', \n",
    "              'are','for', 'this', 'that', 'these', 'those', 'you', 'i', 'if',\n",
    "             'it', 'he', 'she', 'we', 'they', 'will', 'have', 'has',\n",
    "              'do', 'did', 'can', 'could', 'who', 'which', 'what',\n",
    "              'but', 'not', 'there', 'no', 'does', 'not', 'so', 've', 'their',\n",
    "             'his', 'her', 'they', 'them', 'from', 'with', 'its']"
   ]
  },
  {
   "cell_type": "markdown",
   "metadata": {},
   "source": [
    "### Unigram extraction from a document\n",
    "\n",
    "You first need to implement the `extract_ngrams` function. It takes as input:\n",
    "- `x_raw`: a string corresponding to the raw text of a document\n",
    "- `ngram_range`: a tuple of two integers denoting the type of ngrams you want to extract, e.g. (1,2) denotes extracting unigrams and bigrams.\n",
    "- `token_pattern`: a string to be used within a regular expression to extract all tokens. Note that data is already tokenised so you could opt for a simple white space tokenisation.\n",
    "- `stop_words`: a list of stop words\n",
    "- `vocab`: a given vocabulary. It should be used to extract specific features.\n",
    "\n",
    "and returns:\n",
    "\n",
    "- a list of all extracted features.\n"
   ]
  },
  {
   "cell_type": "code",
   "execution_count": 5,
   "metadata": {
    "ExecuteTime": {
     "end_time": "2020-05-11T08:23:17.181553Z",
     "start_time": "2020-05-11T08:23:17.178314Z"
    },
    "scrolled": true
   },
   "outputs": [],
   "source": [
    "def extract_ngrams(x_raw, ngram_range=(1,3), token_pattern=r'\\b[A-Za-z][A-Za-z]+\\b', stop_words=[], vocab=set()):\n",
    "   \n",
    "    tokenRE = re.compile(token_pattern)\n",
    "    # first extract all unigrams by tokenising\n",
    "    x_uni = [w for w in tokenRE.findall(str(x_raw).lower(),) if w not in stop_words]\n",
    "    # this is to store the ngrams to be returned\n",
    "    x = []\n",
    "    if ngram_range[0]==1:\n",
    "        x = x_uni\n",
    "    # generate n-grams from the available unigrams x_uni\n",
    "    ngrams = []\n",
    "    for n in range(ngram_range[0], ngram_range[1]+1):\n",
    "       \n",
    "        # ignore unigrams\n",
    "        if n==1: continue\n",
    "       \n",
    "        # pass a list of lists as an argument for zip\n",
    "        arg_list = [x_uni]+[x_uni[i:] for i in range(1, n)]\n",
    "\n",
    "        # extract tuples of n-grams using zip\n",
    "        # for bigram this should look: list(zip(x_uni, x_uni[1:]))\n",
    "        # align each item x[i] in x_uni with the next one x[i+1].\n",
    "        # Note that x_uni and x_uni[1:] have different lengths\n",
    "        # but zip ignores redundant elements at the end of the second list\n",
    "        # Alternatively, this could be done with for loops\n",
    "        x_ngram = list(zip(*arg_list))\n",
    "        ngrams.append(x_ngram)\n",
    "    for n in ngrams:\n",
    "        for t in n:\n",
    "            x.append(t)\n",
    "       \n",
    "    if len(vocab)>0:\n",
    "        x = [w for w in x if w in vocab]\n",
    "    return x"
   ]
  },
  {
   "cell_type": "markdown",
   "metadata": {},
   "source": [
    "### Create a vocabulary of n-grams\n",
    "\n",
    "Then the `get_vocab` function will be used to (1) create a vocabulary of ngrams; (2) count the document frequencies of ngrams; (3) their raw frequency. It takes as input:\n",
    "- `X_raw`: a list of strings each corresponding to the raw text of a document\n",
    "- `ngram_range`: a tuple of two integers denoting the type of ngrams you want to extract, e.g. (1,2) denotes extracting unigrams and bigrams.\n",
    "- `token_pattern`: a string to be used within a regular expression to extract all tokens. Note that data is already tokenised so you could opt for a simple white space tokenisation.\n",
    "- `stop_words`: a list of stop words\n",
    "- `min_df`: keep ngrams with a minimum document frequency.\n",
    "- `keep_topN`: keep top-N more frequent ngrams.\n",
    "\n",
    "and returns:\n",
    "\n",
    "- `vocab`: a set of the n-grams that will be used as features.\n",
    "- `df`: a Counter (or dict) that contains ngrams as keys and their corresponding document frequency as values.\n",
    "- `ngram_counts`: counts of each ngram in vocab\n"
   ]
  },
  {
   "cell_type": "code",
   "execution_count": 6,
   "metadata": {
    "ExecuteTime": {
     "end_time": "2020-04-02T14:26:42.563876Z",
     "start_time": "2020-04-02T14:26:42.557967Z"
    },
    "scrolled": true
   },
   "outputs": [],
   "source": [
    "def get_vocab(X_raw, ngram_range=(1,3), token_pattern=r'\\b[A-Za-z][A-Za-z]+\\b',\n",
    "              min_df=0, keep_topN=0, stop_words=[]):\n",
    "   \n",
    "   \n",
    "    tokenRE = re.compile(token_pattern)\n",
    "   \n",
    "    df = Counter()\n",
    "    ngram_counts = Counter()\n",
    "    vocab = set()\n",
    "   \n",
    "    # iterate through each raw text\n",
    "    for x in X_raw:\n",
    "        x_ngram = extract_ngrams(x, ngram_range=ngram_range, token_pattern=token_pattern, stop_words=stop_words)\n",
    "        #update doc and ngram frequencies\n",
    "        df.update(list(set(x_ngram)))\n",
    "        ngram_counts.update(x_ngram)\n",
    "\n",
    "    # obtain a vocabulary as a set.\n",
    "    # Keep elements with doc frequency > minimum doc freq (min_df)\n",
    "    # Note that df contains all te\n",
    "    vocab = set([w for w in df if df[w]>=min_df])\n",
    "   \n",
    "    # keep the top N most frequent\n",
    "    if keep_topN>0:\n",
    "        vocab = set([w[0] for w in ngram_counts.most_common(keep_topN) if w[0] in vocab])\n",
    "   \n",
    "   \n",
    "    return vocab, df, ngram_counts"
   ]
  },
  {
   "cell_type": "markdown",
   "metadata": {},
   "source": [
    "Now you should use `get_vocab` to create your vocabulary and get document and raw frequencies of unigrams:"
   ]
  },
  {
   "cell_type": "code",
   "execution_count": 7,
   "metadata": {
    "ExecuteTime": {
     "end_time": "2020-04-02T14:26:43.577997Z",
     "start_time": "2020-04-02T14:26:43.478950Z"
    },
    "scrolled": true
   },
   "outputs": [
    {
     "name": "stdout",
     "output_type": "stream",
     "text": [
      "Vocab: \n",
      " ['gymnasts', 'largest', 'prove', 'markets', 'violations', 'most', 'positive', 'fencing', 'devices', 'assembly', 'john', 'because', 'mass', 'damage', 'hoping', 'twenty', 'son', 'football', 'world', 'record', 'france', 'watched', 'wanted', 'chairman', 'wife', 'india', 'friends', 'market', 'cleveland', 'lower', 'serious', 'edge', 'threatened', 'meter', 'looks', 'something', 'press', 'civil', 'ethnic', 'pakistan', 'changed', 'run', 'probably', 'political', 'dawn', 'title', 'funds', 'heat', 'leave', 'weeks']\n",
      "\n",
      " Raw frequencies of n-grams: \n",
      " [('reuters', 631), ('said', 432), ('tuesday', 413), ('wednesday', 344), ('new', 325), ('after', 295), ('ap', 275), ('athens', 245), ('monday', 221), ('first', 210)]\n",
      "\n",
      " Counts of each ngram in vocab \n",
      " [('reuters', 694), ('said', 440), ('tuesday', 415), ('new', 365), ('wednesday', 346), ('after', 304), ('athens', 293), ('ap', 276), ('monday', 221), ('first', 219)]\n"
     ]
    }
   ],
   "source": [
    "vocab,df,ngram_counts = get_vocab(train_text, ngram_range=(1,1), keep_topN=2000, stop_words=stop_words)\n",
    "vocab_dev, df_dev, ngram_counts_dev = get_vocab(dev_text, ngram_range=(1,1), keep_topN=2000, stop_words=stop_words)\n",
    "vocab_test, df_test, ngram_counts_test = get_vocab(test_text, ngram_range=(1,1), keep_topN=2000, stop_words=stop_words)\n",
    "\n",
    "print(\"Vocab: \\n\", list(vocab)[:50])\n",
    "print(\"\\n Raw frequencies of n-grams: \\n\", df.most_common()[:10])\n",
    "print(\"\\n Counts of each ngram in vocab \\n\", ngram_counts.most_common()[:10])"
   ]
  },
  {
   "cell_type": "markdown",
   "metadata": {},
   "source": [
    "Then, you need to create vocabulary id -> word and word -> vocabulary id dictionaries for reference:"
   ]
  },
  {
   "cell_type": "code",
   "execution_count": 8,
   "metadata": {
    "ExecuteTime": {
     "end_time": "2020-04-02T14:26:44.069661Z",
     "start_time": "2020-04-02T14:26:44.065058Z"
    },
    "scrolled": true
   },
   "outputs": [
    {
     "data": {
      "text/plain": [
       "{'gymnasts': 0,\n",
       " 'largest': 1,\n",
       " 'prove': 2,\n",
       " 'markets': 3,\n",
       " 'violations': 4,\n",
       " 'most': 5,\n",
       " 'positive': 6,\n",
       " 'fencing': 7,\n",
       " 'devices': 8,\n",
       " 'assembly': 9,\n",
       " 'john': 10,\n",
       " 'because': 11,\n",
       " 'mass': 12,\n",
       " 'damage': 13,\n",
       " 'hoping': 14,\n",
       " 'twenty': 15,\n",
       " 'son': 16,\n",
       " 'football': 17,\n",
       " 'world': 18,\n",
       " 'record': 19,\n",
       " 'france': 20,\n",
       " 'watched': 21,\n",
       " 'wanted': 22,\n",
       " 'chairman': 23,\n",
       " 'wife': 24,\n",
       " 'india': 25,\n",
       " 'friends': 26,\n",
       " 'market': 27,\n",
       " 'cleveland': 28,\n",
       " 'lower': 29,\n",
       " 'serious': 30,\n",
       " 'edge': 31,\n",
       " 'threatened': 32,\n",
       " 'meter': 33,\n",
       " 'looks': 34,\n",
       " 'something': 35,\n",
       " 'press': 36,\n",
       " 'civil': 37,\n",
       " 'ethnic': 38,\n",
       " 'pakistan': 39,\n",
       " 'changed': 40,\n",
       " 'run': 41,\n",
       " 'probably': 42,\n",
       " 'political': 43,\n",
       " 'dawn': 44,\n",
       " 'title': 45,\n",
       " 'funds': 46,\n",
       " 'heat': 47,\n",
       " 'leave': 48,\n",
       " 'weeks': 49,\n",
       " 'ditch': 50,\n",
       " 'linked': 51,\n",
       " 'manager': 52,\n",
       " 'many': 53,\n",
       " 'advertising': 54,\n",
       " 'qaida': 55,\n",
       " 'shia': 56,\n",
       " 'tens': 57,\n",
       " 'yesterday': 58,\n",
       " 'villa': 59,\n",
       " 'further': 60,\n",
       " 'began': 61,\n",
       " 'surge': 62,\n",
       " 'investors': 63,\n",
       " 'large': 64,\n",
       " 'lows': 65,\n",
       " 'georgian': 66,\n",
       " 'kuala': 67,\n",
       " 'concern': 68,\n",
       " 'stayed': 69,\n",
       " 'mason': 70,\n",
       " 'support': 71,\n",
       " 'switzerland': 72,\n",
       " 'defending': 73,\n",
       " 'gary': 74,\n",
       " 'congress': 75,\n",
       " 'drive': 76,\n",
       " 'hot': 77,\n",
       " 'owners': 78,\n",
       " 'outlook': 79,\n",
       " 'moscow': 80,\n",
       " 'moves': 81,\n",
       " 'preseason': 82,\n",
       " 'loans': 83,\n",
       " 'ex': 84,\n",
       " 'practices': 85,\n",
       " 'output': 86,\n",
       " 'wall': 87,\n",
       " 'sudanese': 88,\n",
       " 'claiming': 89,\n",
       " 'crowded': 90,\n",
       " 'having': 91,\n",
       " 'sweep': 92,\n",
       " 'dallas': 93,\n",
       " 'tied': 94,\n",
       " 'gaza': 95,\n",
       " 'ltd': 96,\n",
       " 'hansen': 97,\n",
       " 'season': 98,\n",
       " 'series': 99,\n",
       " 'internet': 100,\n",
       " 'got': 101,\n",
       " 'refused': 102,\n",
       " 'any': 103,\n",
       " 'presidency': 104,\n",
       " 'runs': 105,\n",
       " 'stage': 106,\n",
       " 'carter': 107,\n",
       " 'mortgage': 108,\n",
       " 'again': 109,\n",
       " 'gymnastics': 110,\n",
       " 'jumped': 111,\n",
       " 'offset': 112,\n",
       " 'suspects': 113,\n",
       " 'round': 114,\n",
       " 'just': 115,\n",
       " 'growth': 116,\n",
       " 'tax': 117,\n",
       " 'players': 118,\n",
       " 'had': 119,\n",
       " 'slow': 120,\n",
       " 'afternoon': 121,\n",
       " 'says': 122,\n",
       " 'chavez': 123,\n",
       " 'summer': 124,\n",
       " 'sydney': 125,\n",
       " 'arlington': 126,\n",
       " 'delivery': 127,\n",
       " 'afghan': 128,\n",
       " 'restaurants': 129,\n",
       " 'office': 130,\n",
       " 'through': 131,\n",
       " 'total': 132,\n",
       " 'stay': 133,\n",
       " 'newspaper': 134,\n",
       " 'fans': 135,\n",
       " 'lose': 136,\n",
       " 'turkish': 137,\n",
       " 'close': 138,\n",
       " 'sharply': 139,\n",
       " 'rate': 140,\n",
       " 'michael': 141,\n",
       " 'asked': 142,\n",
       " 'http': 143,\n",
       " 'idea': 144,\n",
       " 'venezuelan': 145,\n",
       " 'black': 146,\n",
       " 'draw': 147,\n",
       " 'robert': 148,\n",
       " 'backed': 149,\n",
       " 'champion': 150,\n",
       " 'applied': 151,\n",
       " 'gorda': 152,\n",
       " 'young': 153,\n",
       " 'event': 154,\n",
       " 'volleyball': 155,\n",
       " 'gas': 156,\n",
       " 'quot': 157,\n",
       " 'prescription': 158,\n",
       " 'important': 159,\n",
       " 'falconio': 160,\n",
       " 'alexander': 161,\n",
       " 'job': 162,\n",
       " 'stewart': 163,\n",
       " 'ticket': 164,\n",
       " 'looking': 165,\n",
       " 'months': 166,\n",
       " 'americans': 167,\n",
       " 'indians': 168,\n",
       " 'stock': 169,\n",
       " 'construction': 170,\n",
       " 'ryder': 171,\n",
       " 'when': 172,\n",
       " 'state': 173,\n",
       " 'rival': 174,\n",
       " 'los': 175,\n",
       " 'miss': 176,\n",
       " 'ratings': 177,\n",
       " 'search': 178,\n",
       " 'hugo': 179,\n",
       " 'freestyle': 180,\n",
       " 'employees': 181,\n",
       " 'nyse': 182,\n",
       " 'decade': 183,\n",
       " 'darfur': 184,\n",
       " 'scotland': 185,\n",
       " 'fought': 186,\n",
       " 'operative': 187,\n",
       " 'believe': 188,\n",
       " 'becomes': 189,\n",
       " 'sec': 190,\n",
       " 'withhold': 191,\n",
       " 'jerusalem': 192,\n",
       " 'setting': 193,\n",
       " 'radio': 194,\n",
       " 'leader': 195,\n",
       " 'baseman': 196,\n",
       " 'finish': 197,\n",
       " 'banks': 198,\n",
       " 'though': 199,\n",
       " 'ground': 200,\n",
       " 'individual': 201,\n",
       " 'break': 202,\n",
       " 'brown': 203,\n",
       " 'playoff': 204,\n",
       " 'drugs': 205,\n",
       " 'states': 206,\n",
       " 'topping': 207,\n",
       " 'affair': 208,\n",
       " 'religious': 209,\n",
       " 'killed': 210,\n",
       " 'carrier': 211,\n",
       " 'spitz': 212,\n",
       " 'class': 213,\n",
       " 'seattle': 214,\n",
       " 'judge': 215,\n",
       " 'bryant': 216,\n",
       " 'thursday': 217,\n",
       " 'ask': 218,\n",
       " 'singles': 219,\n",
       " 'www': 220,\n",
       " 'get': 221,\n",
       " 'auditors': 222,\n",
       " 'image': 223,\n",
       " 'twice': 224,\n",
       " 'major': 225,\n",
       " 'such': 226,\n",
       " 'great': 227,\n",
       " 'even': 228,\n",
       " 'chip': 229,\n",
       " 'family': 230,\n",
       " 'overboard': 231,\n",
       " 'personal': 232,\n",
       " 'cycling': 233,\n",
       " 'quickinfo': 234,\n",
       " 'sport': 235,\n",
       " 'bronze': 236,\n",
       " 'poor': 237,\n",
       " 'watson': 238,\n",
       " 'diego': 239,\n",
       " 'militants': 240,\n",
       " 'outlooks': 241,\n",
       " 'ariel': 242,\n",
       " 'version': 243,\n",
       " 'including': 244,\n",
       " 'united': 245,\n",
       " 'muqtada': 246,\n",
       " 'dozens': 247,\n",
       " 'streak': 248,\n",
       " 'silver': 249,\n",
       " 'fraud': 250,\n",
       " 'left': 251,\n",
       " 'expectations': 252,\n",
       " 'rivals': 253,\n",
       " 'hands': 254,\n",
       " 'losing': 255,\n",
       " 'self': 256,\n",
       " 'co': 257,\n",
       " 'saw': 258,\n",
       " 'western': 259,\n",
       " 'row': 260,\n",
       " 'march': 261,\n",
       " 'several': 262,\n",
       " 'executive': 263,\n",
       " 'ailing': 264,\n",
       " 'end': 265,\n",
       " 'portugal': 266,\n",
       " 'andrew': 267,\n",
       " 'saudi': 268,\n",
       " 'come': 269,\n",
       " 'under': 270,\n",
       " 'hard': 271,\n",
       " 'french': 272,\n",
       " 'korea': 273,\n",
       " 'face': 274,\n",
       " 'finance': 275,\n",
       " 'calling': 276,\n",
       " 'main': 277,\n",
       " 'revolution': 278,\n",
       " 'kostas': 279,\n",
       " 'shares': 280,\n",
       " 'catch': 281,\n",
       " 'earnings': 282,\n",
       " 'managers': 283,\n",
       " 'boosted': 284,\n",
       " 'northeast': 285,\n",
       " 'tokyo': 286,\n",
       " 'living': 287,\n",
       " 'prepared': 288,\n",
       " 'opec': 289,\n",
       " 'psychological': 290,\n",
       " 'level': 291,\n",
       " 'always': 292,\n",
       " 'street': 293,\n",
       " 'each': 294,\n",
       " 'aside': 295,\n",
       " 'legal': 296,\n",
       " 'small': 297,\n",
       " 'lumpur': 298,\n",
       " 'leading': 299,\n",
       " 'should': 300,\n",
       " 'finally': 301,\n",
       " 'played': 302,\n",
       " 'buried': 303,\n",
       " 'order': 304,\n",
       " 'mary': 305,\n",
       " 'helicopter': 306,\n",
       " 'firm': 307,\n",
       " 'yasser': 308,\n",
       " 'cents': 309,\n",
       " 'northern': 310,\n",
       " 'per': 311,\n",
       " 'six': 312,\n",
       " 'atlanta': 313,\n",
       " 'homered': 314,\n",
       " 'effort': 315,\n",
       " 'wake': 316,\n",
       " 'faced': 317,\n",
       " 'haas': 318,\n",
       " 'away': 319,\n",
       " 'attempts': 320,\n",
       " 'rose': 321,\n",
       " 'upset': 322,\n",
       " 'singapore': 323,\n",
       " 'ban': 324,\n",
       " 'retail': 325,\n",
       " 'highs': 326,\n",
       " 'seen': 327,\n",
       " 'victims': 328,\n",
       " 'hurricane': 329,\n",
       " 'voted': 330,\n",
       " 'dead': 331,\n",
       " 'jays': 332,\n",
       " 'globe': 333,\n",
       " 'how': 334,\n",
       " 'alleged': 335,\n",
       " 'games': 336,\n",
       " 'jury': 337,\n",
       " 'fla': 338,\n",
       " 'help': 339,\n",
       " 'bring': 340,\n",
       " 'thumb': 341,\n",
       " 'customers': 342,\n",
       " 'beating': 343,\n",
       " 'price': 344,\n",
       " 'loss': 345,\n",
       " 'sex': 346,\n",
       " 'jay': 347,\n",
       " 'hope': 348,\n",
       " 'take': 349,\n",
       " 'millions': 350,\n",
       " 'yard': 351,\n",
       " 'mariel': 352,\n",
       " 'current': 353,\n",
       " 'championship': 354,\n",
       " 'caused': 355,\n",
       " 'janus': 356,\n",
       " 'month': 357,\n",
       " 'men': 358,\n",
       " 'calm': 359,\n",
       " 'captured': 360,\n",
       " 'later': 361,\n",
       " 'match': 362,\n",
       " 'giving': 363,\n",
       " 'sites': 364,\n",
       " 'sharp': 365,\n",
       " 'diving': 366,\n",
       " 'iran': 367,\n",
       " 'children': 368,\n",
       " 'percent': 369,\n",
       " 'successful': 370,\n",
       " 'won': 371,\n",
       " 'money': 372,\n",
       " 'protect': 373,\n",
       " 'getting': 374,\n",
       " 'businesses': 375,\n",
       " 'program': 376,\n",
       " 'received': 377,\n",
       " 'red': 378,\n",
       " 'avoid': 379,\n",
       " 'ireland': 380,\n",
       " 'holy': 381,\n",
       " 'hotel': 382,\n",
       " 'deal': 383,\n",
       " 'province': 384,\n",
       " 'facilities': 385,\n",
       " 'sources': 386,\n",
       " 'gains': 387,\n",
       " 'operation': 388,\n",
       " 'dug': 389,\n",
       " 'although': 390,\n",
       " 'africa': 391,\n",
       " 'cincinnati': 392,\n",
       " 'divisions': 393,\n",
       " 'payments': 394,\n",
       " 'maria': 395,\n",
       " 'women': 396,\n",
       " 'showdown': 397,\n",
       " 'observers': 398,\n",
       " 'members': 399,\n",
       " 'airways': 400,\n",
       " 'charge': 401,\n",
       " 'vault': 402,\n",
       " 'some': 403,\n",
       " 'inventory': 404,\n",
       " 'lawyers': 405,\n",
       " 'outfielder': 406,\n",
       " 'hoogenband': 407,\n",
       " 'improvement': 408,\n",
       " 'meters': 409,\n",
       " 'national': 410,\n",
       " 'goog': 411,\n",
       " 'find': 412,\n",
       " 'build': 413,\n",
       " 'ordered': 414,\n",
       " 'enough': 415,\n",
       " 'brokerage': 416,\n",
       " 'helping': 417,\n",
       " 'forward': 418,\n",
       " 'filed': 419,\n",
       " 'withdraw': 420,\n",
       " 'exchange': 421,\n",
       " 'authority': 422,\n",
       " 'afghanistan': 423,\n",
       " 'become': 424,\n",
       " 'online': 425,\n",
       " 'others': 426,\n",
       " 'teenager': 427,\n",
       " 'game': 428,\n",
       " 'radical': 429,\n",
       " 'health': 430,\n",
       " 'watch': 431,\n",
       " 'germany': 432,\n",
       " 'arms': 433,\n",
       " 'chief': 434,\n",
       " 'plan': 435,\n",
       " 'closely': 436,\n",
       " 'network': 437,\n",
       " 'pick': 438,\n",
       " 'beginning': 439,\n",
       " 'judges': 440,\n",
       " 'low': 441,\n",
       " 'defense': 442,\n",
       " 'potential': 443,\n",
       " 'holiday': 444,\n",
       " 'meet': 445,\n",
       " 'string': 446,\n",
       " 'jason': 447,\n",
       " 'peace': 448,\n",
       " 'least': 449,\n",
       " 'soaring': 450,\n",
       " 'kuwait': 451,\n",
       " 'sudan': 452,\n",
       " 'rolled': 453,\n",
       " 'easing': 454,\n",
       " 'euro': 455,\n",
       " 'doubts': 456,\n",
       " 'pga': 457,\n",
       " 'expansion': 458,\n",
       " 'gasoline': 459,\n",
       " 'commit': 460,\n",
       " 'iraqi': 461,\n",
       " 'mining': 462,\n",
       " 'wing': 463,\n",
       " 'go': 464,\n",
       " 'nuclear': 465,\n",
       " 'soccer': 466,\n",
       " 'sunday': 467,\n",
       " 'chris': 468,\n",
       " 'typhoon': 469,\n",
       " 'injured': 470,\n",
       " 'keller': 471,\n",
       " 'until': 472,\n",
       " 'shot': 473,\n",
       " 'london': 474,\n",
       " 'high': 475,\n",
       " 'helped': 476,\n",
       " 'offering': 477,\n",
       " 'president': 478,\n",
       " 'powder': 479,\n",
       " 'sentiment': 480,\n",
       " 'blue': 481,\n",
       " 'mandate': 482,\n",
       " 'open': 483,\n",
       " 'administration': 484,\n",
       " 'southwest': 485,\n",
       " 'air': 486,\n",
       " 'big': 487,\n",
       " 'expected': 488,\n",
       " 'fall': 489,\n",
       " 'story': 490,\n",
       " 'past': 491,\n",
       " 'late': 492,\n",
       " 'index': 493,\n",
       " 'flood': 494,\n",
       " 'flew': 495,\n",
       " 'wounding': 496,\n",
       " 'than': 497,\n",
       " 'tom': 498,\n",
       " 'decision': 499,\n",
       " 'finals': 500,\n",
       " 'fired': 501,\n",
       " 'highest': 502,\n",
       " 'venezuelans': 503,\n",
       " 'published': 504,\n",
       " 'george': 505,\n",
       " 'jean': 506,\n",
       " 'team': 507,\n",
       " 'use': 508,\n",
       " 'remote': 509,\n",
       " 'created': 510,\n",
       " 'period': 511,\n",
       " 'torri': 512,\n",
       " 'soon': 513,\n",
       " 'hockey': 514,\n",
       " 'grim': 515,\n",
       " 'quote': 516,\n",
       " 'hamas': 517,\n",
       " 'ohio': 518,\n",
       " 'profit': 519,\n",
       " 'detroit': 520,\n",
       " 'conflict': 521,\n",
       " 'ramallah': 522,\n",
       " 'following': 523,\n",
       " 'interim': 524,\n",
       " 'butterfly': 525,\n",
       " 'fleet': 526,\n",
       " 'prosecutor': 527,\n",
       " 'central': 528,\n",
       " 'un': 529,\n",
       " 'haven': 530,\n",
       " 'shi': 531,\n",
       " 'evening': 532,\n",
       " 'pay': 533,\n",
       " 'contract': 534,\n",
       " 'vs': 535,\n",
       " 'pope': 536,\n",
       " 'impact': 537,\n",
       " 'policy': 538,\n",
       " 'hold': 539,\n",
       " 'federer': 540,\n",
       " 'costas': 541,\n",
       " 'heart': 542,\n",
       " 'struggling': 543,\n",
       " 'decided': 544,\n",
       " 'middle': 545,\n",
       " 'arena': 546,\n",
       " 'rather': 547,\n",
       " 'hare': 548,\n",
       " 'decline': 549,\n",
       " 'amat': 550,\n",
       " 'scandal': 551,\n",
       " 'inflation': 552,\n",
       " 'borders': 553,\n",
       " 'better': 554,\n",
       " 'among': 555,\n",
       " 'straight': 556,\n",
       " 'highly': 557,\n",
       " 'up': 558,\n",
       " 'local': 559,\n",
       " 'replaced': 560,\n",
       " 'chinese': 561,\n",
       " 'pitcher': 562,\n",
       " 'held': 563,\n",
       " 'well': 564,\n",
       " 'another': 565,\n",
       " 'quest': 566,\n",
       " 'number': 567,\n",
       " 'computer': 568,\n",
       " 'terror': 569,\n",
       " 'brian': 570,\n",
       " 'oakland': 571,\n",
       " 'earned': 572,\n",
       " 'presidential': 573,\n",
       " 'roger': 574,\n",
       " 'used': 575,\n",
       " 'dozen': 576,\n",
       " 'cup': 577,\n",
       " 'groups': 578,\n",
       " 'van': 579,\n",
       " 'countries': 580,\n",
       " 'reds': 581,\n",
       " 'stunning': 582,\n",
       " 'slower': 583,\n",
       " 'crowd': 584,\n",
       " 'prison': 585,\n",
       " 'organization': 586,\n",
       " 'quit': 587,\n",
       " 'minnesota': 588,\n",
       " 'families': 589,\n",
       " 'medals': 590,\n",
       " 'official': 591,\n",
       " 'peter': 592,\n",
       " 'basketball': 593,\n",
       " 'workers': 594,\n",
       " 'place': 595,\n",
       " 'fund': 596,\n",
       " 'fractured': 597,\n",
       " 'crisis': 598,\n",
       " 'times': 599,\n",
       " 'aug': 600,\n",
       " 'early': 601,\n",
       " 'dismissed': 602,\n",
       " 'estimated': 603,\n",
       " 'monday': 604,\n",
       " 'driven': 605,\n",
       " 'international': 606,\n",
       " 'worst': 607,\n",
       " 'creating': 608,\n",
       " 'release': 609,\n",
       " 'operator': 610,\n",
       " 'trees': 611,\n",
       " 'either': 612,\n",
       " 'opened': 613,\n",
       " 'killing': 614,\n",
       " 'murder': 615,\n",
       " 'opener': 616,\n",
       " 'group': 617,\n",
       " 'knee': 618,\n",
       " 'america': 619,\n",
       " 'hearing': 620,\n",
       " 'boost': 621,\n",
       " 'winds': 622,\n",
       " 'moved': 623,\n",
       " 'venus': 624,\n",
       " 'massacre': 625,\n",
       " 'leonard': 626,\n",
       " 'walk': 627,\n",
       " 'steve': 628,\n",
       " 'third': 629,\n",
       " 'fighters': 630,\n",
       " 'part': 631,\n",
       " 'battle': 632,\n",
       " 'process': 633,\n",
       " 'same': 634,\n",
       " 'rescue': 635,\n",
       " 'industrial': 636,\n",
       " 'few': 637,\n",
       " 'quarterly': 638,\n",
       " 'throw': 639,\n",
       " 'refugee': 640,\n",
       " 'citing': 641,\n",
       " 'warnings': 642,\n",
       " 'knocked': 643,\n",
       " 'september': 644,\n",
       " 'pittsburgh': 645,\n",
       " 'york': 646,\n",
       " 'work': 647,\n",
       " 'kevin': 648,\n",
       " 'applications': 649,\n",
       " 'down': 650,\n",
       " 'post': 651,\n",
       " 'old': 652,\n",
       " 'injury': 653,\n",
       " 'tumbled': 654,\n",
       " 'based': 655,\n",
       " 'uprising': 656,\n",
       " 'building': 657,\n",
       " 'expressed': 658,\n",
       " 'making': 659,\n",
       " 'control': 660,\n",
       " 'branch': 661,\n",
       " 'efforts': 662,\n",
       " 'given': 663,\n",
       " 'forces': 664,\n",
       " 'gt': 665,\n",
       " 'tanks': 666,\n",
       " 'lost': 667,\n",
       " 'also': 668,\n",
       " 'latest': 669,\n",
       " 'australia': 670,\n",
       " 'athletes': 671,\n",
       " 'plc': 672,\n",
       " 'depot': 673,\n",
       " 'republican': 674,\n",
       " 'ing': 675,\n",
       " 'despite': 676,\n",
       " 'cardinals': 677,\n",
       " 'increasing': 678,\n",
       " 'court': 679,\n",
       " 'andy': 680,\n",
       " 'abroad': 681,\n",
       " 'schroeder': 682,\n",
       " 'government': 683,\n",
       " 'long': 684,\n",
       " 'eight': 685,\n",
       " 'previous': 686,\n",
       " 'sun': 687,\n",
       " 'recent': 688,\n",
       " 'targets': 689,\n",
       " 'challenges': 690,\n",
       " 'nelson': 691,\n",
       " 'vote': 692,\n",
       " 'committee': 693,\n",
       " 'baseball': 694,\n",
       " 'kid': 695,\n",
       " 'service': 696,\n",
       " 'line': 697,\n",
       " 'auto': 698,\n",
       " 'violent': 699,\n",
       " 'phelps': 700,\n",
       " 'missed': 701,\n",
       " 'posted': 702,\n",
       " 'jr': 703,\n",
       " 'almost': 704,\n",
       " 'continued': 705,\n",
       " 'outside': 706,\n",
       " 'bargain': 707,\n",
       " 'near': 708,\n",
       " 'declined': 709,\n",
       " 'paid': 710,\n",
       " 'ibm': 711,\n",
       " 'foot': 712,\n",
       " 'uk': 713,\n",
       " 'business': 714,\n",
       " 'daily': 715,\n",
       " 'improved': 716,\n",
       " 'career': 717,\n",
       " 'nine': 718,\n",
       " 'hitter': 719,\n",
       " 'voters': 720,\n",
       " 'already': 721,\n",
       " 'tuesday': 722,\n",
       " 'warned': 723,\n",
       " 'larry': 724,\n",
       " 'bit': 725,\n",
       " 'american': 726,\n",
       " 'against': 727,\n",
       " 'agent': 728,\n",
       " 'bankruptcy': 729,\n",
       " 'bids': 730,\n",
       " 'pressure': 731,\n",
       " 'bowl': 732,\n",
       " 'effective': 733,\n",
       " 'hal': 734,\n",
       " 'warning': 735,\n",
       " 'edwards': 736,\n",
       " 'motorola': 737,\n",
       " 'without': 738,\n",
       " 'delegates': 739,\n",
       " 'course': 740,\n",
       " 'himself': 741,\n",
       " 'leaders': 742,\n",
       " 'sending': 743,\n",
       " 'jcp': 744,\n",
       " 'rebels': 745,\n",
       " 'olympics': 746,\n",
       " 'ossetia': 747,\n",
       " 'factories': 748,\n",
       " 'lowest': 749,\n",
       " 'teixeira': 750,\n",
       " 'companies': 751,\n",
       " 'city': 752,\n",
       " 'taking': 753,\n",
       " 'picture': 754,\n",
       " 'swept': 755,\n",
       " 'thanou': 756,\n",
       " 'emergency': 757,\n",
       " 'straits': 758,\n",
       " 'troops': 759,\n",
       " 'activists': 760,\n",
       " 'controversial': 761,\n",
       " 'protests': 762,\n",
       " 'roddick': 763,\n",
       " 'friday': 764,\n",
       " 'minutes': 765,\n",
       " 'launched': 766,\n",
       " 'mark': 767,\n",
       " 'time': 768,\n",
       " 'charley': 769,\n",
       " 'single': 770,\n",
       " 'greek': 771,\n",
       " 'only': 772,\n",
       " 'bought': 773,\n",
       " 'village': 774,\n",
       " 'faster': 775,\n",
       " 'store': 776,\n",
       " 'mcdonald': 777,\n",
       " 'hit': 778,\n",
       " 'katerina': 779,\n",
       " 'silvio': 780,\n",
       " 'selection': 781,\n",
       " 'denied': 782,\n",
       " 'kept': 783,\n",
       " 'stop': 784,\n",
       " 'francisco': 785,\n",
       " 'offered': 786,\n",
       " 'heard': 787,\n",
       " 'investment': 788,\n",
       " 'new': 789,\n",
       " 'fear': 790,\n",
       " 'referendum': 791,\n",
       " 'people': 792,\n",
       " 'cp': 793,\n",
       " 'nepal': 794,\n",
       " 'determine': 795,\n",
       " 'tell': 796,\n",
       " 'player': 797,\n",
       " 'usa': 798,\n",
       " 'british': 799,\n",
       " 'show': 800,\n",
       " 'trading': 801,\n",
       " 'showing': 802,\n",
       " 'australian': 803,\n",
       " 'expos': 804,\n",
       " 'firms': 805,\n",
       " 'regulators': 806,\n",
       " 'seed': 807,\n",
       " 'securities': 808,\n",
       " 'hamm': 809,\n",
       " 'metres': 810,\n",
       " 'benefits': 811,\n",
       " 'battled': 812,\n",
       " 'hours': 813,\n",
       " 'path': 814,\n",
       " 'analysts': 815,\n",
       " 'terrorists': 816,\n",
       " 'torn': 817,\n",
       " 'found': 818,\n",
       " 'iverson': 819,\n",
       " 'plans': 820,\n",
       " 'fuel': 821,\n",
       " 'china': 822,\n",
       " 'investor': 823,\n",
       " 'play': 824,\n",
       " 'winning': 825,\n",
       " 'hunger': 826,\n",
       " 'stadium': 827,\n",
       " 'four': 828,\n",
       " 'recovery': 829,\n",
       " 'police': 830,\n",
       " 'offers': 831,\n",
       " 'fighting': 832,\n",
       " 'toyota': 833,\n",
       " 'refinancings': 834,\n",
       " 'bell': 835,\n",
       " 'north': 836,\n",
       " 'reduced': 837,\n",
       " 'beaten': 838,\n",
       " 'news': 839,\n",
       " 'war': 840,\n",
       " 'verge': 841,\n",
       " 'tearing': 842,\n",
       " 'weapons': 843,\n",
       " 'crash': 844,\n",
       " 'statement': 845,\n",
       " 'fullquote': 846,\n",
       " 'mdt': 847,\n",
       " 'defused': 848,\n",
       " 'toll': 849,\n",
       " 'nikkei': 850,\n",
       " 'agency': 851,\n",
       " 'panel': 852,\n",
       " 'between': 853,\n",
       " 'division': 854,\n",
       " 'conspiring': 855,\n",
       " 'equipment': 856,\n",
       " 'calls': 857,\n",
       " 'desperate': 858,\n",
       " 'according': 859,\n",
       " 'corruption': 860,\n",
       " 'auction': 861,\n",
       " 'insurer': 862,\n",
       " 'case': 863,\n",
       " 'may': 864,\n",
       " 'next': 865,\n",
       " 'father': 866,\n",
       " 'yankees': 867,\n",
       " 'rookie': 868,\n",
       " 'medal': 869,\n",
       " 'off': 870,\n",
       " 'really': 871,\n",
       " 'grant': 872,\n",
       " 'disciplinary': 873,\n",
       " 'made': 874,\n",
       " 'survey': 875,\n",
       " 'movement': 876,\n",
       " 'sell': 877,\n",
       " 'southern': 878,\n",
       " 'park': 879,\n",
       " 'guard': 880,\n",
       " 'approve': 881,\n",
       " 'corporate': 882,\n",
       " 'klete': 883,\n",
       " 'life': 884,\n",
       " 'action': 885,\n",
       " 'tour': 886,\n",
       " 'claim': 887,\n",
       " 'back': 888,\n",
       " 'kansas': 889,\n",
       " 'faces': 890,\n",
       " 'staff': 891,\n",
       " 'lowe': 892,\n",
       " 'whistling': 893,\n",
       " 'closing': 894,\n",
       " 'fischer': 895,\n",
       " 'magazine': 896,\n",
       " 'walked': 897,\n",
       " 'bank': 898,\n",
       " 'still': 899,\n",
       " 'car': 900,\n",
       " 'philippines': 901,\n",
       " 'negotiate': 902,\n",
       " 'violence': 903,\n",
       " 'wisconsin': 904,\n",
       " 'draft': 905,\n",
       " 'economic': 906,\n",
       " 'boys': 907,\n",
       " 'web': 908,\n",
       " 'kathmandu': 909,\n",
       " 'planned': 910,\n",
       " 'over': 911,\n",
       " 'light': 912,\n",
       " 'areas': 913,\n",
       " 'advance': 914,\n",
       " 'canada': 915,\n",
       " 'terrorist': 916,\n",
       " 'gerhard': 917,\n",
       " 'soldier': 918,\n",
       " 'qualifying': 919,\n",
       " 'stocks': 920,\n",
       " 'britain': 921,\n",
       " 'south': 922,\n",
       " 'swimmer': 923,\n",
       " 'fueled': 924,\n",
       " 'track': 925,\n",
       " 'collective': 926,\n",
       " 'mistakes': 927,\n",
       " 'starting': 928,\n",
       " 'reportedly': 929,\n",
       " 'upbeat': 930,\n",
       " 'details': 931,\n",
       " 'pushed': 932,\n",
       " 'results': 933,\n",
       " 'whether': 934,\n",
       " 'islamic': 935,\n",
       " 'criminal': 936,\n",
       " 'woods': 937,\n",
       " 'clemens': 938,\n",
       " 'spending': 939,\n",
       " 'bid': 940,\n",
       " 'done': 941,\n",
       " 'target': 942,\n",
       " 'department': 943,\n",
       " 'signing': 944,\n",
       " 'data': 945,\n",
       " 'japan': 946,\n",
       " 'leg': 947,\n",
       " 'korean': 948,\n",
       " 'parmalat': 949,\n",
       " 'confidence': 950,\n",
       " 'debut': 951,\n",
       " 'afp': 952,\n",
       " 'phone': 953,\n",
       " 'gained': 954,\n",
       " 'boston': 955,\n",
       " 'amid': 956,\n",
       " 'republic': 957,\n",
       " 'fire': 958,\n",
       " 'jones': 959,\n",
       " 'host': 960,\n",
       " 'wis': 961,\n",
       " 'guillen': 962,\n",
       " 'el': 963,\n",
       " 'school': 964,\n",
       " 'military': 965,\n",
       " 'star': 966,\n",
       " 'german': 967,\n",
       " 'tests': 968,\n",
       " 'bj': 969,\n",
       " 'june': 970,\n",
       " 'drove': 971,\n",
       " 'caught': 972,\n",
       " 'doubled': 973,\n",
       " 'olympic': 974,\n",
       " 'now': 975,\n",
       " 'added': 976,\n",
       " 'august': 977,\n",
       " 'houston': 978,\n",
       " 'hand': 979,\n",
       " 'airlines': 980,\n",
       " 'minister': 981,\n",
       " 'explosion': 982,\n",
       " 'st': 983,\n",
       " 'defeat': 984,\n",
       " 'becoming': 985,\n",
       " 'gone': 986,\n",
       " 'complete': 987,\n",
       " 'died': 988,\n",
       " 'democratic': 989,\n",
       " 'instead': 990,\n",
       " 'involving': 991,\n",
       " 'visit': 992,\n",
       " 'million': 993,\n",
       " 'isn': 994,\n",
       " 'hong': 995,\n",
       " 'amp': 996,\n",
       " 'knows': 997,\n",
       " 'improve': 998,\n",
       " 'law': 999,\n",
       " ...}"
      ]
     },
     "execution_count": 8,
     "metadata": {},
     "output_type": "execute_result"
    }
   ],
   "source": [
    "#create a vocab_id to word dictionary\n",
    "id2word = dict(enumerate(vocab))\n",
    "word2id = {i:w for w, i in id2word.items()}\n",
    "word2id"
   ]
  },
  {
   "cell_type": "markdown",
   "metadata": {},
   "source": [
    "### Convert the list of unigrams  into a list of vocabulary indices"
   ]
  },
  {
   "cell_type": "markdown",
   "metadata": {},
   "source": [
    "Storing actual one-hot vectors into memory for all words in the entire data set is prohibitive. Instead, we will store word indices in the vocabulary and look-up the weight matrix. This is equivalent of doing a dot product between an one-hot vector and the weight matrix. \n",
    "\n",
    "First, represent documents in train, dev and test sets as lists of words in the vocabulary:"
   ]
  },
  {
   "cell_type": "code",
   "execution_count": 9,
   "metadata": {
    "ExecuteTime": {
     "end_time": "2020-04-02T14:26:45.047887Z",
     "start_time": "2020-04-02T14:26:44.920631Z"
    },
    "scrolled": true
   },
   "outputs": [],
   "source": [
    "def uni2indices(vocab,word2id):\n",
    "    # Initialize the indice list for each iter for each document\n",
    "    vocab_indices = []\n",
    "    uni_list = list(vocab)\n",
    "    \n",
    "    for id_word in range(len(uni_list)):\n",
    "        list_vocab = []\n",
    "        # search coresponding id and add them to list\n",
    "        for word in uni_list[id_word]:\n",
    "            if word in word2id:\n",
    "                id = word2id[word]\n",
    "                list_vocab.append(id)# add id\n",
    "        vocab_indices.append(list_vocab)\n",
    "    return uni_list, vocab_indices"
   ]
  },
  {
   "cell_type": "markdown",
   "metadata": {},
   "source": [
    "Then convert them into lists of indices in the vocabulary:"
   ]
  },
  {
   "cell_type": "code",
   "execution_count": 10,
   "metadata": {
    "ExecuteTime": {
     "end_time": "2020-04-02T14:26:45.752658Z",
     "start_time": "2020-04-02T14:26:45.730409Z"
    },
    "scrolled": true
   },
   "outputs": [],
   "source": [
    "# prcessing all document make vocab\n",
    "vocab_train, vocab_dev, vocab_test = [],[],[]\n",
    "for text in train_text:\n",
    "    vocab_train.append(extract_ngrams(text, ngram_range=(1,1),stop_words=stop_words))\n",
    "for text in dev_text:\n",
    "    vocab_dev.append(extract_ngrams(text, ngram_range=(1,1),stop_words=stop_words))\n",
    "for text in test_text:\n",
    "    vocab_test.append(extract_ngrams(text, ngram_range=(1,1),stop_words=stop_words))"
   ]
  },
  {
   "cell_type": "code",
   "execution_count": 11,
   "metadata": {},
   "outputs": [],
   "source": [
    "X_uni_tr,X_tr = uni2indices(vocab_train,word2id)\n",
    "X_uni_dev,X_dev = uni2indices(vocab_dev,word2id)\n",
    "X_uni_test,X_test = uni2indices(vocab_test,word2id)"
   ]
  },
  {
   "cell_type": "code",
   "execution_count": 12,
   "metadata": {},
   "outputs": [],
   "source": [
    "# select the label file\n",
    "train_label = np.array(train_data['label'])\n",
    "dev_label = np.array(dev_data['label'])\n",
    "test_label = np.array(test_data['label'])"
   ]
  },
  {
   "cell_type": "code",
   "execution_count": 13,
   "metadata": {},
   "outputs": [],
   "source": [
    "def delete_miss(data,label):\n",
    "    label_no_miss = []\n",
    "    data_no_miss = []\n",
    "    for i in range(len(data)):\n",
    "        if len(data[i])==0:\n",
    "            continue\n",
    "        else:\n",
    "            data_no_miss.append(data[i])\n",
    "            label_no_miss.append(label[i])\n",
    "            \n",
    "    return data_no_miss,np.array(label_no_miss)"
   ]
  },
  {
   "cell_type": "code",
   "execution_count": 14,
   "metadata": {},
   "outputs": [],
   "source": [
    "X_tr,train_label = delete_null(X_tr,train_label)\n",
    "X_dev,dev_label = delete_null(X_dev,dev_label)\n",
    "X_test,test_label = delete_null(X_test,test_label)"
   ]
  },
  {
   "cell_type": "markdown",
   "metadata": {},
   "source": [
    "Put the labels `Y` for train, dev and test sets into arrays: "
   ]
  },
  {
   "cell_type": "code",
   "execution_count": 15,
   "metadata": {
    "ExecuteTime": {
     "end_time": "2020-04-02T15:03:13.183996Z",
     "start_time": "2020-04-02T15:03:13.077575Z"
    },
    "scrolled": true
   },
   "outputs": [
    {
     "data": {
      "text/plain": [
       "(899, 899)"
      ]
     },
     "execution_count": 15,
     "metadata": {},
     "output_type": "execute_result"
    }
   ],
   "source": [
    "Y_tr = train_label\n",
    "Y_dev = dev_label\n",
    "Y_te = test_label\n",
    "X_te = X_test\n",
    "\n",
    "len(X_te), len(test_label)"
   ]
  },
  {
   "cell_type": "markdown",
   "metadata": {},
   "source": [
    "# Network Architecture\n",
    "\n",
    "Your network should pass each word index into its corresponding embedding by looking-up on the embedding matrix and then compute the first hidden layer $\\mathbf{h}_1$:\n",
    "\n",
    "$$\\mathbf{h}_1 = \\frac{1}{|x|}\\sum_i W^e_i, i \\in x$$\n",
    "\n",
    "where $|x|$ is the number of words in the document and $W^e$ is an embedding matrix $|V|\\times d$, $|V|$ is the size of the vocabulary and $d$ the embedding size.\n",
    "\n",
    "Then $\\mathbf{h}_1$ should be passed through a ReLU activation function:\n",
    "\n",
    "$$\\mathbf{a}_1 = relu(\\mathbf{h}_1)$$\n",
    "\n",
    "Finally the hidden layer is passed to the output layer:\n",
    "\n",
    "\n",
    "$$\\mathbf{y} = \\text{softmax}(\\mathbf{a}_1W) $$ \n",
    "where $W$ is a matrix $d \\times |{\\cal Y}|$, $|{\\cal Y}|$ is the number of classes.\n",
    "\n",
    "During training, $\\mathbf{a}_1$ should be multiplied with a dropout mask vector (elementwise) for regularisation before it is passed to the output layer.\n",
    "\n",
    "You can extend to a deeper architecture by passing a hidden layer to another one:\n",
    "\n",
    "$$\\mathbf{h_i} = \\mathbf{a}_{i-1}W_i $$\n",
    "\n",
    "$$\\mathbf{a_i} = relu(\\mathbf{h_i}) $$\n",
    "\n"
   ]
  },
  {
   "cell_type": "markdown",
   "metadata": {},
   "source": [
    "# Network Training\n",
    "\n",
    "First we need to define the parameters of our network by initiliasing the weight matrices. For that purpose, you should implement the `network_weights` function that takes as input:\n",
    "\n",
    "- `vocab_size`: the size of the vocabulary\n",
    "- `embedding_dim`: the size of the word embeddings\n",
    "- `hidden_dim`: a list of the sizes of any subsequent hidden layers. Empty if there are no hidden layers between the average embedding and the output layer \n",
    "- `num_classes`: the number of the classes for the output layer\n",
    "\n",
    "and returns:\n",
    "\n",
    "- `W`: a dictionary mapping from layer index (e.g. 0 for the embedding matrix) to the corresponding weight matrix initialised with small random numbers (hint: use numpy.random.uniform with from -0.1 to 0.1)\n",
    "\n",
    "Make sure that the dimensionality of each weight matrix is compatible with the previous and next weight matrix, otherwise you won't be able to perform forward and backward passes. Consider also using np.float32 precision to save memory."
   ]
  },
  {
   "cell_type": "code",
   "execution_count": 16,
   "metadata": {
    "ExecuteTime": {
     "end_time": "2020-04-02T15:41:20.918617Z",
     "start_time": "2020-04-02T15:41:20.915597Z"
    },
    "scrolled": true
   },
   "outputs": [],
   "source": [
    "def network_weights(vocab_size=1000, \n",
    "                    embedding_dim=300, \n",
    "                    hidden_dim=[], \n",
    "                    num_classes=3, \n",
    "                    init_val = 0.5):\n",
    "    \n",
    "    # First layer size = vocab size as input then follow embedding_dim\n",
    "    list_of_layer = [vocab_size, embedding_dim]\n",
    "    # Add midle layer of hidden_dim\n",
    "    for i in hidden_dim:\n",
    "        list_of_layer.append(i)\n",
    "    # The last layer\n",
    "    list_of_layer.append(num_classes) \n",
    "    # print(list_of_layer)\n",
    "    \n",
    "    # Initiallize W as dictionary\n",
    "    # id with [W1,w2, w3 .....]\n",
    "    W = dict()\n",
    "    \n",
    "    for id_layer in range(len(list_of_layer) -1):\n",
    "        W[id_layer] = np.random.uniform(-init_val, init_val,\n",
    "                                        (list_of_layer[id_layer],list_of_layer[id_layer +1])).astype(\"float32\")\n",
    "            \n",
    "    return W\n",
    "    \n",
    "    "
   ]
  },
  {
   "cell_type": "code",
   "execution_count": 17,
   "metadata": {
    "ExecuteTime": {
     "end_time": "2020-04-02T14:26:48.636732Z",
     "start_time": "2020-04-02T14:26:48.634122Z"
    },
    "scrolled": true
   },
   "outputs": [],
   "source": [
    "W = network_weights(vocab_size=3,embedding_dim=4,hidden_dim=[2], num_classes=2)"
   ]
  },
  {
   "cell_type": "markdown",
   "metadata": {
    "ExecuteTime": {
     "end_time": "2020-04-01T10:31:57.970152Z",
     "start_time": "2020-04-01T10:31:57.966123Z"
    }
   },
   "source": [
    "Then you need to develop a `softmax` function (same as in Assignment 1) to be used in the output layer. \n",
    "\n",
    "It takes as input `z` (array of real numbers) and returns `sig` (the softmax of `z`)\n",
    "\n"
   ]
  },
  {
   "cell_type": "code",
   "execution_count": 18,
   "metadata": {},
   "outputs": [],
   "source": [
    "def softmax(z):\n",
    "    upper = np.exp(z-np.max(z))\n",
    "    bottom = np.sum(np.exp(z-np.max(z)))\n",
    "    sig = upper / bottom    \n",
    "    return sig\n"
   ]
  },
  {
   "cell_type": "markdown",
   "metadata": {},
   "source": [
    "Now you need to implement the categorical cross entropy loss by slightly modifying the function from Assignment 1 to depend only on the true label `y` and the class probabilities vector `y_preds`:\n"
   ]
  },
  {
   "cell_type": "code",
   "execution_count": 19,
   "metadata": {
    "ExecuteTime": {
     "end_time": "2020-04-02T14:26:51.360838Z",
     "start_time": "2020-04-02T14:26:51.356935Z"
    },
    "scrolled": true
   },
   "outputs": [],
   "source": [
    "def categorical_loss(y, y_preds):\n",
    "    l = -np.log(y_preds[y])\n",
    "    return l"
   ]
  },
  {
   "cell_type": "markdown",
   "metadata": {
    "ExecuteTime": {
     "end_time": "2020-03-31T15:02:56.149535Z",
     "start_time": "2020-03-31T15:02:56.145738Z"
    }
   },
   "source": [
    "Then, implement the `relu` function to introduce non-linearity after each hidden layer of your network \n",
    "(during the forward pass): \n",
    "\n",
    "$$relu(z_i)= max(z_i,0)$$\n",
    "\n",
    "and the `relu_derivative` function to compute its derivative (used in the backward pass):\n",
    "\n",
    "  \n",
    "  relu_derivative($z_i$)=0, if $z_i$<=0, 1 otherwise.\n",
    "  \n",
    "\n",
    "\n",
    "Note that both functions take as input a vector $z$ \n",
    "\n",
    "Hint use .copy() to avoid in place changes in array z"
   ]
  },
  {
   "cell_type": "code",
   "execution_count": 20,
   "metadata": {},
   "outputs": [],
   "source": [
    "def relu(z):\n",
    "    z = z.copy()\n",
    "    a = np.maximum(0, z)    \n",
    "    return a\n",
    "    \n",
    "def relu_derivative(z):\n",
    "    dz = z.copy()\n",
    "    dz[dz <= 0] = 0\n",
    "    dz[dz > 0] = 1  \n",
    "    return dz"
   ]
  },
  {
   "cell_type": "markdown",
   "metadata": {},
   "source": [
    "During training you should also apply a dropout mask element-wise after the activation function (i.e. vector of ones with a random percentage set to zero). The `dropout_mask` function takes as input:\n",
    "\n",
    "- `size`: the size of the vector that we want to apply dropout\n",
    "- `dropout_rate`: the percentage of elements that will be randomly set to zeros\n",
    "\n",
    "and returns:\n",
    "\n",
    "- `dropout_vec`: a vector with binary values (0 or 1)"
   ]
  },
  {
   "cell_type": "code",
   "execution_count": 21,
   "metadata": {
    "ExecuteTime": {
     "end_time": "2020-04-02T14:26:53.429192Z",
     "start_time": "2020-04-02T14:26:53.425301Z"
    },
    "scrolled": true
   },
   "outputs": [],
   "source": [
    "def dropout_mask(size, dropout_rate):\n",
    "    # Initialize a vector of 1\n",
    "    dropout_vec = np.ones(size)\n",
    "\n",
    "    dropout_vec[:int(size*dropout_rate)] = 0.0\n",
    "    np.random.shuffle(dropout_vec)\n",
    "    return dropout_vec\n",
    "    "
   ]
  },
  {
   "cell_type": "code",
   "execution_count": 22,
   "metadata": {
    "ExecuteTime": {
     "end_time": "2020-04-02T14:26:53.853632Z",
     "start_time": "2020-04-02T14:26:53.849944Z"
    },
    "scrolled": true
   },
   "outputs": [
    {
     "name": "stdout",
     "output_type": "stream",
     "text": [
      "[1. 1. 0. 1. 1. 1. 1. 0. 1. 1.]\n",
      "[1. 0. 1. 1. 1. 1. 1. 0. 1. 1.]\n"
     ]
    }
   ],
   "source": [
    "print(dropout_mask(10, 0.2))\n",
    "print(dropout_mask(10, 0.2))"
   ]
  },
  {
   "cell_type": "markdown",
   "metadata": {},
   "source": [
    "Now you need to implement the `forward_pass` function that passes the input x through the network up to the output layer for computing the probability for each class using the weight matrices in `W`. The ReLU activation function should be applied on each hidden layer. \n",
    "\n",
    "- `x`: a list of vocabulary indices each corresponding to a word in the document (input)\n",
    "- `W`: a list of weight matrices connecting each part of the network, e.g. for a network with a hidden and an output layer: W[0] is the weight matrix that connects the input to the first hidden layer, W[1] is the weight matrix that connects the hidden layer to the output layer.\n",
    "- `dropout_rate`: the dropout rate that is used to generate a random dropout mask vector applied after each hidden layer for regularisation.\n",
    "\n",
    "and returns:\n",
    "\n",
    "- `out_vals`: a dictionary of output values from each layer: h (the vector before the activation function), a (the resulting vector after passing h from the activation function), its dropout mask vector; and the prediction vector (probability for each class) from the output layer."
   ]
  },
  {
   "cell_type": "code",
   "execution_count": 23,
   "metadata": {},
   "outputs": [],
   "source": [
    "# h0 ← x (input layer)\n",
    "# for layer k = 1, .., l do\n",
    "# zk ← Wkhk−1\n",
    "# hk ← g(z)\n",
    "# end for\n",
    "# Get prediction ˆy = hl\n",
    "# Compute cross-entropy loss L(ˆy, y)\n",
    "# return h, z for all layers\n",
    "\n",
    "def forward_pass(x, W, dropout_rate=0.2):\n",
    "    out_vals = {} # Dictionary of h and a \n",
    "    h_vecs = [] # h list\n",
    "    a_vecs = [] # a vector passing h\n",
    "    dropout_vecs = [] # dropout mask for normalization\n",
    "    W_length = len(W)-1 \n",
    "    \n",
    "    input_weight = []\n",
    "    length_input = len(x)\n",
    "    \n",
    "    for i in x:\n",
    "        # print(i) x contains 300 id\n",
    "        input_weight.append(W[0][i]) # \n",
    "    \n",
    "    #Computing\n",
    "    h = np.sum(input_weight,axis=0)\n",
    "    #print(h.shape)\n",
    "    h = h /length_input\n",
    "    a = relu(h)\n",
    "    d = dropout_mask(len(a),dropout_rate)\n",
    "    output = a * d\n",
    "    \n",
    "    # Adding the h,a to coressponding vector\n",
    "    h_vecs.append(h)\n",
    "    a_vecs.append(a)\n",
    "    dropout_vecs.append(d)  \n",
    "          \n",
    "    # For layer k = 1,2,3..../do\n",
    "    for k in range(1, W_length):\n",
    "        h = np.dot(output,W[k])  \n",
    "        # Update the h value\n",
    "        a = relu(h)\n",
    "        d = dropout_mask(len(a) ,dropout_rate)\n",
    "        output = a*d \n",
    "        \n",
    "        h_vecs.append(h)\n",
    "        a_vecs.append(a)\n",
    "        dropout_vecs.append(d)\n",
    "    \n",
    "    #print(\"outshape\",output.shape)\n",
    "    #print(\"wshape\",W[W_length].shape)\n",
    "    \n",
    "    # Get prediction ˆy = hl\n",
    "    y_array = softmax(np.dot(output,W[W_length]))\n",
    "    \n",
    "    # Assign the value calculated to the dictiorny\n",
    "    out_vals['h'] = h_vecs\n",
    "    out_vals['a'] = a_vecs\n",
    "    out_vals['dropout_vecs'] = dropout_vecs\n",
    "    out_vals['y'] = y_array\n",
    "    \n",
    "    # Return h z for all layers\n",
    "    return out_vals "
   ]
  },
  {
   "cell_type": "markdown",
   "metadata": {},
   "source": [
    "The `backward_pass` function computes the gradients and updates the weights for each matrix in the network from the output to the input. It takes as input \n",
    "\n",
    "- `x`: a list of vocabulary indices each corresponding to a word in the document (input)\n",
    "- `y`: the true label\n",
    "- `W`: a list of weight matrices connecting each part of the network, e.g. for a network with a hidden and an output layer: W[0] is the weight matrix that connects the input to the first hidden layer, W[1] is the weight matrix that connects the hidden layer to the output layer.\n",
    "- `out_vals`: a dictionary of output values from a forward pass.\n",
    "- `learning_rate`: the learning rate for updating the weights.\n",
    "- `freeze_emb`: boolean value indicating whether the embedding weights will be updated.\n",
    "\n",
    "and returns:\n",
    "\n",
    "- `W`: the updated weights of the network.\n",
    "\n",
    "Hint: the gradients on the output layer are similar to the multiclass logistic regression."
   ]
  },
  {
   "cell_type": "code",
   "execution_count": 24,
   "metadata": {},
   "outputs": [],
   "source": [
    "def backward_pass(x, y, W, out_vals, lr=0.001, freeze_emb=False): \n",
    "    W_length = len(W)-1\n",
    "    W0_shape = W[W_length].shape[0]\n",
    "    W1_shape = W[W_length].shape[1]\n",
    "  \n",
    "    # y is the label array\n",
    "    y_layer = np.zeros(W[W_length].shape[1])\n",
    "    y_layer[y - 1] = 1\n",
    "    # Compute the gradient on output layer\n",
    "    delta_L = out_vals['y'] - y_layer\n",
    "    output_val = out_vals['a'][-1] * out_vals['dropout_vecs'][-1]\n",
    "    output_value = output_val.reshape(W0_shape,1)\n",
    "    gradient_value = np.dot(output_value,delta_L.reshape(1, W1_shape)) \n",
    "    \n",
    "     # Update the temp for layer\n",
    "    Wk = np.dot(W[W_length],delta_L).reshape(1,W0_shape)\n",
    "    g = out_vals['dropout_vecs'][W_length-1]\n",
    "    temp = Wk * g\n",
    "    # Update the W\n",
    "    W[W_length] = W[W_length] - lr*gradient_value\n",
    "            \n",
    "    for i in range(1, W_length):\n",
    "        \n",
    "        # f'(z) unpdate with activation der\n",
    "        der_v = relu_derivative(out_vals['h'][W_length-i]).reshape(1,W[W_length+1-i].shape[0])\n",
    "        \n",
    "        # Compute the gradient on output layer\n",
    "        temp = temp * der_v\n",
    "        output_v1 = out_vals['a'][W_length-1-i]*out_vals['dropout_vecs'][W_length-1-i]\n",
    "        output_value = output_v1.reshape(W[W_length-i].shape[0],1)\n",
    "        gradient_value = np.dot(output_value,temp)\n",
    "        temp_Wk = np.dot(W[W_length-i],temp.T).reshape(1,W[W_length-i].shape[0])\n",
    "        temp_g  = out_vals['dropout_vecs'][W_length-1-i]\n",
    "        temp = temp_Wk*temp_g\n",
    "        \n",
    "        # Calculate the new W\n",
    "        W[W_length-i] = W[W_length-i] - lr*gradient_value\n",
    "            \n",
    "        \n",
    "    # Update the W0 if freeze_emb==false\n",
    "    if freeze_emb == False:\n",
    "        x_array = np.zeros([W[0].shape[0],1])\n",
    "        x_array[x] = 1.0\n",
    "        lv_1 = relu_derivative(out_vals['h'][0]).reshape(1,W[0].shape[1])\n",
    "        temp = temp*lv_1\n",
    "        w_gradient = np.dot(x_array,temp)\n",
    "        W[0] = W[0] - lr * w_gradient # w[0] not freezze\n",
    "\n",
    "    return W"
   ]
  },
  {
   "cell_type": "markdown",
   "metadata": {
    "ExecuteTime": {
     "end_time": "2020-02-15T14:08:59.937442Z",
     "start_time": "2020-02-15T14:08:59.932221Z"
    }
   },
   "source": [
    "Finally you need to modify SGD to support back-propagation by using the `forward_pass` and `backward_pass` functions.\n",
    "\n",
    "The `SGD` function takes as input:\n",
    "\n",
    "- `X_tr`: array of training data (vectors)\n",
    "- `Y_tr`: labels of `X_tr`\n",
    "- `W`: the weights of the network (dictionary)\n",
    "- `X_dev`: array of development (i.e. validation) data (vectors)\n",
    "- `Y_dev`: labels of `X_dev`\n",
    "- `lr`: learning rate\n",
    "- `dropout`: regularisation strength\n",
    "- `epochs`: number of full passes over the training data\n",
    "- `tolerance`: stop training if the difference between the current and previous validation loss is smaller than a threshold\n",
    "- `freeze_emb`: boolean value indicating whether the embedding weights will be updated (to be used by the backward pass function).\n",
    "- `print_progress`: flag for printing the training progress (train/validation loss)\n",
    "\n",
    "\n",
    "and returns:\n",
    "\n",
    "- `weights`: the weights learned\n",
    "- `training_loss_history`: an array with the average losses of the whole training set after each epoch\n",
    "- `validation_loss_history`: an array with the average losses of the whole development set after each epoch"
   ]
  },
  {
   "cell_type": "code",
   "execution_count": 25,
   "metadata": {},
   "outputs": [],
   "source": [
    "def SGD(X_tr, Y_tr, W, X_dev=[], Y_dev=[], lr=0.001, \n",
    "        dropout=0.2, epochs=5, tolerance=0.001, freeze_emb=False, \n",
    "        print_progress=True):\n",
    "    \n",
    "    loss_dev = 10.0\n",
    "    training_loss_history = []\n",
    "    validation_loss_history = []\n",
    "    epoch = 0\n",
    "    \n",
    "#     for each epoch e do\n",
    "#         randomise order in Dtrain\n",
    "#         for each (xi, yi) in Dtrain \n",
    "#             do\n",
    "#             layer outputs = forward pass((xi, yi), W )\n",
    "#             W = backward pass((xi, yi), W , L, layer outputs)\n",
    "\n",
    "    for epo in range(epochs):\n",
    "        #Randomly permute training sequence\n",
    "        np.random.seed(123)\n",
    "        random_X_tr = np.random.permutation(X_tr)\n",
    "        random_Y_tr = np.random.permutation(Y_tr)\n",
    "        # Intial the first for and back value in the frist train \n",
    "        layer_outputs = forward_pass(random_X_tr[0], W, dropout_rate=dropout)\n",
    "        backward_result = backward_pass(random_X_tr[0], random_Y_tr[0], W, layer_outputs, lr=lr, freeze_emb=freeze_emb)\n",
    "       \n",
    "        \n",
    "        for i in range(1, len(random_X_tr)):\n",
    "            layer_outputs = forward_pass(random_X_tr[i], W, dropout_rate=dropout)\n",
    "            backward_result = backward_pass(random_X_tr[i], random_Y_tr[i], backward_result, layer_outputs, lr=lr, freeze_emb=freeze_emb)\n",
    "            \n",
    "        # Compute the train loss\n",
    "        loss_train = loss_function(random_X_tr, random_Y_tr, backward_result, dropout_rate=dropout)\n",
    "        training_loss_history.append(loss_train)\n",
    "        \n",
    "        #compute validation set loss\n",
    "        loss_valid = loss_function(X_dev, Y_dev, backward_result,dropout_rate=dropout)\n",
    "        validation_loss_history.append(loss_valid)\n",
    "        epoch = epoch + 1\n",
    "            \n",
    "        if print_progress:\n",
    "            print('Epoch: %d' % epo, '| Training loss: %f' % loss_train, '| Validation loss: %f' % loss_valid)\n",
    "            \n",
    "        if (loss_dev - loss_valid) < tolerance and  print_progress:\n",
    "            print('Finshed the traning at epoch: ', epoch - 1)\n",
    "            break\n",
    "            \n",
    "        loss_dev = loss_valid\n",
    "    return W, training_loss_history, validation_loss_history"
   ]
  },
  {
   "cell_type": "code",
   "execution_count": 26,
   "metadata": {},
   "outputs": [],
   "source": [
    "# Obtain the average loss\n",
    "def loss_function(x, y, W ,dropout_rate):\n",
    "    l = 0\n",
    "    for id in range(len(x)):\n",
    "        out_vals = forward_pass(x[id], W, dropout_rate)\n",
    "        y_label = out_vals['y']\n",
    "        loss_v = categorical_loss(y[id]-1,y_label)\n",
    "        l =+ loss_v \n",
    "    mean_loss = l \n",
    "    return mean_loss"
   ]
  },
  {
   "cell_type": "markdown",
   "metadata": {
    "ExecuteTime": {
     "end_time": "2020-02-15T14:10:15.772383Z",
     "start_time": "2020-02-15T14:10:15.767855Z"
    }
   },
   "source": [
    "Now you are ready to train and evaluate your neural net. First, you need to define your network using the `network_weights` function followed by SGD with backprop:"
   ]
  },
  {
   "cell_type": "code",
   "execution_count": 27,
   "metadata": {
    "ExecuteTime": {
     "end_time": "2020-04-02T15:09:33.643515Z",
     "start_time": "2020-04-02T15:09:33.640943Z"
    },
    "scrolled": true
   },
   "outputs": [
    {
     "name": "stderr",
     "output_type": "stream",
     "text": [
      "C:\\Users\\ZHOUQI~1\\AppData\\Local\\Temp/ipykernel_35020/3525837224.py:20: VisibleDeprecationWarning: Creating an ndarray from ragged nested sequences (which is a list-or-tuple of lists-or-tuples-or ndarrays with different lengths or shapes) is deprecated. If you meant to do this, you must specify 'dtype=object' when creating the ndarray.\n",
      "  random_X_tr = np.random.permutation(X_tr)\n",
      "<__array_function__ internals>:5: VisibleDeprecationWarning: Creating an ndarray from ragged nested sequences (which is a list-or-tuple of lists-or-tuples-or ndarrays with different lengths or shapes) is deprecated. If you meant to do this, you must specify 'dtype=object' when creating the ndarray.\n"
     ]
    },
    {
     "name": "stdout",
     "output_type": "stream",
     "text": [
      "Epoch: 0 | Training loss: 0.160548 | Validation loss: 0.426553\n",
      "Epoch: 1 | Training loss: 0.230895 | Validation loss: 0.311415\n",
      "Epoch: 2 | Training loss: 0.228580 | Validation loss: 0.198042\n",
      "Epoch: 3 | Training loss: 0.220141 | Validation loss: 0.130425\n",
      "Epoch: 4 | Training loss: 0.195063 | Validation loss: 0.105164\n",
      "Epoch: 5 | Training loss: 0.172137 | Validation loss: 0.096280\n",
      "Epoch: 6 | Training loss: 0.149137 | Validation loss: 0.084651\n",
      "Epoch: 7 | Training loss: 0.130505 | Validation loss: 0.075893\n",
      "Epoch: 8 | Training loss: 0.119090 | Validation loss: 0.068549\n",
      "Epoch: 9 | Training loss: 0.104401 | Validation loss: 0.063721\n",
      "Epoch: 10 | Training loss: 0.092478 | Validation loss: 0.059469\n",
      "Epoch: 11 | Training loss: 0.085757 | Validation loss: 0.055931\n",
      "Epoch: 12 | Training loss: 0.080225 | Validation loss: 0.053145\n",
      "Epoch: 13 | Training loss: 0.073126 | Validation loss: 0.050484\n",
      "Epoch: 14 | Training loss: 0.069948 | Validation loss: 0.048586\n",
      "Epoch: 15 | Training loss: 0.064904 | Validation loss: 0.046640\n",
      "Epoch: 16 | Training loss: 0.061579 | Validation loss: 0.044800\n",
      "Epoch: 17 | Training loss: 0.058362 | Validation loss: 0.043191\n",
      "Epoch: 18 | Training loss: 0.055784 | Validation loss: 0.041734\n",
      "Epoch: 19 | Training loss: 0.052323 | Validation loss: 0.040487\n",
      "Epoch: 20 | Training loss: 0.051248 | Validation loss: 0.039322\n",
      "Epoch: 21 | Training loss: 0.048763 | Validation loss: 0.038171\n",
      "Epoch: 22 | Training loss: 0.046846 | Validation loss: 0.037100\n",
      "Epoch: 23 | Training loss: 0.044768 | Validation loss: 0.036181\n",
      "Finshed the traning at epoch:  23\n"
     ]
    }
   ],
   "source": [
    "W = network_weights(vocab_size=len(vocab),\n",
    "                    embedding_dim = 100,\n",
    "                    hidden_dim=[],\n",
    "                    num_classes=3)\n",
    "\n",
    "\n",
    "W, loss_tr, dev_loss = SGD(X_tr, Y_tr,\n",
    "                            W,\n",
    "                            X_dev=X_dev, \n",
    "                            Y_dev=Y_dev,\n",
    "                            lr=0.1, \n",
    "                            dropout=0.2,\n",
    "                            freeze_emb=False,\n",
    "                            tolerance=0.001,\n",
    "                            epochs=30)\n"
   ]
  },
  {
   "cell_type": "markdown",
   "metadata": {},
   "source": [
    "Plot the learning process:"
   ]
  },
  {
   "cell_type": "code",
   "execution_count": 28,
   "metadata": {
    "ExecuteTime": {
     "end_time": "2020-04-02T14:27:15.716497Z",
     "start_time": "2020-04-02T14:27:15.612736Z"
    },
    "scrolled": true
   },
   "outputs": [
    {
     "data": {
      "image/png": "[encoded data removed]",
      "text/plain": [
       "<Figure size 432x288 with 1 Axes>"
      ]
     },
     "metadata": {
      "needs_background": "light"
     },
     "output_type": "display_data"
    }
   ],
   "source": [
    "plt.plot(loss_tr, label='Training loss')\n",
    "plt.plot(dev_loss, label='Validation loss')\n",
    "\n",
    "plt.xlabel('Epochs')\n",
    "plt.ylabel('Loss')\n",
    "plt.title('Training Monitoring\\n(Training and Validation History)')\n",
    "plt.legend()\n",
    "plt.show()"
   ]
  },
  {
   "cell_type": "markdown",
   "metadata": {},
   "source": [
    "Compute accuracy, precision, recall and F1-Score:"
   ]
  },
  {
   "cell_type": "code",
   "execution_count": 29,
   "metadata": {
    "ExecuteTime": {
     "end_time": "2020-04-02T15:10:11.037495Z",
     "start_time": "2020-04-02T15:10:11.034999Z"
    },
    "scrolled": true
   },
   "outputs": [
    {
     "name": "stdout",
     "output_type": "stream",
     "text": [
      "Accuracy: 0.8487208008898777\n",
      "Precision: 0.8499965353047955\n",
      "Recall: 0.8486882199925678\n",
      "F1-Score: 0.8484165767369\n"
     ]
    }
   ],
   "source": [
    "preds_te = [np.argmax(forward_pass(x, W, dropout_rate=0.0)['y']) + 1  \n",
    "            for x,y in zip(X_te,Y_te)]\n",
    "print('Accuracy:', accuracy_score(Y_te,preds_te))\n",
    "print('Precision:', precision_score(Y_te,preds_te,average='macro'))\n",
    "print('Recall:', recall_score(Y_te,preds_te,average='macro'))\n",
    "print('F1-Score:', f1_score(Y_te,preds_te,average='macro'))"
   ]
  },
  {
   "cell_type": "markdown",
   "metadata": {},
   "source": [
    "##### Answer\n",
    "Accroding to the results of training monitoring results, I can conduct that the model is about to right.\n",
    "\n",
    "- It can be shown that both training loss and validation loss is decreasing with the increasing of the number of epoch, and at the end they both are close to a steady state.\n",
    "\n",
    "\n",
    "\n",
    "The way to prevent overfiting applied in this model includes:\n",
    "- Stoping the traning when previous validation loss - current validation loss < the tolerance"
   ]
  },
  {
   "cell_type": "markdown",
   "metadata": {},
   "source": [
    "### Discuss how did you choose model hyperparameters ? \n",
    "\n",
    "The main hapyermeter is potential to be optimized should be learning rate, the embedding size and the drop out rate. Here the grid research for parameter will be chose to find the best hyperparameters. We used 0.005 and 0.05 for 2 times gap which can be used to find best value caused keeping the cure smooth and dont apper overfitting is fine, large learing rate may prevent  to get the best point which has lowest loss. for saving time we will not try small lr.\n",
    "\n",
    "The second parameter is embedding size，larger dimision may provide better performance but consider the time of computing the value will only start 2 smaller value.\n",
    "\n",
    "The third parameter is dropping out rate，dropout is a technique to drop selected neurons at any time during training. They are forever \"right to drop out\". This means that their contributions to downstream neurons are temporarily removed in the forward transfer, and any heavy updates will not therefore result in transferring neurons."
   ]
  },
  {
   "cell_type": "code",
   "execution_count": 30,
   "metadata": {
    "scrolled": true
   },
   "outputs": [
    {
     "name": "stderr",
     "output_type": "stream",
     "text": [
      "C:\\Users\\ZHOUQI~1\\AppData\\Local\\Temp/ipykernel_35020/3525837224.py:20: VisibleDeprecationWarning: Creating an ndarray from ragged nested sequences (which is a list-or-tuple of lists-or-tuples-or ndarrays with different lengths or shapes) is deprecated. If you meant to do this, you must specify 'dtype=object' when creating the ndarray.\n",
      "  random_X_tr = np.random.permutation(X_tr)\n",
      "<__array_function__ internals>:5: VisibleDeprecationWarning: Creating an ndarray from ragged nested sequences (which is a list-or-tuple of lists-or-tuples-or ndarrays with different lengths or shapes) is deprecated. If you meant to do this, you must specify 'dtype=object' when creating the ndarray.\n"
     ]
    },
    {
     "name": "stdout",
     "output_type": "stream",
     "text": [
      "Epoch: 0 | Training loss: 0.040225 | Validation loss: 0.962899\n",
      "Epoch: 1 | Training loss: 0.047583 | Validation loss: 0.788973\n",
      "Epoch: 2 | Training loss: 0.045126 | Validation loss: 0.650680\n",
      "Epoch: 3 | Training loss: 0.032097 | Validation loss: 0.548039\n",
      "Epoch: 4 | Training loss: 0.023102 | Validation loss: 0.507351\n",
      "Finshed the traning at epoch:  4\n"
     ]
    },
    {
     "name": "stderr",
     "output_type": "stream",
     "text": [
      "C:\\Users\\ZHOUQI~1\\AppData\\Local\\Temp/ipykernel_35020/3525837224.py:20: VisibleDeprecationWarning: Creating an ndarray from ragged nested sequences (which is a list-or-tuple of lists-or-tuples-or ndarrays with different lengths or shapes) is deprecated. If you meant to do this, you must specify 'dtype=object' when creating the ndarray.\n",
      "  random_X_tr = np.random.permutation(X_tr)\n",
      "<__array_function__ internals>:5: VisibleDeprecationWarning: Creating an ndarray from ragged nested sequences (which is a list-or-tuple of lists-or-tuples-or ndarrays with different lengths or shapes) is deprecated. If you meant to do this, you must specify 'dtype=object' when creating the ndarray.\n"
     ]
    },
    {
     "name": "stdout",
     "output_type": "stream",
     "text": [
      "Epoch: 0 | Training loss: 0.049943 | Validation loss: 0.737909\n",
      "Epoch: 1 | Training loss: 0.119797 | Validation loss: 0.602036\n",
      "Epoch: 2 | Training loss: 0.173039 | Validation loss: 0.478191\n",
      "Epoch: 3 | Training loss: 0.181846 | Validation loss: 0.398638\n",
      "Finshed the traning at epoch:  3\n"
     ]
    },
    {
     "name": "stderr",
     "output_type": "stream",
     "text": [
      "C:\\Users\\ZHOUQI~1\\AppData\\Local\\Temp/ipykernel_35020/3525837224.py:20: VisibleDeprecationWarning: Creating an ndarray from ragged nested sequences (which is a list-or-tuple of lists-or-tuples-or ndarrays with different lengths or shapes) is deprecated. If you meant to do this, you must specify 'dtype=object' when creating the ndarray.\n",
      "  random_X_tr = np.random.permutation(X_tr)\n",
      "<__array_function__ internals>:5: VisibleDeprecationWarning: Creating an ndarray from ragged nested sequences (which is a list-or-tuple of lists-or-tuples-or ndarrays with different lengths or shapes) is deprecated. If you meant to do this, you must specify 'dtype=object' when creating the ndarray.\n"
     ]
    },
    {
     "name": "stdout",
     "output_type": "stream",
     "text": [
      "Epoch: 0 | Training loss: 0.041072 | Validation loss: 0.866025\n",
      "Epoch: 1 | Training loss: 0.034650 | Validation loss: 0.732145\n",
      "Epoch: 2 | Training loss: 0.022274 | Validation loss: 0.590582\n",
      "Epoch: 3 | Training loss: 0.011377 | Validation loss: 0.557602\n",
      "Finshed the traning at epoch:  3\n"
     ]
    },
    {
     "name": "stderr",
     "output_type": "stream",
     "text": [
      "C:\\Users\\ZHOUQI~1\\AppData\\Local\\Temp/ipykernel_35020/3525837224.py:20: VisibleDeprecationWarning: Creating an ndarray from ragged nested sequences (which is a list-or-tuple of lists-or-tuples-or ndarrays with different lengths or shapes) is deprecated. If you meant to do this, you must specify 'dtype=object' when creating the ndarray.\n",
      "  random_X_tr = np.random.permutation(X_tr)\n",
      "<__array_function__ internals>:5: VisibleDeprecationWarning: Creating an ndarray from ragged nested sequences (which is a list-or-tuple of lists-or-tuples-or ndarrays with different lengths or shapes) is deprecated. If you meant to do this, you must specify 'dtype=object' when creating the ndarray.\n"
     ]
    },
    {
     "name": "stdout",
     "output_type": "stream",
     "text": [
      "Epoch: 0 | Training loss: 0.072845 | Validation loss: 0.825306\n",
      "Epoch: 1 | Training loss: 0.073937 | Validation loss: 0.731487\n",
      "Finshed the traning at epoch:  1\n"
     ]
    },
    {
     "name": "stderr",
     "output_type": "stream",
     "text": [
      "C:\\Users\\ZHOUQI~1\\AppData\\Local\\Temp/ipykernel_35020/3525837224.py:20: VisibleDeprecationWarning: Creating an ndarray from ragged nested sequences (which is a list-or-tuple of lists-or-tuples-or ndarrays with different lengths or shapes) is deprecated. If you meant to do this, you must specify 'dtype=object' when creating the ndarray.\n",
      "  random_X_tr = np.random.permutation(X_tr)\n",
      "<__array_function__ internals>:5: VisibleDeprecationWarning: Creating an ndarray from ragged nested sequences (which is a list-or-tuple of lists-or-tuples-or ndarrays with different lengths or shapes) is deprecated. If you meant to do this, you must specify 'dtype=object' when creating the ndarray.\n"
     ]
    },
    {
     "name": "stdout",
     "output_type": "stream",
     "text": [
      "Epoch: 0 | Training loss: 0.203075 | Validation loss: 0.396989\n",
      "Epoch: 1 | Training loss: 0.168221 | Validation loss: 0.145552\n",
      "Epoch: 2 | Training loss: 0.178989 | Validation loss: 0.079719\n",
      "Finshed the traning at epoch:  2\n"
     ]
    },
    {
     "name": "stderr",
     "output_type": "stream",
     "text": [
      "C:\\Users\\ZHOUQI~1\\AppData\\Local\\Temp/ipykernel_35020/3525837224.py:20: VisibleDeprecationWarning: Creating an ndarray from ragged nested sequences (which is a list-or-tuple of lists-or-tuples-or ndarrays with different lengths or shapes) is deprecated. If you meant to do this, you must specify 'dtype=object' when creating the ndarray.\n",
      "  random_X_tr = np.random.permutation(X_tr)\n",
      "<__array_function__ internals>:5: VisibleDeprecationWarning: Creating an ndarray from ragged nested sequences (which is a list-or-tuple of lists-or-tuples-or ndarrays with different lengths or shapes) is deprecated. If you meant to do this, you must specify 'dtype=object' when creating the ndarray.\n"
     ]
    },
    {
     "name": "stdout",
     "output_type": "stream",
     "text": [
      "Epoch: 0 | Training loss: 0.259696 | Validation loss: 0.939961\n",
      "Epoch: 1 | Training loss: 0.431602 | Validation loss: 0.895433\n",
      "Finshed the traning at epoch:  1\n"
     ]
    },
    {
     "name": "stderr",
     "output_type": "stream",
     "text": [
      "C:\\Users\\ZHOUQI~1\\AppData\\Local\\Temp/ipykernel_35020/3525837224.py:20: VisibleDeprecationWarning: Creating an ndarray from ragged nested sequences (which is a list-or-tuple of lists-or-tuples-or ndarrays with different lengths or shapes) is deprecated. If you meant to do this, you must specify 'dtype=object' when creating the ndarray.\n",
      "  random_X_tr = np.random.permutation(X_tr)\n",
      "<__array_function__ internals>:5: VisibleDeprecationWarning: Creating an ndarray from ragged nested sequences (which is a list-or-tuple of lists-or-tuples-or ndarrays with different lengths or shapes) is deprecated. If you meant to do this, you must specify 'dtype=object' when creating the ndarray.\n"
     ]
    },
    {
     "name": "stdout",
     "output_type": "stream",
     "text": [
      "Epoch: 0 | Training loss: 0.580925 | Validation loss: 0.740849\n",
      "Epoch: 1 | Training loss: 0.915608 | Validation loss: 0.741267\n",
      "Finshed the traning at epoch:  1\n"
     ]
    },
    {
     "name": "stderr",
     "output_type": "stream",
     "text": [
      "C:\\Users\\ZHOUQI~1\\AppData\\Local\\Temp/ipykernel_35020/3525837224.py:20: VisibleDeprecationWarning: Creating an ndarray from ragged nested sequences (which is a list-or-tuple of lists-or-tuples-or ndarrays with different lengths or shapes) is deprecated. If you meant to do this, you must specify 'dtype=object' when creating the ndarray.\n",
      "  random_X_tr = np.random.permutation(X_tr)\n",
      "<__array_function__ internals>:5: VisibleDeprecationWarning: Creating an ndarray from ragged nested sequences (which is a list-or-tuple of lists-or-tuples-or ndarrays with different lengths or shapes) is deprecated. If you meant to do this, you must specify 'dtype=object' when creating the ndarray.\n"
     ]
    },
    {
     "name": "stdout",
     "output_type": "stream",
     "text": [
      "Epoch: 0 | Training loss: 0.403327 | Validation loss: 0.962011\n",
      "Epoch: 1 | Training loss: 0.448352 | Validation loss: 1.056993\n",
      "Finshed the traning at epoch:  1\n"
     ]
    }
   ],
   "source": [
    "learning_rate_list = [0.05, 0.1]\n",
    "embedding_size_list = [100, 50]\n",
    "drop_out_rate_list = [0.4, 0.2]\n",
    "test_score = []\n",
    "all_list = []\n",
    "hyper_list = []\n",
    "\n",
    "for dim in embedding_size_list:\n",
    "    for lr in learning_rate_list:\n",
    "        for drop in drop_out_rate_list:\n",
    "            W = network_weights(vocab_size=len(vocab), \n",
    "                    embedding_dim=dim, \n",
    "                    hidden_dim=[], \n",
    "                    num_classes=3, \n",
    "                    init_val = 0.5)\n",
    "            \n",
    "           # We replace the dim, drop and lr for each iter\n",
    "            W, loss_tr, dev_loss = SGD(X_tr,Y_tr,W,X_dev=X_dev, Y_dev=Y_dev,lr=lr, dropout = drop,freeze_emb=False,tolerance=0.1,epochs=100,print_progress=True)           \n",
    "            \n",
    "            # Results and Scores\n",
    "            preds_te = [np.argmax(forward_pass(x, W, dropout_rate=0.0)['y'])+1 for x,y in zip(X_test,test_label)]\n",
    "            accuracy = accuracy_score(test_label,preds_te)\n",
    "            precision = precision_score(Y_te,preds_te,average='macro')\n",
    "            Recall =recall_score(Y_te,preds_te,average='macro')\n",
    "            F_Score =f1_score(Y_te,preds_te,average='macro')\n",
    "            score = [accuracy, precision, Recall,F_Score]\n",
    "            \n",
    "            test_score.append(accuracy)\n",
    "            all_list.append([accuracy, precision, Recall, F_Score])\n",
    "            hyper = [dim, lr, drop]\n",
    "            hyper_list.append(hyper)\n",
    "     "
   ]
  },
  {
   "cell_type": "code",
   "execution_count": 31,
   "metadata": {},
   "outputs": [
    {
     "data": {
      "text/plain": [
       "([[100, 0.05, 0.4],\n",
       "  [100, 0.05, 0.2],\n",
       "  [100, 0.1, 0.4],\n",
       "  [100, 0.1, 0.2],\n",
       "  [50, 0.05, 0.4],\n",
       "  [50, 0.05, 0.2],\n",
       "  [50, 0.1, 0.4],\n",
       "  [50, 0.1, 0.2]],\n",
       " [0.8498331479421579,\n",
       "  0.8442714126807565,\n",
       "  0.8476084538375973,\n",
       "  0.8409343715239155,\n",
       "  0.8387096774193549,\n",
       "  0.8398220244716351,\n",
       "  0.8364849833147943,\n",
       "  0.8387096774193549])"
      ]
     },
     "execution_count": 31,
     "metadata": {},
     "output_type": "execute_result"
    }
   ],
   "source": [
    "hyper_list,  test_score"
   ]
  },
  {
   "cell_type": "code",
   "execution_count": 32,
   "metadata": {},
   "outputs": [
    {
     "name": "stdout",
     "output_type": "stream",
     "text": [
      "The best parameter and the F1-score on test set\n",
      "emb_dim: 100  lr: 0.05  drop_rate: 0.4  Accuracy: 0.8498331479421579 A/P/R/F [0.8498331479421579, 0.8527484467627605, 0.8498179115570421, 0.8497295462748925]\n"
     ]
    }
   ],
   "source": [
    "best_result = max(test_score)\n",
    "best_id = test_score.index(best_result)\n",
    "best_hyper = hyper_list[best_id]\n",
    "best_S = all_list[best_id]\n",
    "print(\"The best parameter and the F1-score on test set\")\n",
    "print(\"emb_dim:\", best_hyper[0], \" lr:\", best_hyper[1],\" drop_rate:\" ,best_hyper[2] ,\" Accuracy:\", best_result, \"A/P/R/F\",best_S)"
   ]
  },
  {
   "cell_type": "markdown",
   "metadata": {},
   "source": [
    " | Embediing Size  | Learning Rate  | Drop Rate  | Accuracy\n",
    "|:-:|:-:|:-:|:-:|\n",
    "| 100 |0.05| 0.4 |0.8431590656284761   |\n",
    "| 100| 0.05| 0.2  | 0.8431590656284761 |\n",
    "| 100| 0.5| 0.4 |  0.8542825361512792  |\n",
    "|100 |0.5| 0.2|    0.8609566184649611   |\n",
    "|  50|0.05| 0.4 | 0.8453837597330367  |\n",
    "| 50| 0.05| 0.2  |  0.8398220244716351 |\n",
    "|50| 0.5|0.4  |    0.8431590656284761 |\n",
    "|50| 0.5| 0.2|    0.8375973303670745  |"
   ]
  },
  {
   "cell_type": "markdown",
   "metadata": {},
   "source": [
    "# Use Pre-trained Embeddings\n",
    "\n",
    "Now re-train the network using GloVe pre-trained embeddings. You need to modify the `backward_pass` function above to stop computing gradients and updating weights of the embedding matrix.\n",
    "\n",
    "Use the function below to obtain the embedding martix for your vocabulary. Generally, that should work without any problem. If you get errors, you can modify it."
   ]
  },
  {
   "cell_type": "code",
   "execution_count": 33,
   "metadata": {
    "ExecuteTime": {
     "end_time": "2020-04-02T14:27:32.020697Z",
     "start_time": "2020-04-02T14:27:32.015733Z"
    },
    "scrolled": true
   },
   "outputs": [],
   "source": [
    "def get_glove_embeddings(f_zip, f_txt, word2id, emb_size=300):\n",
    "    w_emb = np.zeros((len(word2id), emb_size))\n",
    "    with zipfile.ZipFile(f_zip) as z:\n",
    "        with z.open(f_txt) as f:\n",
    "            for line in f:\n",
    "                line = line.decode('utf-8')\n",
    "                word = line.split()[0]\n",
    "                     \n",
    "                if word in vocab:\n",
    "                    emb = np.array(line.strip('\\n').split()[1:]).astype(np.float32)\n",
    "                    w_emb[word2id[word]] +=emb\n",
    "    return w_emb"
   ]
  },
  {
   "cell_type": "code",
   "execution_count": 34,
   "metadata": {
    "ExecuteTime": {
     "end_time": "2020-04-02T14:28:54.548613Z",
     "start_time": "2020-04-02T14:27:32.780248Z"
    },
    "scrolled": true
   },
   "outputs": [],
   "source": [
    "w_glove = get_glove_embeddings(\"glove.840B.300d.zip\",\"glove.840B.300d.txt\",word2id)"
   ]
  },
  {
   "cell_type": "code",
   "execution_count": 35,
   "metadata": {},
   "outputs": [
    {
     "data": {
      "text/plain": [
       "array([[ 0.17918   , -0.058017  ,  0.11322   , ..., -0.65189999,\n",
       "         0.20111001, -0.18035001],\n",
       "       [ 0.10422   , -0.017546  ,  0.27474001, ..., -0.051732  ,\n",
       "         0.078582  ,  0.43794999],\n",
       "       [-0.37022001, -0.056673  , -0.53773999, ...,  0.12740999,\n",
       "         0.45063999, -0.21357   ],\n",
       "       ...,\n",
       "       [-0.43382999, -0.15577   ,  0.078257  , ...,  0.076123  ,\n",
       "         0.32749   ,  0.56278998],\n",
       "       [ 0.12955999,  0.094718  , -0.17502999, ...,  0.090686  ,\n",
       "        -0.027655  , -0.39662001],\n",
       "       [ 0.22408   ,  0.23710001,  0.093534  , ..., -0.070376  ,\n",
       "         0.097203  , -0.019966  ]])"
      ]
     },
     "execution_count": 35,
     "metadata": {},
     "output_type": "execute_result"
    }
   ],
   "source": [
    "w_glove"
   ]
  },
  {
   "cell_type": "code",
   "execution_count": 36,
   "metadata": {},
   "outputs": [
    {
     "data": {
      "text/plain": [
       "(2000, 300)"
      ]
     },
     "execution_count": 36,
     "metadata": {},
     "output_type": "execute_result"
    }
   ],
   "source": [
    "w_glove.shape"
   ]
  },
  {
   "cell_type": "markdown",
   "metadata": {},
   "source": [
    "First, initialise the weights of your network using the `network_weights` function. Second, replace the weigths of the embedding matrix with `w_glove`. Finally, train the network by freezing the embedding weights: "
   ]
  },
  {
   "cell_type": "code",
   "execution_count": 37,
   "metadata": {
    "ExecuteTime": {
     "end_time": "2020-04-02T14:30:11.121198Z",
     "start_time": "2020-04-02T14:29:24.946124Z"
    },
    "scrolled": true
   },
   "outputs": [
    {
     "name": "stdout",
     "output_type": "stream",
     "text": [
      "Shape W0 (2000, 300)\n",
      "Shape W1 (300, 3)\n"
     ]
    },
    {
     "name": "stderr",
     "output_type": "stream",
     "text": [
      "C:\\Users\\ZHOUQI~1\\AppData\\Local\\Temp/ipykernel_35020/3525837224.py:20: VisibleDeprecationWarning: Creating an ndarray from ragged nested sequences (which is a list-or-tuple of lists-or-tuples-or ndarrays with different lengths or shapes) is deprecated. If you meant to do this, you must specify 'dtype=object' when creating the ndarray.\n",
      "  random_X_tr = np.random.permutation(X_tr)\n",
      "<__array_function__ internals>:5: VisibleDeprecationWarning: Creating an ndarray from ragged nested sequences (which is a list-or-tuple of lists-or-tuples-or ndarrays with different lengths or shapes) is deprecated. If you meant to do this, you must specify 'dtype=object' when creating the ndarray.\n"
     ]
    },
    {
     "name": "stdout",
     "output_type": "stream",
     "text": [
      "Epoch: 0 | Training loss: 0.674984 | Validation loss: 0.361958\n",
      "Epoch: 1 | Training loss: 0.562877 | Validation loss: 0.171472\n",
      "Epoch: 2 | Training loss: 0.519238 | Validation loss: 0.103691\n",
      "Epoch: 3 | Training loss: 0.499299 | Validation loss: 0.071378\n",
      "Epoch: 4 | Training loss: 0.489538 | Validation loss: 0.053146\n",
      "Epoch: 5 | Training loss: 0.484958 | Validation loss: 0.041697\n",
      "Epoch: 6 | Training loss: 0.483320 | Validation loss: 0.033958\n",
      "Epoch: 7 | Training loss: 0.483460 | Validation loss: 0.028439\n",
      "Epoch: 8 | Training loss: 0.484708 | Validation loss: 0.024338\n",
      "Epoch: 9 | Training loss: 0.486651 | Validation loss: 0.021192\n",
      "Epoch: 10 | Training loss: 0.489017 | Validation loss: 0.018713\n",
      "Epoch: 11 | Training loss: 0.491625 | Validation loss: 0.016719\n",
      "Epoch: 12 | Training loss: 0.494349 | Validation loss: 0.015084\n",
      "Epoch: 13 | Training loss: 0.497100 | Validation loss: 0.013723\n",
      "Epoch: 14 | Training loss: 0.499816 | Validation loss: 0.012575\n",
      "Epoch: 15 | Training loss: 0.502452 | Validation loss: 0.011594\n",
      "Finshed the traning at epoch:  15\n"
     ]
    }
   ],
   "source": [
    "# Initialise the weights of your network \n",
    "W = network_weights(vocab_size=len(vocab),embedding_dim=300,hidden_dim=[], num_classes=3, init_val = 0.1)\n",
    "\n",
    "#Replace the weigths of the embedding matrix with w_glove\n",
    "W[0] = w_glove\n",
    "\n",
    "for i in range(len(W)):\n",
    "    print('Shape W'+str(i), W[i].shape)\n",
    "\n",
    "W, loss_tr, dev_loss = SGD(X_tr,Y_tr,W,X_dev=X_dev, Y_dev=Y_dev,lr=0.01,\n",
    "                                       dropout = drop,freeze_emb = True,tolerance=0.001,epochs=100)\n"
   ]
  },
  {
   "cell_type": "code",
   "execution_count": 38,
   "metadata": {},
   "outputs": [
    {
     "data": {
      "image/png": "[encoded data removed]",
      "text/plain": [
       "<Figure size 432x288 with 1 Axes>"
      ]
     },
     "metadata": {
      "needs_background": "light"
     },
     "output_type": "display_data"
    }
   ],
   "source": [
    "plt.plot(loss_tr, label='Training loss')\n",
    "plt.plot(dev_loss, label='Validation loss')\n",
    "\n",
    "plt.xlabel('Epochs')\n",
    "plt.ylabel('Loss')\n",
    "plt.title('Training Monitoring\\n(Training and Validation History)')\n",
    "plt.legend()\n",
    "plt.show()"
   ]
  },
  {
   "cell_type": "code",
   "execution_count": 39,
   "metadata": {
    "ExecuteTime": {
     "end_time": "2020-04-02T15:12:00.815184Z",
     "start_time": "2020-04-02T15:12:00.812563Z"
    },
    "scrolled": true
   },
   "outputs": [
    {
     "name": "stdout",
     "output_type": "stream",
     "text": [
      "Accuracy: 0.8720800889877642\n",
      "Precision: 0.8742475813052785\n",
      "Recall: 0.8720624303232999\n",
      "F1-Score: 0.8719213368715802\n"
     ]
    }
   ],
   "source": [
    "preds_te = [np.argmax(forward_pass(x, W, dropout_rate=0.0)['y'] ) + 1  \n",
    "            for x,y in zip(X_te,Y_te)]\n",
    "\n",
    "print('Accuracy:', accuracy_score(Y_te,preds_te))\n",
    "print('Precision:', precision_score(Y_te,preds_te,average='macro'))\n",
    "print('Recall:', recall_score(Y_te,preds_te,average='macro'))\n",
    "print('F1-Score:', f1_score(Y_te,preds_te,average='macro'))"
   ]
  },
  {
   "cell_type": "markdown",
   "metadata": {},
   "source": [
    "##### Answer\n",
    "Accroding to the results of training monitoring results, I can conduct that the model is about to right.\n",
    "\n",
    "- It can be shown that both training loss and validation loss is decreasing with the increasing of the number of epoch, and at the end they both are close to a steady state.\n",
    "\n",
    "\n",
    "\n",
    "The way to prevent overfiting applied in this model includes:\n",
    "- Stoping the traning when previous validation loss - current validation loss < the tolerance"
   ]
  },
  {
   "cell_type": "markdown",
   "metadata": {},
   "source": [
    "### Discuss how did you choose model hyperparameters ? \n",
    "The main hapyermeter is potential to be optimized should be learning rate, the embedding size and the drop out rate. Here the grid research for parameter will be chose to find the best hyperparameters. We used 0.005 and 0.05 for 2 times gap which can be used to find best value caused keeping the cure smooth and dont apper overfitting is fine, large learing rate may prevent  to get the best point which has lowest loss.\n",
    "\n",
    "The second parameter is embedding size，but here the size will be fixed to 300 because it is  pre-trained embeddings which limit the option.\n",
    "\n",
    "The third parameter is dropping out rate，dropout is a technique to drop selected neurons at any time during training. They are forever \"right to drop out\". This means that their contributions to downstream neurons are temporarily removed in the forward transfer, and any heavy updates will not therefore result in transferring neurons."
   ]
  },
  {
   "cell_type": "code",
   "execution_count": 40,
   "metadata": {
    "scrolled": true
   },
   "outputs": [
    {
     "name": "stderr",
     "output_type": "stream",
     "text": [
      "C:\\Users\\ZHOUQI~1\\AppData\\Local\\Temp/ipykernel_35020/3525837224.py:20: VisibleDeprecationWarning: Creating an ndarray from ragged nested sequences (which is a list-or-tuple of lists-or-tuples-or ndarrays with different lengths or shapes) is deprecated. If you meant to do this, you must specify 'dtype=object' when creating the ndarray.\n",
      "  random_X_tr = np.random.permutation(X_tr)\n",
      "<__array_function__ internals>:5: VisibleDeprecationWarning: Creating an ndarray from ragged nested sequences (which is a list-or-tuple of lists-or-tuples-or ndarrays with different lengths or shapes) is deprecated. If you meant to do this, you must specify 'dtype=object' when creating the ndarray.\n"
     ]
    },
    {
     "name": "stdout",
     "output_type": "stream",
     "text": [
      "Epoch: 0 | Training loss: 0.191389 | Validation loss: 0.070912\n",
      "Epoch: 1 | Training loss: 0.362849 | Validation loss: 0.048633\n",
      "Epoch: 2 | Training loss: 0.579950 | Validation loss: 0.026201\n",
      "Epoch: 3 | Training loss: 0.831632 | Validation loss: 0.014210\n",
      "Epoch: 4 | Training loss: 0.993882 | Validation loss: 0.009329\n",
      "Finshed the traning at epoch:  4\n"
     ]
    },
    {
     "name": "stderr",
     "output_type": "stream",
     "text": [
      "C:\\Users\\ZHOUQI~1\\AppData\\Local\\Temp/ipykernel_35020/3525837224.py:20: VisibleDeprecationWarning: Creating an ndarray from ragged nested sequences (which is a list-or-tuple of lists-or-tuples-or ndarrays with different lengths or shapes) is deprecated. If you meant to do this, you must specify 'dtype=object' when creating the ndarray.\n",
      "  random_X_tr = np.random.permutation(X_tr)\n",
      "<__array_function__ internals>:5: VisibleDeprecationWarning: Creating an ndarray from ragged nested sequences (which is a list-or-tuple of lists-or-tuples-or ndarrays with different lengths or shapes) is deprecated. If you meant to do this, you must specify 'dtype=object' when creating the ndarray.\n"
     ]
    },
    {
     "name": "stdout",
     "output_type": "stream",
     "text": [
      "Epoch: 0 | Training loss: 0.329009 | Validation loss: 0.118508\n",
      "Epoch: 1 | Training loss: 0.671873 | Validation loss: 0.131506\n",
      "Finshed the traning at epoch:  1\n"
     ]
    },
    {
     "name": "stderr",
     "output_type": "stream",
     "text": [
      "C:\\Users\\ZHOUQI~1\\AppData\\Local\\Temp/ipykernel_35020/3525837224.py:20: VisibleDeprecationWarning: Creating an ndarray from ragged nested sequences (which is a list-or-tuple of lists-or-tuples-or ndarrays with different lengths or shapes) is deprecated. If you meant to do this, you must specify 'dtype=object' when creating the ndarray.\n",
      "  random_X_tr = np.random.permutation(X_tr)\n",
      "<__array_function__ internals>:5: VisibleDeprecationWarning: Creating an ndarray from ragged nested sequences (which is a list-or-tuple of lists-or-tuples-or ndarrays with different lengths or shapes) is deprecated. If you meant to do this, you must specify 'dtype=object' when creating the ndarray.\n"
     ]
    },
    {
     "name": "stdout",
     "output_type": "stream",
     "text": [
      "Epoch: 0 | Training loss: 0.218782 | Validation loss: 0.066782\n",
      "Epoch: 1 | Training loss: 0.395775 | Validation loss: 0.018998\n",
      "Epoch: 2 | Training loss: 0.824203 | Validation loss: 0.006315\n",
      "Epoch: 3 | Training loss: 1.118439 | Validation loss: 0.003790\n",
      "Finshed the traning at epoch:  3\n"
     ]
    },
    {
     "name": "stderr",
     "output_type": "stream",
     "text": [
      "C:\\Users\\ZHOUQI~1\\AppData\\Local\\Temp/ipykernel_35020/3525837224.py:20: VisibleDeprecationWarning: Creating an ndarray from ragged nested sequences (which is a list-or-tuple of lists-or-tuples-or ndarrays with different lengths or shapes) is deprecated. If you meant to do this, you must specify 'dtype=object' when creating the ndarray.\n",
      "  random_X_tr = np.random.permutation(X_tr)\n",
      "<__array_function__ internals>:5: VisibleDeprecationWarning: Creating an ndarray from ragged nested sequences (which is a list-or-tuple of lists-or-tuples-or ndarrays with different lengths or shapes) is deprecated. If you meant to do this, you must specify 'dtype=object' when creating the ndarray.\n"
     ]
    },
    {
     "name": "stdout",
     "output_type": "stream",
     "text": [
      "Epoch: 0 | Training loss: 0.406845 | Validation loss: 0.366495\n",
      "Epoch: 1 | Training loss: 0.564364 | Validation loss: 0.347933\n",
      "Epoch: 2 | Training loss: 0.782263 | Validation loss: 0.111422\n",
      "Epoch: 3 | Training loss: 1.083740 | Validation loss: 0.076951\n",
      "Epoch: 4 | Training loss: 1.306805 | Validation loss: 0.053391\n",
      "Epoch: 5 | Training loss: 1.347888 | Validation loss: 0.038957\n",
      "Epoch: 6 | Training loss: 1.320577 | Validation loss: 0.031991\n",
      "Finshed the traning at epoch:  6\n"
     ]
    }
   ],
   "source": [
    "learning_rate_list = [0.05, 0.1]\n",
    "drop_out_rate_list = [0.4, 0.2]\n",
    "test_score = []\n",
    "hyper_list = []\n",
    "all_list = []\n",
    "\n",
    "for lr in learning_rate_list:\n",
    "    for drop in drop_out_rate_list:\n",
    "        # Initialise the weights of your network \n",
    "        W = network_weights(vocab_size=len(vocab),embedding_dim=300,hidden_dim=[], num_classes=3, init_val = 0.1)\n",
    "            #Replace the weigths of the embedding matrix with w_glove\n",
    "        W[0] = w_glove\n",
    "        W, loss_tr, dev_loss = SGD(X_tr,Y_tr,W,X_dev=X_dev, Y_dev=Y_dev,lr=lr, dropout = drop,freeze_emb=False,tolerance=0.01,epochs=100,print_progress=True)\n",
    "   \n",
    "        preds_te = [np.argmax(forward_pass(x, W, dropout_rate=0.0)['y'])+1 for x,y in zip(X_tr,train_label)]\n",
    "        tr_f1 = f1_score(train_label,preds_te,average='macro')\n",
    "            \n",
    "        preds_te = [np.argmax(forward_pass(x, W, dropout_rate=0.0)['y'])+1 for x,y in zip(X_test,test_label)]\n",
    "        accuracy = accuracy_score(test_label,preds_te)\n",
    "        precision = precision_score(Y_te,preds_te,average='macro')\n",
    "        Recall =recall_score(Y_te,preds_te,average='macro')\n",
    "        F_Score =f1_score(Y_te,preds_te,average='macro')\n",
    "        score = [accuracy, precision, Recall,F_Score]\n",
    "            \n",
    "        test_score.append(accuracy)\n",
    "        all_list.append([accuracy, precision, Recall, F_Score])\n",
    "        hyper = [dim, lr, drop]\n",
    "        hyper_list.append(hyper)"
   ]
  },
  {
   "cell_type": "code",
   "execution_count": 41,
   "metadata": {},
   "outputs": [
    {
     "data": {
      "text/plain": [
       "([[50, 0.05, 0.4], [50, 0.05, 0.2], [50, 0.1, 0.4], [50, 0.1, 0.2]],\n",
       " [0.8776418242491657,\n",
       "  0.8687430478309233,\n",
       "  0.8787541713014461,\n",
       "  0.8765294771968855])"
      ]
     },
     "execution_count": 41,
     "metadata": {},
     "output_type": "execute_result"
    }
   ],
   "source": [
    "hyper_list,  test_score"
   ]
  },
  {
   "cell_type": "code",
   "execution_count": 42,
   "metadata": {},
   "outputs": [
    {
     "name": "stdout",
     "output_type": "stream",
     "text": [
      "The best parameter and the F1-score on test set\n",
      "emb_dim: 50  lr: 0.1  drop_rate: 0.4  Accuracy: 0.8787541713014461 A/P/R/F [0.8787541713014461, 0.8803713043717237, 0.8787328130806392, 0.8788150875916833]\n"
     ]
    }
   ],
   "source": [
    "best_result = max(test_score)\n",
    "best_id = test_score.index(best_result)\n",
    "best_hyper = hyper_list[best_id]\n",
    "best_S = all_list[best_id]\n",
    "print(\"The best parameter and the F1-score on test set\")\n",
    "print(\"emb_dim:\", best_hyper[0], \" lr:\", best_hyper[1],\" drop_rate:\" ,best_hyper[2] ,\" Accuracy:\", best_result, \"A/P/R/F\",best_S)"
   ]
  },
  {
   "cell_type": "markdown",
   "metadata": {},
   "source": [
    "# Extend to support deeper architectures \n",
    "\n",
    "Extend the network to support back-propagation for more hidden layers. You need to modify the `backward_pass` function above to compute gradients and update the weights between intermediate hidden layers. Finally, train and evaluate a network with a deeper architecture. Do deeper architectures increase performance?"
   ]
  },
  {
   "cell_type": "code",
   "execution_count": 43,
   "metadata": {
    "ExecuteTime": {
     "end_time": "2020-04-02T14:58:51.764619Z",
     "start_time": "2020-04-02T14:58:47.483690Z"
    },
    "scrolled": true
   },
   "outputs": [
    {
     "name": "stdout",
     "output_type": "stream",
     "text": [
      "Shape of W0 (2000, 300)\n",
      "Shape of W1 (300, 200)\n",
      "Shape of W2 (200, 100)\n",
      "Shape of W3 (100, 3)\n"
     ]
    },
    {
     "name": "stderr",
     "output_type": "stream",
     "text": [
      "C:\\Users\\ZHOUQI~1\\AppData\\Local\\Temp/ipykernel_35020/3525837224.py:20: VisibleDeprecationWarning: Creating an ndarray from ragged nested sequences (which is a list-or-tuple of lists-or-tuples-or ndarrays with different lengths or shapes) is deprecated. If you meant to do this, you must specify 'dtype=object' when creating the ndarray.\n",
      "  random_X_tr = np.random.permutation(X_tr)\n",
      "<__array_function__ internals>:5: VisibleDeprecationWarning: Creating an ndarray from ragged nested sequences (which is a list-or-tuple of lists-or-tuples-or ndarrays with different lengths or shapes) is deprecated. If you meant to do this, you must specify 'dtype=object' when creating the ndarray.\n"
     ]
    },
    {
     "name": "stdout",
     "output_type": "stream",
     "text": [
      "Epoch: 0 | Training loss: 1.111849 | Validation loss: 1.089938\n",
      "Epoch: 1 | Training loss: 1.116640 | Validation loss: 1.079622\n",
      "Epoch: 2 | Training loss: 1.120942 | Validation loss: 1.067020\n",
      "Epoch: 3 | Training loss: 1.123744 | Validation loss: 1.050615\n",
      "Epoch: 4 | Training loss: 1.124009 | Validation loss: 1.030120\n",
      "Epoch: 5 | Training loss: 1.118252 | Validation loss: 1.002810\n",
      "Epoch: 6 | Training loss: 1.101078 | Validation loss: 0.967197\n",
      "Epoch: 7 | Training loss: 1.064956 | Validation loss: 0.911959\n",
      "Epoch: 8 | Training loss: 1.001134 | Validation loss: 0.811564\n",
      "Epoch: 9 | Training loss: 0.905047 | Validation loss: 0.641497\n",
      "Epoch: 10 | Training loss: 0.777009 | Validation loss: 0.417465\n",
      "Epoch: 11 | Training loss: 0.630871 | Validation loss: 0.219096\n",
      "Epoch: 12 | Training loss: 0.483077 | Validation loss: 0.102057\n",
      "Epoch: 13 | Training loss: 0.358980 | Validation loss: 0.051067\n",
      "Epoch: 14 | Training loss: 0.268189 | Validation loss: 0.029754\n",
      "Epoch: 15 | Training loss: 0.209031 | Validation loss: 0.020858\n",
      "Epoch: 16 | Training loss: 0.168943 | Validation loss: 0.017057\n",
      "Epoch: 17 | Training loss: 0.143193 | Validation loss: 0.014262\n",
      "Epoch: 18 | Training loss: 0.125984 | Validation loss: 0.012564\n",
      "Epoch: 19 | Training loss: 0.115010 | Validation loss: 0.011414\n",
      "Epoch: 20 | Training loss: 0.107237 | Validation loss: 0.010466\n",
      "Epoch: 21 | Training loss: 0.102178 | Validation loss: 0.009678\n",
      "Epoch: 22 | Training loss: 0.099993 | Validation loss: 0.009186\n",
      "Epoch: 23 | Training loss: 0.098542 | Validation loss: 0.008763\n",
      "Epoch: 24 | Training loss: 0.097475 | Validation loss: 0.008180\n",
      "Epoch: 25 | Training loss: 0.097329 | Validation loss: 0.007721\n",
      "Epoch: 26 | Training loss: 0.099256 | Validation loss: 0.007369\n",
      "Epoch: 27 | Training loss: 0.100966 | Validation loss: 0.006972\n",
      "Epoch: 28 | Training loss: 0.102899 | Validation loss: 0.006682\n",
      "Epoch: 29 | Training loss: 0.103548 | Validation loss: 0.006409\n"
     ]
    }
   ],
   "source": [
    "W = network_weights(vocab_size=len(vocab),embedding_dim=300,hidden_dim=[200,100],num_classes=3, init_val = 0.1)\n",
    "W[0] = w_glove\n",
    "for i in range(len(W)):\n",
    "    print('Shape of W'+str(i), W[i].shape)\n",
    "    \n",
    "W, loss_tr, dev_loss = SGD(X_tr,Y_tr,W,X_dev=X_dev, Y_dev=Y_dev,lr= 0.001,dropout=0.2,freeze_emb=True,print_progress=True,\n",
    "tolerance=0.00001,epochs=30)\n"
   ]
  },
  {
   "cell_type": "code",
   "execution_count": 44,
   "metadata": {},
   "outputs": [
    {
     "data": {
      "image/png": "[encoded data removed]",
      "text/plain": [
       "<Figure size 432x288 with 1 Axes>"
      ]
     },
     "metadata": {
      "needs_background": "light"
     },
     "output_type": "display_data"
    }
   ],
   "source": [
    "plt.plot(loss_tr, label='Training loss')\n",
    "plt.plot(dev_loss, label='Validation loss')\n",
    "\n",
    "plt.xlabel('Epochs')\n",
    "plt.ylabel('Loss')\n",
    "plt.title('Training Monitoring\\n(Training and Validation History)')\n",
    "plt.legend()\n",
    "plt.show()"
   ]
  },
  {
   "cell_type": "code",
   "execution_count": 45,
   "metadata": {
    "ExecuteTime": {
     "end_time": "2020-04-02T15:11:51.994986Z",
     "start_time": "2020-04-02T15:11:51.992563Z"
    },
    "scrolled": true
   },
   "outputs": [
    {
     "name": "stdout",
     "output_type": "stream",
     "text": [
      "Accuracy: 0.882091212458287\n",
      "Precision: 0.882560747846966\n",
      "Recall: 0.8820475659606094\n",
      "F1-Score: 0.8816999982916723\n"
     ]
    }
   ],
   "source": [
    "preds_te = [np.argmax(forward_pass(x, W, dropout_rate=0.0)['y']) + 1 \n",
    "            for x,y in zip(X_te,Y_te)]\n",
    "\n",
    "print('Accuracy:', accuracy_score(Y_te,preds_te))\n",
    "print('Precision:', precision_score(Y_te,preds_te,average='macro'))\n",
    "print('Recall:', recall_score(Y_te,preds_te,average='macro'))\n",
    "print('F1-Score:', f1_score(Y_te,preds_te,average='macro'))"
   ]
  },
  {
   "cell_type": "markdown",
   "metadata": {},
   "source": [
    "### Discuss how did you choose model hyperparameters ? \n",
    "The strategies is similar as the previous work, but for saving time we don't too many search."
   ]
  },
  {
   "cell_type": "code",
   "execution_count": 52,
   "metadata": {},
   "outputs": [
    {
     "name": "stderr",
     "output_type": "stream",
     "text": [
      "C:\\Users\\ZHOUQI~1\\AppData\\Local\\Temp/ipykernel_35020/3525837224.py:20: VisibleDeprecationWarning: Creating an ndarray from ragged nested sequences (which is a list-or-tuple of lists-or-tuples-or ndarrays with different lengths or shapes) is deprecated. If you meant to do this, you must specify 'dtype=object' when creating the ndarray.\n",
      "  random_X_tr = np.random.permutation(X_tr)\n",
      "<__array_function__ internals>:5: VisibleDeprecationWarning: Creating an ndarray from ragged nested sequences (which is a list-or-tuple of lists-or-tuples-or ndarrays with different lengths or shapes) is deprecated. If you meant to do this, you must specify 'dtype=object' when creating the ndarray.\n"
     ]
    },
    {
     "name": "stdout",
     "output_type": "stream",
     "text": [
      "Epoch: 0 | Training loss: 1.100476 | Validation loss: 1.096907\n",
      "Epoch: 1 | Training loss: 1.101698 | Validation loss: 1.094838\n",
      "Finshed the traning at epoch:  1\n"
     ]
    },
    {
     "name": "stderr",
     "output_type": "stream",
     "text": [
      "C:\\Users\\ZHOUQI~1\\AppData\\Local\\Temp/ipykernel_35020/3525837224.py:20: VisibleDeprecationWarning: Creating an ndarray from ragged nested sequences (which is a list-or-tuple of lists-or-tuples-or ndarrays with different lengths or shapes) is deprecated. If you meant to do this, you must specify 'dtype=object' when creating the ndarray.\n",
      "  random_X_tr = np.random.permutation(X_tr)\n",
      "<__array_function__ internals>:5: VisibleDeprecationWarning: Creating an ndarray from ragged nested sequences (which is a list-or-tuple of lists-or-tuples-or ndarrays with different lengths or shapes) is deprecated. If you meant to do this, you must specify 'dtype=object' when creating the ndarray.\n"
     ]
    },
    {
     "name": "stdout",
     "output_type": "stream",
     "text": [
      "Epoch: 0 | Training loss: 1.096895 | Validation loss: 1.101516\n",
      "Epoch: 1 | Training loss: 1.096863 | Validation loss: 1.101377\n",
      "Finshed the traning at epoch:  1\n"
     ]
    },
    {
     "name": "stderr",
     "output_type": "stream",
     "text": [
      "C:\\Users\\ZHOUQI~1\\AppData\\Local\\Temp/ipykernel_35020/3525837224.py:20: VisibleDeprecationWarning: Creating an ndarray from ragged nested sequences (which is a list-or-tuple of lists-or-tuples-or ndarrays with different lengths or shapes) is deprecated. If you meant to do this, you must specify 'dtype=object' when creating the ndarray.\n",
      "  random_X_tr = np.random.permutation(X_tr)\n",
      "<__array_function__ internals>:5: VisibleDeprecationWarning: Creating an ndarray from ragged nested sequences (which is a list-or-tuple of lists-or-tuples-or ndarrays with different lengths or shapes) is deprecated. If you meant to do this, you must specify 'dtype=object' when creating the ndarray.\n"
     ]
    },
    {
     "name": "stdout",
     "output_type": "stream",
     "text": [
      "Epoch: 0 | Training loss: 1.105520 | Validation loss: 1.055663\n",
      "Epoch: 1 | Training loss: 0.600050 | Validation loss: 0.156953\n",
      "Epoch: 2 | Training loss: 0.054986 | Validation loss: 0.022260\n",
      "Epoch: 3 | Training loss: 0.029745 | Validation loss: 0.007896\n",
      "Finshed the traning at epoch:  3\n"
     ]
    },
    {
     "name": "stderr",
     "output_type": "stream",
     "text": [
      "C:\\Users\\ZHOUQI~1\\AppData\\Local\\Temp/ipykernel_35020/3525837224.py:20: VisibleDeprecationWarning: Creating an ndarray from ragged nested sequences (which is a list-or-tuple of lists-or-tuples-or ndarrays with different lengths or shapes) is deprecated. If you meant to do this, you must specify 'dtype=object' when creating the ndarray.\n",
      "  random_X_tr = np.random.permutation(X_tr)\n",
      "<__array_function__ internals>:5: VisibleDeprecationWarning: Creating an ndarray from ragged nested sequences (which is a list-or-tuple of lists-or-tuples-or ndarrays with different lengths or shapes) is deprecated. If you meant to do this, you must specify 'dtype=object' when creating the ndarray.\n"
     ]
    },
    {
     "name": "stdout",
     "output_type": "stream",
     "text": [
      "Epoch: 0 | Training loss: 1.097052 | Validation loss: 1.100205\n",
      "Epoch: 1 | Training loss: 1.096117 | Validation loss: 1.099829\n",
      "Finshed the traning at epoch:  1\n"
     ]
    },
    {
     "name": "stderr",
     "output_type": "stream",
     "text": [
      "C:\\Users\\ZHOUQI~1\\AppData\\Local\\Temp/ipykernel_35020/3525837224.py:20: VisibleDeprecationWarning: Creating an ndarray from ragged nested sequences (which is a list-or-tuple of lists-or-tuples-or ndarrays with different lengths or shapes) is deprecated. If you meant to do this, you must specify 'dtype=object' when creating the ndarray.\n",
      "  random_X_tr = np.random.permutation(X_tr)\n",
      "<__array_function__ internals>:5: VisibleDeprecationWarning: Creating an ndarray from ragged nested sequences (which is a list-or-tuple of lists-or-tuples-or ndarrays with different lengths or shapes) is deprecated. If you meant to do this, you must specify 'dtype=object' when creating the ndarray.\n"
     ]
    },
    {
     "name": "stdout",
     "output_type": "stream",
     "text": [
      "Epoch: 0 | Training loss: 0.050567 | Validation loss: 0.000536\n",
      "Epoch: 1 | Training loss: 0.100792 | Validation loss: 0.004568\n",
      "Finshed the traning at epoch:  1\n"
     ]
    },
    {
     "name": "stderr",
     "output_type": "stream",
     "text": [
      "C:\\Users\\ZHOUQI~1\\AppData\\Local\\Temp/ipykernel_35020/3525837224.py:20: VisibleDeprecationWarning: Creating an ndarray from ragged nested sequences (which is a list-or-tuple of lists-or-tuples-or ndarrays with different lengths or shapes) is deprecated. If you meant to do this, you must specify 'dtype=object' when creating the ndarray.\n",
      "  random_X_tr = np.random.permutation(X_tr)\n",
      "<__array_function__ internals>:5: VisibleDeprecationWarning: Creating an ndarray from ragged nested sequences (which is a list-or-tuple of lists-or-tuples-or ndarrays with different lengths or shapes) is deprecated. If you meant to do this, you must specify 'dtype=object' when creating the ndarray.\n"
     ]
    },
    {
     "name": "stdout",
     "output_type": "stream",
     "text": [
      "Epoch: 0 | Training loss: 1.011191 | Validation loss: 1.105835\n",
      "Epoch: 1 | Training loss: 0.018106 | Validation loss: 0.253464\n",
      "Epoch: 2 | Training loss: 0.006815 | Validation loss: 2.840771\n",
      "Finshed the traning at epoch:  2\n"
     ]
    }
   ],
   "source": [
    "learning_rate_list = [0.001,0.01,0.05]\n",
    "drop_out_rate_list = [0.2, 0.4 ]\n",
    "test_score = []\n",
    "hyper_list = []\n",
    "all_list = []\n",
    "\n",
    "for lr in learning_rate_list:\n",
    "    for drop in drop_out_rate_list:\n",
    "        W = network_weights(vocab_size=len(vocab),embedding_dim=300,hidden_dim=[20,100],num_classes=3, init_val = 0.1)\n",
    "            #Replace the weigths of the embedding matrix with w_glove\n",
    "        W[0] = w_glove\n",
    "        W, loss_tr, dev_loss = SGD(X_tr,Y_tr,W,X_dev=X_dev, Y_dev=Y_dev,lr=lr, \n",
    "                                   dropout = drop,freeze_emb=False,tolerance=0.1,epochs=100,print_progress=True)    \n",
    "        # Results and Scores\n",
    "        preds_te = [np.argmax(forward_pass(x, W, dropout_rate=0.0)['y'])+1 for x,y in zip(X_test,test_label)]\n",
    "        accuracy = accuracy_score(test_label,preds_te)\n",
    "        precision = precision_score(Y_te,preds_te,average='macro')\n",
    "        Recall =recall_score(Y_te,preds_te,average='macro')\n",
    "        F_Score =f1_score(Y_te,preds_te,average='macro')\n",
    "        score = [accuracy, precision, Recall,F_Score]\n",
    "            \n",
    "        test_score.append(accuracy)\n",
    "        all_list.append([accuracy, precision, Recall, F_Score])\n",
    "        hyper = [dim, lr, drop]\n",
    "        hyper_list.append(hyper)"
   ]
  },
  {
   "cell_type": "code",
   "execution_count": 53,
   "metadata": {},
   "outputs": [
    {
     "name": "stdout",
     "output_type": "stream",
     "text": [
      "The best parameter and the F1-score on test set\n",
      "emb_dim: 50  lr: 0.05  drop_rate: 0.2  Accuracy: 0.8798665183537263 A/P/R/F [0.8798665183537263, 0.8831812314735394, 0.8798587885544408, 0.88013387672361]\n"
     ]
    }
   ],
   "source": [
    "best_result = max(test_score)\n",
    "best_id = test_score.index(best_result)\n",
    "best_hyper = hyper_list[best_id]\n",
    "best_S = all_list[best_id]\n",
    "print(\"The best parameter and the F1-score on test set\")\n",
    "print(\"emb_dim:\", best_hyper[0], \" lr:\", best_hyper[1],\" drop_rate:\" ,best_hyper[2] ,\" Accuracy:\", best_result, \"A/P/R/F\",best_S)"
   ]
  },
  {
   "cell_type": "markdown",
   "metadata": {},
   "source": [
    "## Full Results\n",
    "\n",
    "Add your final results here:\n",
    "\n",
    "| Model | Precision  | Recall  | F1-Score  | Accuracy\n",
    "|:-:|:-:|:-:|:-:|:-:|\n",
    "| Average Embedding  | 0.8527484467627605| 0.8498179115570421| 0.8497295462748925|0.8498331479421579|\n",
    "| Average Embedding (Pre-trained)  | 0.8803713043717237 | 0.8787328130806392 |0.8788150875916833|0.8787541713014461|\n",
    "| Average Embedding (Pre-trained) + X hidden layers    | 0.882560747846966  | 0.8820475659606094  |  0.8816999982916723  |  0.882091212458287 |\n",
    "\n",
    "Precision: \n",
    "Recall: \n",
    "F1-Score:\n",
    "\n",
    "Please discuss why your best performing model is better than the rest."
   ]
  },
  {
   "cell_type": "markdown",
   "metadata": {
    "scrolled": true
   },
   "source": [
    "The results of table clear show that the Average Embedding (Pre-trained) + X hidden layers > Average Embedding (Pre-trained) > Average Embedding.\n",
    "\n",
    "This is reasonable result because Pre_trained model embedding W matrix was train by a large text corpus so it should have better geralization ability and have a better initilization on model when trained.\n",
    "\n",
    "Deeper architectures architectures has more layers can generate more detials features， the deeper network can also provide modeling of complex nonlinear systems(like this classification NLP problem), and the additional layers provide a higher level of abstraction for the model, thus improving the ability of the model. However this may also have significant increase on the complexity. That may be the reason that we failed to have a large optimisation on grid search.\n",
    "\n",
    "In general, all model have accurcy higher than 85%， they are all avaliable and preformed good."
   ]
  }
 ],
 "metadata": {
  "kernelspec": {
   "display_name": "Python 3 (ipykernel)",
   "language": "python",
   "name": "python3"
  },
  "language_info": {
   "codemirror_mode": {
    "name": "ipython",
    "version": 3
   },
   "file_extension": ".py",
   "mimetype": "text/x-python",
   "name": "python",
   "nbconvert_exporter": "python",
   "pygments_lexer": "ipython3",
   "version": "3.9.7"
  }
 },
 "nbformat": 4,
 "nbformat_minor": 2
}
